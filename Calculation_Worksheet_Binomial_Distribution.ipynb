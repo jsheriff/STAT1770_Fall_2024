{
 "cells": [
  {
   "cell_type": "markdown",
   "metadata": {
    "editable": true,
    "slideshow": {
     "slide_type": ""
    },
    "tags": []
   },
   "source": [
    "# Calculation Worksheet: Binomial Distribution"
   ]
  },
  {
   "cell_type": "markdown",
   "metadata": {
    "editable": true,
    "slideshow": {
     "slide_type": "slide"
    },
    "tags": []
   },
   "source": [
    "## Objectives\n",
    "This notebook may be used to complete probability calculations for the binomial distribution.\n",
    "* determining probability for some value, $x$, from a binomial distribution, ie determining $P(X = x)$ \n",
    "    * `dbinom`\n",
    "* determining cumulative probability/percentile for some value, $q$, from a binomial distribution, ie determining $P(X \\le q)$ \n",
    "    * `pbinom`\n",
    "* determining cutoff for some cumulative probability/percentile, $p$, from a binomial distribution, ie determining $x$ such that $P(X \\le x) = p$\n",
    "  * `qbinom`"
   ]
  },
  {
   "cell_type": "markdown",
   "metadata": {},
   "source": [
    "#### `dbinom`\n",
    "The function `dbinom` will calculate $P(X = x)$, for some value $x$ for a binomial distribution with a given number of trials and probability of success on each trial. `dbinom` will give the probability of a number of successes (`x`), from a number of total trials (`size`), based on the probability of success (`prob`). The `dbinom` function takes three arguments:  \n",
    "\n",
    "`x`: value at which probability is calculated, $P(X = x)$  \n",
    "`size`: number of trials  \n",
    "`prob`: probability of success on each trial  "
   ]
  },
  {
   "cell_type": "markdown",
   "metadata": {},
   "source": [
    "#### Example \n",
    "\n",
    "On the way to work, a commuter encounters one stoplight. The probability the commuter encounters a red light on the way to work is 0.3. Over the course of 20 days of commuting, find the probability that the commuter encounters exactly 8 red lights on the way to work. If $X$ represents the number of red lights in 20 days of commuting, then $X \\sim Binomial(n=20, p=0.3)$, and we are interested in $P(X=8)$."
   ]
  },
  {
   "cell_type": "code",
   "execution_count": null,
   "metadata": {},
   "outputs": [],
   "source": [
    "dbinom(8, size = 20, prob = 0.3)"
   ]
  },
  {
   "cell_type": "markdown",
   "metadata": {},
   "source": [
    "#### `pbinom`\n",
    "The function `pbinom` will calculate $P(X \\le q)$, for some value $q$ for a binomial distribution with a given number of trials and probability of success on each trial. `pbinom` will give the probability of less than or equal to a given number of successes (`q`), from a number of total trials (`size`), and a probability of success (`prob`). The `pbinom` function takes three (or four) arguments:  \n",
    "\n",
    "`q`: value at which cumulative probability/percentile is calculated, $P(X \\le q)$  \n",
    "`size`: number of trials  \n",
    "`prob`: probability of success on each trial  \n",
    "`lower.tail`: optional argument. Default is `lower.tail = TRUE`. If `lower.tail = FALSE`, `pbinom` will calculate $P(X > q)$"
   ]
  },
  {
   "cell_type": "markdown",
   "metadata": {},
   "source": [
    "#### Example \n",
    "\n",
    "On the way to work, a commuter encounters one stoplight. The probability the commuter encounters a red light on the way to work is 0.3. Over the course of 20 days of commuting, find the probability that the commuter encounters **at most** 8 red lights on the way to work. If $X$ represents the number of red lights in 20 days of commuting, then $X \\sim Binomial(n=20, p=0.3)$, and we are interested in $P(X \\le 8)$."
   ]
  },
  {
   "cell_type": "code",
   "execution_count": null,
   "metadata": {},
   "outputs": [],
   "source": [
    "pbinom(8, size = 20, prob = 0.3)"
   ]
  },
  {
   "cell_type": "markdown",
   "metadata": {},
   "source": [
    "#### Example \n",
    "\n",
    "On the way to work, a commuter encounters one stoplight. The probability the commuter encounters a red light on the way to work is 0.3. Over the course of 20 days of commuting, find the probability that the commuter encounters **less than** 8 red lights on the way to work. If $X$ represents the number of red lights in 20 days of commuting, then $X \\sim Binomial(n=20, p=0.3)$, and we are interested in $P(X < 8) = P(X \\le 8) - P(X=8) = P(X \\le 7)$."
   ]
  },
  {
   "cell_type": "code",
   "execution_count": null,
   "metadata": {},
   "outputs": [],
   "source": [
    "pbinom(7, size = 20, prob = 0.3)"
   ]
  },
  {
   "cell_type": "code",
   "execution_count": null,
   "metadata": {},
   "outputs": [],
   "source": [
    "pbinom(8, size = 20, prob = 0.3) - dbinom(7, size = 20, prob = 0.3)"
   ]
  },
  {
   "cell_type": "markdown",
   "metadata": {},
   "source": [
    "#### `qbinom`\n",
    "The function `qbinom` will calculate cutoff values in the binomial distribution for a given cumulative probability/percentile, `p`. That is, given a cumulative probability/percentile, `p`, for a binomial distribution, `qbinom` will find `x` such that $P(X \\le x) = p$. The `qbinom` function takes three (or four) arguments:  \n",
    "\n",
    "`p`: the desired percentile for the distribution, ie $P(X \\le x) = p$  \n",
    "`size`: number of trials  \n",
    "`prob`: probability of success on each trial  \n",
    "`lower.tail`: optional argument. Default is `lower.tail = TRUE`. If `lower.tail = FALSE`, `qbinom` will calculate `x` such that $P(X > x) = p$  "
   ]
  },
  {
   "cell_type": "markdown",
   "metadata": {},
   "source": [
    "#### Example \n",
    "\n",
    "On the way to work, a commuter encounters one stoplight. The probability the commuter encounters a red light on the way to work is 0.3. Suppose each month involves 20 days of commuting. How many red lights would the commuter need to encounter for that month to be among the worst 10% in terms of number of red lights encountered (more red lights being a worse outcome than fewer red lights). If $X$ represents the number of red lights in 20 days of commuting, then $X \\sim Binomial(n=20, p=0.3)$, and we are interested $x$ such that $P(X > x) = 0.10$ or $P(X \\le x)=0.90$."
   ]
  },
  {
   "cell_type": "code",
   "execution_count": null,
   "metadata": {},
   "outputs": [],
   "source": [
    "qbinom(0.9, size = 20, prob = 0.3)"
   ]
  },
  {
   "cell_type": "markdown",
   "metadata": {},
   "source": [
    "The probability that the commuter will encounter at most 9 red lights in 20 commutes is at least 0.90. Any more than 9 red lights would put the month among the worts 10% of commuting months."
   ]
  },
  {
   "cell_type": "markdown",
   "metadata": {},
   "source": [
    "#### Use the code cells below to complete calculations for the binomial distribution using `dbinom`,`pbinom`, or `qbinom` as required. <br><br> You can duplicate code cells, or add blank code cells as necessary. "
   ]
  },
  {
   "cell_type": "code",
   "execution_count": null,
   "metadata": {},
   "outputs": [],
   "source": []
  },
  {
   "cell_type": "code",
   "execution_count": null,
   "metadata": {},
   "outputs": [],
   "source": []
  },
  {
   "cell_type": "code",
   "execution_count": null,
   "metadata": {},
   "outputs": [],
   "source": []
  },
  {
   "cell_type": "code",
   "execution_count": null,
   "metadata": {},
   "outputs": [],
   "source": []
  },
  {
   "cell_type": "code",
   "execution_count": null,
   "metadata": {},
   "outputs": [],
   "source": []
  }
 ],
 "metadata": {
  "kernelspec": {
   "display_name": "R",
   "language": "R",
   "name": "ir"
  },
  "language_info": {
   "codemirror_mode": "r",
   "file_extension": ".r",
   "mimetype": "text/x-r-source",
   "name": "R",
   "pygments_lexer": "r",
   "version": "4.3.3"
  }
 },
 "nbformat": 4,
 "nbformat_minor": 4
}
