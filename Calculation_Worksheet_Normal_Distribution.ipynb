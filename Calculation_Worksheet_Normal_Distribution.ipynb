{
 "cells": [
  {
   "cell_type": "markdown",
   "metadata": {
    "editable": true,
    "slideshow": {
     "slide_type": ""
    },
    "tags": []
   },
   "source": [
    "# Calculation Worksheet: Normal Distribution"
   ]
  },
  {
   "cell_type": "markdown",
   "metadata": {
    "editable": true,
    "slideshow": {
     "slide_type": "slide"
    },
    "tags": []
   },
   "source": [
    "## Objectives\n",
    "This notebook may be used to complete probability calculations for the normal distribution.\n",
    "* determining probability/percentile for some value, $q$, from a normal distribution, ie determining $P(X \\le q)$ \n",
    "    * `pnorm`\n",
    "* determining cutoff for some probability/percentile, $p$, from a normal distribution, ie determining $x$ such that $P(X \\le x) = p$\n",
    "  * `qnorm`"
   ]
  },
  {
   "cell_type": "markdown",
   "metadata": {},
   "source": [
    "#### `pnorm`\n",
    "The function `pnorm` will calculate $P(X \\le q)$, for some value $q$ for a normal distribution with a given mean and standard deviation. The default mean is 0 and default standard deviation is 1, but you can specify any mean and standard deviation you wish. `lower.tail` is an optional argument that determines whether `pnorm` calculates $P(X \\le q)$ or $P(X > q)$. The `pnorm` function takes three (or four) arguments:  \n",
    "\n",
    "`q`: value at which probability is calculated, $P(X \\le q)$  \n",
    "`mean`: the mean of the normal distribution; default mean is 0  \n",
    "`sd`: the standard deviation of the normal distribution; default standard deviation is 1  \n",
    "`lower.tail`: optional argument. Default is `lower.tail = TRUE`. If `lower.tail = FALSE`, `pnorm` will calculate $P(X > q)$"
   ]
  },
  {
   "cell_type": "markdown",
   "metadata": {},
   "source": [
    "#### `qnorm`\n",
    "The function `qnorm` will calculate critical values (cutoff values) in the normal distribution for a given percentile, `p`, with a given mean and a given standard deviation. That is, given a percentile, `p`, for a normal distribution, `qnorm` will find `x` such that $P(X \\le x) = p$. Default mean is 0 and default standard deviation is 1. `lower.tail` is an optional argument. The `qnorm` function takes three (or four) arguments:  \n",
    "`p`: the desired percentile for the distribution, ie $P(X \\le x) = p$  \n",
    "`mean`: the mean of the normal distribution; default mean is 0  \n",
    "`sd`: the standard deviation of the normal distribution; default standard deviation is 1  \n",
    "`lower.tail`: optional argument. Default is `lower.tail = TRUE`. If `lower.tail = FALSE`, `qnorm` will calculate `x` such that $P(X > x) = p$  "
   ]
  },
  {
   "cell_type": "markdown",
   "metadata": {},
   "source": [
    "#### Use the code cells below to complete calculations for the normal distribution using `pnorm` or `qnorm` as required. <br><br> You can duplicate code cells, or add blank code cells as necessary. "
   ]
  },
  {
   "cell_type": "code",
   "execution_count": null,
   "metadata": {},
   "outputs": [],
   "source": []
  },
  {
   "cell_type": "code",
   "execution_count": null,
   "metadata": {},
   "outputs": [],
   "source": []
  },
  {
   "cell_type": "code",
   "execution_count": null,
   "metadata": {},
   "outputs": [],
   "source": []
  },
  {
   "cell_type": "code",
   "execution_count": null,
   "metadata": {},
   "outputs": [],
   "source": []
  },
  {
   "cell_type": "code",
   "execution_count": null,
   "metadata": {},
   "outputs": [],
   "source": []
  }
 ],
 "metadata": {
  "kernelspec": {
   "display_name": "R",
   "language": "R",
   "name": "ir"
  },
  "language_info": {
   "codemirror_mode": "r",
   "file_extension": ".r",
   "mimetype": "text/x-r-source",
   "name": "R",
   "pygments_lexer": "r",
   "version": "4.3.3"
  }
 },
 "nbformat": 4,
 "nbformat_minor": 4
}
