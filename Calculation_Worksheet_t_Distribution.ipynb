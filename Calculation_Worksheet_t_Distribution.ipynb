{
 "cells": [
  {
   "cell_type": "markdown",
   "metadata": {
    "editable": true,
    "slideshow": {
     "slide_type": ""
    },
    "tags": []
   },
   "source": [
    "# Calculation Worksheet: t Distribution"
   ]
  },
  {
   "cell_type": "markdown",
   "metadata": {
    "editable": true,
    "slideshow": {
     "slide_type": "slide"
    },
    "tags": []
   },
   "source": [
    "## Objectives\n",
    "This notebook may be used to complete probability calculations for the t distribution.\n",
    "* determining probability/percentile for some value, $q$, from a t distribution, ie determining $P(X \\le q)$ \n",
    "    * `pt`"
   ]
  },
  {
   "cell_type": "markdown",
   "metadata": {},
   "source": [
    "#### `pt`\n",
    "The function `pt` will calculate $P(X \\le q)$, for some value $q$ for a t distribution with a given degrees of freedom. `lower.tail` is an optional argument that determines whether `pt` calculates $P(X \\le q)$ or $P(X > q)$. The `pt` function takes two (or three) arguments:  \n",
    "\n",
    "`q`: value at which probability is calculated, $P(X \\le q)$  \n",
    "`df`: the degrees of freedom of the t distribution; $df = n - 1$  \n",
    "`lower.tail`: optional argument. Default is `lower.tail = TRUE`. If `lower.tail = FALSE`, `pt` will calculate $P(X > q)$"
   ]
  },
  {
   "cell_type": "markdown",
   "metadata": {},
   "source": [
    "#### Use the code cells below to complete calculations for the t distribution using `pt`. <br><br> You can duplicate code cells, or add blank code cells as necessary. "
   ]
  },
  {
   "cell_type": "code",
   "execution_count": null,
   "metadata": {},
   "outputs": [],
   "source": []
  },
  {
   "cell_type": "code",
   "execution_count": null,
   "metadata": {},
   "outputs": [],
   "source": []
  },
  {
   "cell_type": "code",
   "execution_count": null,
   "metadata": {},
   "outputs": [],
   "source": []
  },
  {
   "cell_type": "code",
   "execution_count": null,
   "metadata": {},
   "outputs": [],
   "source": []
  }
 ],
 "metadata": {
  "kernelspec": {
   "display_name": "R",
   "language": "R",
   "name": "ir"
  },
  "language_info": {
   "codemirror_mode": "r",
   "file_extension": ".r",
   "mimetype": "text/x-r-source",
   "name": "R",
   "pygments_lexer": "r",
   "version": "4.3.3"
  }
 },
 "nbformat": 4,
 "nbformat_minor": 4
}
