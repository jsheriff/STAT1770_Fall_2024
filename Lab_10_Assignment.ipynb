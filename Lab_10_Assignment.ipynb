{
 "cells": [
  {
   "cell_type": "markdown",
   "metadata": {
    "slideshow": {
     "slide_type": "slide"
    }
   },
   "source": [
    "# Lab 10 Assignment\n",
    "\n",
    "#### Lab 10 Assignment is due on Thursday December 5 at 8:00 pm. \n",
    "\n",
    "#### Complete this notebook, by introducing and executing the required code and answering the related questions.\n",
    "\n",
    "#### When you have finished your work and wish to submit your assignment, download this notebook as a pdf file File > Save and Export Notebook As > PDF or File > Print > Save as PDF.  Submit the pdf file to Lab 10 Assignment in Crowdmark.\n",
    "\n",
    "#### You can copy, paste, and modify code from previous labs if you wish, as opposed to writing code from scratch. Open the previous lab and highlight the code you want. Then copy and paste the code into this assignment and make the necessary modifications.\n",
    "\n",
    "#### If you have questions, please ask.\n",
    "\n",
    "---"
   ]
  },
  {
   "cell_type": "markdown",
   "metadata": {},
   "source": [
    "## Load Data: "
   ]
  },
  {
   "cell_type": "code",
   "execution_count": 1,
   "metadata": {
    "deletable": false,
    "editable": false
   },
   "outputs": [],
   "source": [
    "download.file(\"http://www.openintro.org/data/rda/births14.rda\",destfile = \"births14.rda\")\n",
    "load(\"births14.rda\")"
   ]
  },
  {
   "cell_type": "markdown",
   "metadata": {},
   "source": [
    "The `download.file` function and `load` function are used to import the dataset that will be used in the assignment. The data that is available to you is called `births14`. These commands instruct R to access the OpenIntro website and retrieve some data, which is in a file called `births14.rda`. The .rda indicates a file format, like .csv, .txt etc. R is capable of importing files of various formats (using the appropriate command). The `births14` dataset, which is contained within `births14.rda` is already in a format native to R.  "
   ]
  },
  {
   "cell_type": "markdown",
   "metadata": {},
   "source": [
    "This lab will make use of the `inference` function that was previously used in the Practice Lab. As with the Practice Lab, we will use the `source` function to load the `inference_1770.R` file which contains the `inference` function."
   ]
  },
  {
   "cell_type": "code",
   "execution_count": 2,
   "metadata": {
    "deletable": false,
    "editable": false
   },
   "outputs": [],
   "source": [
    "source(\"inference_1770.R\")"
   ]
  },
  {
   "cell_type": "markdown",
   "metadata": {},
   "source": [
    "## Data Information:\n",
    "\n",
    "### Data Set:\n",
    "\n",
    "#### Name: #### \n",
    "* `births14`: random sample of 1000 U.S. births from 2014\n",
    "\n",
    "\n",
    "#### Variables: ####\n",
    "\n",
    "The variables included in the dataset are  \n",
    "\n",
    "* `fage`: Father's age in years.\n",
    "* `mage`: Mother's age in years.\n",
    "* `mature`: Maturity status of mother.\n",
    "* `weeks`: Length of pregnancy in weeks.\n",
    "* `premie`: Whether the birth was classified as premature (premie) or full-term.\n",
    "* `visits`: Number of hospital visits during pregnancy.\n",
    "* `gained`: Weight gained by mother during pregnancy in pounds.\n",
    "* `weight`: Weight of the baby at birth in pounds.\n",
    "* `lowbirthweight`: Whether baby was classified as low birthweight (low) or not (not low).\n",
    "* `sex`: Sex of the baby, female or male.\n",
    "* `habit`: Status of the mother as a nonsmoker or a smoker.\n",
    "* `marital`: Whether mother is married or not married at birth.\n",
    "* `whitemom`: Whether mom is white or not white.\n",
    "\n"
   ]
  },
  {
   "cell_type": "markdown",
   "metadata": {
    "deletable": false,
    "slideshow": {
     "slide_type": "slide"
    }
   },
   "source": [
    "## U.S. Births in 2014\n",
    "\n",
    "Every year, the US releases to the public a large data set containing information on births recorded in the country. This data set has been of interest to medical researchers who are studying the relation between habits and practices of expectant mothers and the birth of their children. This is a random sample of 1,000 cases from the data set released in 2014. \n",
    "\n",
    "---"
   ]
  },
  {
   "cell_type": "markdown",
   "metadata": {},
   "source": [
    "We could use some combination of `head`, `tail`, `dim`, `names`, `str` to begin exploring the `births14` dataset."
   ]
  },
  {
   "cell_type": "code",
   "execution_count": null,
   "metadata": {
    "deletable": false,
    "editable": false
   },
   "outputs": [],
   "source": [
    "head(births14)"
   ]
  },
  {
   "cell_type": "markdown",
   "metadata": {},
   "source": [
    "***It is generally asserted that the average length of human pregnancies is 280 days, or 40 weeks. We are interested in determining whether our sample data provides convincing evidence that the average length of human pregnancies differs from 40 weeks.***"
   ]
  },
  {
   "cell_type": "markdown",
   "metadata": {
    "deletable": false,
    "editable": false
   },
   "source": [
    "### Exercise 1:  Create a histogram that displays the length of the pregnancies, `weeks`, in our sample. (2 marks)"
   ]
  },
  {
   "cell_type": "code",
   "execution_count": null,
   "metadata": {
    "deletable": false,
    "editable": true
   },
   "outputs": [],
   "source": []
  },
  {
   "cell_type": "markdown",
   "metadata": {
    "deletable": false,
    "editable": false
   },
   "source": [
    "### Exercise 2:  Use an appropriate function to calculate the average length of pregnancy in our sample. Report your result. (2 marks)"
   ]
  },
  {
   "cell_type": "code",
   "execution_count": null,
   "metadata": {
    "deletable": false,
    "editable": true
   },
   "outputs": [],
   "source": []
  },
  {
   "cell_type": "markdown",
   "metadata": {
    "deletable": false,
    "editable": true
   },
   "source": [
    "### Answer:  "
   ]
  },
  {
   "cell_type": "markdown",
   "metadata": {},
   "source": [
    "#### Central Limit Theorem conditions <br><br> Independence: We have a random sample of births and the sample is not more than 10% of the population <br><br> Normality/Sample size large enough: <br><br> * The histogram suggests that the distribution of length of pregnancy might be slightly left skewed, suggesting that the underlying population distribution is not nearly normal. However, the sample size is certainly large enough, $n=1000 \\ge 30$, for the central limit theorem to hold. Note also, that there are no extreme outliers.  <br><br> Therefore, the CLT conditions are satisfied in this case."
   ]
  },
  {
   "cell_type": "markdown",
   "metadata": {
    "deletable": false,
    "editable": false
   },
   "source": [
    "### Exercise 3:  Use the `inference` function to conduct a hypothesis test for the null hypothesis that the average length of pregnancy among all U.S. births (in 2014) is 40 weeks versus the alternative that the average length differs from 40 weeks. (2 marks)"
   ]
  },
  {
   "cell_type": "code",
   "execution_count": null,
   "metadata": {
    "deletable": false,
    "editable": true
   },
   "outputs": [],
   "source": []
  },
  {
   "cell_type": "markdown",
   "metadata": {
    "deletable": false,
    "editable": false
   },
   "source": [
    "### Exercise 4:  Report the value of the test statistic and the p-value associated with the test (2 marks) "
   ]
  },
  {
   "cell_type": "markdown",
   "metadata": {
    "deletable": false,
    "editable": true
   },
   "source": [
    "### Answer:  "
   ]
  },
  {
   "cell_type": "markdown",
   "metadata": {
    "deletable": false,
    "editable": false
   },
   "source": [
    "### Exercise 5:  Briefly explain whether there is strong evidence that that the average length of pregnancy among all U.S. births (in 2014) differs from 40 weeks. (You may use a 0.05 significance level, $\\alpha = 0.05$.) (2 marks)"
   ]
  },
  {
   "cell_type": "markdown",
   "metadata": {
    "deletable": false,
    "editable": true
   },
   "source": [
    "### Answer: "
   ]
  },
  {
   "cell_type": "markdown",
   "metadata": {
    "deletable": false,
    "editable": false
   },
   "source": [
    "### Exercise 6:  Use the `inference` function to construct a 95% confidence interval for average length of pregnancy, `weeks`, among all U.S. births. (2 marks)"
   ]
  },
  {
   "cell_type": "code",
   "execution_count": null,
   "metadata": {
    "deletable": false,
    "editable": true
   },
   "outputs": [],
   "source": []
  },
  {
   "cell_type": "markdown",
   "metadata": {
    "deletable": false,
    "editable": false
   },
   "source": [
    "### Exercise 7:  Interpret the confidence interval in the context of the data. (2 marks)"
   ]
  },
  {
   "cell_type": "markdown",
   "metadata": {
    "deletable": false,
    "editable": true
   },
   "source": [
    "### Answer: "
   ]
  },
  {
   "cell_type": "markdown",
   "metadata": {
    "deletable": false,
    "editable": false
   },
   "source": [
    "### Exercise 8:  Do your results from the hypothesis test and the confidence interval agree? Explain your reasoning. (3 marks)"
   ]
  },
  {
   "cell_type": "markdown",
   "metadata": {
    "deletable": false,
    "editable": true
   },
   "source": [
    "### Answer: "
   ]
  },
  {
   "cell_type": "markdown",
   "metadata": {},
   "source": [
    "- **When you have finished your work and wish to submit your lab, you need to download this notebook as a pdf file. There are two common ways to do this.** \n",
    "1) **File > Save and Export Notebook As > PDF.**\n",
    "2) **File > Print > Save As PDF.**\n",
    "- **Submit the pdf file to Lab 10 in Crowdmark.**\n",
    "\n",
    "\n",
    "#### It is important to save your work, exit the notebook, and logout of syzygy when you are done.\n",
    "\n",
    "- **Select File > Save Notebook or select the Save icon above to save your work.**\n",
    "- **To exit the notebook, select File > Close and Shutdown Notebook.**\n",
    "- **Select File > Log Out.**"
   ]
  }
 ],
 "metadata": {
  "kernelspec": {
   "display_name": "R",
   "language": "R",
   "name": "ir"
  },
  "language_info": {
   "codemirror_mode": "r",
   "file_extension": ".r",
   "mimetype": "text/x-r-source",
   "name": "R",
   "pygments_lexer": "r",
   "version": "4.3.3"
  }
 },
 "nbformat": 4,
 "nbformat_minor": 4
}
