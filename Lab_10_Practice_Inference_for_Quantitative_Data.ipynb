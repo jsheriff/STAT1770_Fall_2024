{
 "cells": [
  {
   "cell_type": "markdown",
   "metadata": {},
   "source": [
    "# Lab 10 Practice: Inference for quantitative data"
   ]
  },
  {
   "cell_type": "markdown",
   "metadata": {
    "editable": true,
    "jp-MarkdownHeadingCollapsed": true,
    "slideshow": {
     "slide_type": ""
    },
    "tags": []
   },
   "source": [
    "## Reminder - working with notebooks\n",
    "\n",
    "#### 1) It is important to save your work, exit the notebook, and logout of syzygy whenever you are finished working on the notebook for that session. Simply closing the window in which you are working will leave the notebook running which can produce some minor problems when you next try to log in to resume working on the notebook.\n",
    "\n",
    "- **Select File > Save Notebook or select the Save icon above to save your work.**\n",
    "- **To exit the notebook, select File > Close and Shutdown Notebook.**\n",
    "- **Select File > Log Out.**\n",
    "\n",
    "\n",
    "#### 2) When you resume your work on a notebook, your previous work/output may still be displayed, but none of your previous work is maintained in memory accessible by the notebook. In particular, you will need to load the dataset again in order to continue working with the data. One easy way to refresh your notebook is to go to the notebook cell where you left off and do the following.\n",
    "\n",
    "- **Select Kernel > Restart Kernel and Run up to Selected Cell.**\n",
    "#### This will run all of the code in your notebook up to the selected cell."
   ]
  },
  {
   "cell_type": "markdown",
   "metadata": {
    "slideshow": {
     "slide_type": "slide"
    }
   },
   "source": [
    "## Objectives\n",
    "The objectives of this tutorial/lab are to explore inference procedures such as confidence intervals and hypothesis tests. The R function `inference` will be used to construct the confidence intervals and perform the hypothesis tests. The emphasis in this lab will be on the sample mean and population mean.\n",
    "\n",
    "* Numerical summaries of quantitative variables\n",
    "* Graphical summaries of quantitative variables\n",
    "* Confidence interval for population mean  \n",
    "* Hypothesis test for population mean  \n",
    "---"
   ]
  },
  {
   "cell_type": "markdown",
   "metadata": {},
   "source": [
    "## Load Data: "
   ]
  },
  {
   "cell_type": "code",
   "execution_count": null,
   "metadata": {},
   "outputs": [],
   "source": [
    "download.file(\"http://www.openintro.org/data/rda/acs12.rda\", destfile = \"acs12.rda\")\n",
    "load(\"acs12.rda\")"
   ]
  },
  {
   "cell_type": "markdown",
   "metadata": {},
   "source": [
    "The `download.file` and `load` functions are used to import the dataset that will be used in the tutorial. The data that is available to you is called `acs12`."
   ]
  },
  {
   "cell_type": "code",
   "execution_count": null,
   "metadata": {},
   "outputs": [],
   "source": [
    "source(\"inference_1770.R\")"
   ]
  },
  {
   "cell_type": "markdown",
   "metadata": {},
   "source": [
    "In addition to loading the data, you must also load the `inference_1770.R` file. This will allow you to use the `inference` function for confidence intervals and hypothesis tests."
   ]
  },
  {
   "cell_type": "markdown",
   "metadata": {
    "slideshow": {
     "slide_type": "slide"
    }
   },
   "source": [
    "## Data Information:\n",
    "\n",
    "### Data Set:\n",
    "\n",
    "Today we will be using data from the 2012 American Community Survey. Every year the U.S. Census Bureau contacts over 3.5 million households to participate in the American Community Survey (ACS). The survey provides vital information on a yearly basis about the United States and its people. Information from the survey generates data that help determine how more than $675 billion in federal and state funds are distributed each year. \n",
    "\n",
    "The `acs12` dataset contains responses from a random sample of 2000 U.S. adults on 13 variables.\n",
    "\n",
    " \n",
    "#### Name: #### \n",
    "* `acs12` - American Community Survey data from 2,000 U.S. adults.\n",
    "\n",
    "#### Variables: ####\n",
    "* `income` - Annual income\n",
    "* `employment` - Employment status.\n",
    "* `hrs_work` - Hours worked per week.\n",
    "* `race` - Race.\n",
    "* `age` - Age, in years.\n",
    "* `gender` - Gender.\n",
    "* `citizen` - Whether the person is a U.S. citizen.\n",
    "* `time_to_work` - Travel time to work, in minutes.\n",
    "* `lang` - Language spoken at home.\n",
    "* `married` - Whether the person is married.\n",
    "* `edu` - Education level.\n",
    "* `disability` - Whether the person is disabled.\n",
    "* `birth_qrtr` - The quarter of the year that the person was born, e.g. Jan thru Mar."
   ]
  },
  {
   "cell_type": "markdown",
   "metadata": {
    "slideshow": {
     "slide_type": "slide"
    }
   },
   "source": [
    "## Getting Started\n",
    "\n",
    "R stores data in data frames, which you might think of as a type of spreadsheet. Each row is a different observation (a different subject) and each column is a different variable."
   ]
  },
  {
   "cell_type": "markdown",
   "metadata": {},
   "source": [
    "Use the `head` function and/or `tail` function and/or `str` function and/or `dim` function and/or `summary` function and/or `names` function to begin exploring the `acs12` dataframe."
   ]
  },
  {
   "cell_type": "code",
   "execution_count": null,
   "metadata": {},
   "outputs": [],
   "source": [
    "head(acs12)"
   ]
  },
  {
   "cell_type": "code",
   "execution_count": null,
   "metadata": {},
   "outputs": [],
   "source": [
    "dim(acs12)"
   ]
  },
  {
   "cell_type": "code",
   "execution_count": null,
   "metadata": {},
   "outputs": [],
   "source": [
    "summary(acs12)"
   ]
  },
  {
   "cell_type": "markdown",
   "metadata": {},
   "source": [
    "There are many observations that have missing data. Ordinarily one would want to be careful about dealing with missing data. However, we are simply going to use the `na.omit` function to remove all observations with missing data and create a new dataset called `acs`."
   ]
  },
  {
   "cell_type": "code",
   "execution_count": null,
   "metadata": {},
   "outputs": [],
   "source": [
    "acs  = na.omit(acs12)"
   ]
  },
  {
   "cell_type": "code",
   "execution_count": null,
   "metadata": {},
   "outputs": [],
   "source": [
    "dim(acs)"
   ]
  },
  {
   "cell_type": "markdown",
   "metadata": {},
   "source": [
    "The revised dataset includes 783 observations."
   ]
  },
  {
   "cell_type": "markdown",
   "metadata": {},
   "source": [
    "The variable of interest for us is `hrs_work`, which records the hours worked per week."
   ]
  },
  {
   "cell_type": "markdown",
   "metadata": {},
   "source": [
    "### Summarizing sample data"
   ]
  },
  {
   "cell_type": "markdown",
   "metadata": {},
   "source": [
    "#### Numerical summaries"
   ]
  },
  {
   "cell_type": "markdown",
   "metadata": {},
   "source": [
    "Numerical variables, such as `hrs_work` may be summarized using the `summary` function, or by using individual functions such as `mean`, `sd`, `median`, and others.\n",
    "\n",
    "The `summary` function returns the five-number summary plus the mean."
   ]
  },
  {
   "cell_type": "code",
   "execution_count": null,
   "metadata": {},
   "outputs": [],
   "source": [
    "summary(acs$hrs_work)"
   ]
  },
  {
   "cell_type": "markdown",
   "metadata": {},
   "source": [
    "The `mean` function returns the mean of the data and the `sd` function returns the standard deviation."
   ]
  },
  {
   "cell_type": "code",
   "execution_count": null,
   "metadata": {},
   "outputs": [],
   "source": [
    "mean(acs$hrs_work)"
   ]
  },
  {
   "cell_type": "code",
   "execution_count": null,
   "metadata": {},
   "outputs": [],
   "source": [
    "sd(acs$hrs_work)"
   ]
  },
  {
   "cell_type": "markdown",
   "metadata": {},
   "source": [
    "#### Graphical summaries"
   ]
  },
  {
   "cell_type": "markdown",
   "metadata": {},
   "source": [
    "Histograms and boxplots are common graphical summaries for numerical variables.  \n",
    "  \n",
    "The function `hist` creates a histogram of the data. The function will automatically define bins and display the number of observations within each bin. The number of bins, or bin cutoffs can be specified, but we will just use the default choices for now.\n",
    "\n",
    "The `hist` function only requires the data to be graphed, but as with the `plot` function, there are some optional arguments that may be used to customize the histogram. Some of these optional arguments include:\n",
    "* `xlab` - specify the label for the x-axis, eg xlab = \"Hours per week\"\n",
    "* `ylab` - specify the label for the y-axis\n",
    "* `xlim` - specify the minimum and maximum value for the x-axis, eg xlim=c(minimum, maximum)\n",
    "* `ylim` - specify the minimum and maximum value for the y-axis, eg ylim=c(minimum, maximum)\n",
    "* `main` - specify a main title for the graph, eg main = \"Weekly work hours for U.S. adults\"\n",
    "\n"
   ]
  },
  {
   "cell_type": "code",
   "execution_count": null,
   "metadata": {},
   "outputs": [],
   "source": [
    "hist(acs$hrs_work, xlab = \"Hours per week\", main = \"Weekly work hours for U.S. adults\" ) \n",
    "#produces histogram of weekly hours worked"
   ]
  },
  {
   "cell_type": "markdown",
   "metadata": {},
   "source": [
    "The function `boxplot` creates a histogram of the data.\n",
    "\n",
    "The `boxplot` function only requires the data to be graphed, but as with the `plot` function, there are some optional arguments that may be used to customize the boxplot. Some of these optional arguments include:\n",
    "* `xlab` - specify the label for the x-axis\n",
    "* `ylab` - specify the label for the y-axis, eg ylab = \"Hours per week\"\n",
    "* `main` - specify a main title for the graph, eg main = \"Weekly work hours for U.S. adults\""
   ]
  },
  {
   "cell_type": "markdown",
   "metadata": {},
   "source": [
    "#### The distribution of weekly hours worked is generally symmetric. It is approximately bell-shaped, but has a much greater concentration of observations in the 30-40 hour range than we would typically expect of bell-shaped data. The centre of the distribution is around 40 hours and almost all respondents worked between 0-80 hours in a week."
   ]
  },
  {
   "cell_type": "code",
   "execution_count": null,
   "metadata": {
    "scrolled": true
   },
   "outputs": [],
   "source": [
    "boxplot(acs$hrs_work, ylab = \"Hours per week\", main = \"Weekly work hours for U.S. adults\" ) \n",
    "#produces histogram of weekly hours worked"
   ]
  },
  {
   "cell_type": "markdown",
   "metadata": {},
   "source": [
    "#### The boxplot suggests a distribution that is generally symmetric. The median hours worked is around 40 hours and the interquartile range is around 20 hours, since Q1 is approximately 30 hours and Q3 is approximately 50 hours. Quite a few observations are identified as potential outliers, but there are very few, if any, observations that are actual outliers in the sense that they are distinct/removed from the rest of the data. This is also apparent in the histogram."
   ]
  },
  {
   "cell_type": "markdown",
   "metadata": {},
   "source": [
    "### Inference on means\n",
    "\n",
    "We would like insight into the population parameters. We know the average (mean) hours worked per week for the U.S. adults in  the sample. This represents a **statistic**, $\\bar{x}$. We are interested in the average (mean) hours worked per week for all U.S. adults. We need to estimate this **parameter**, $\\mu$.\n",
    "\n",
    "The inferential tools for estimating population mean are confidence interval and hypothesis test."
   ]
  },
  {
   "cell_type": "markdown",
   "metadata": {},
   "source": [
    "#### Hypothesis tests"
   ]
  },
  {
   "cell_type": "markdown",
   "metadata": {},
   "source": [
    "#### Recall: Hypothesis tests for a population mean typically rely upon the Central Limit Theorem\n",
    "\n",
    "In order for the Central Limit Theorem to hold:\n",
    "* observations must be independent\n",
    "* sample size must be sufficiently large, or underlying data must have a nearly normal distribution. \n",
    "\n",
    "The sample size is typically considered sufficiently large when there are at 30 observations, $n \\ge 30$.\n",
    "\n",
    "**Independence: <br>In this study, we have a simple random sample from the population. The most common way for observations to be considered independent is if they are from a simple random sample.** <br> ***Also require sample size to be less than 10% of the population, which is clearly true in this case, 783 U.S. adults sampled (2000 U.S. adults originally sampled) is much less than 10% of all U.S. adults.***\n",
    "\n",
    "**Nearly normal/sample size: <br> The histogram suggests that the population distribution is symmetric. Although it may not be quite normal, we may be comfortable assuming that it is nearly normal. If we are not comfortable with that assumption, the sample size of 783 is clearly large enough to satisfy the necessary condition for the central limit theorem. Additionally there are no extreme outliers of concern.**"
   ]
  },
  {
   "cell_type": "markdown",
   "metadata": {},
   "source": [
    "Suppose we are interested in testing whether, or not, workers are working a traditional 40 hour workweek. The alternative hypothesis that we have in mind is that the workweek differs from 40 hours. The `inference` function may be used to test the hypotheses\n",
    "\n",
    "$H_0: \\mu = 40$ vs $H_A: \\mu \\neq 40$\n",
    "\n",
    "The `inference` function may be used for hypothesis tests of population mean with the appropriate arguments:\n",
    "* `y` - response variable of interest; in this exercise `acs$hrs_work` records reported weekly hours worked\n",
    "* `est` - parameter we are interested in: \"mean\", \"median\", or \"proportion\"\n",
    "* `type` - type of inference; confidence interval, \"ci\", or hypothesis test, \"ht\"\n",
    "* `null` - the value of the parameter stated in the null hypothesis\n",
    "* `alternative` - the alternative hypothesis is either \"greater\", \"less\", or \"twosided\"\n",
    "* `method` - method of inference; based upon normal distribution, \"theoretical\", or based on simulation, \"simulation\"\n",
    "\n",
    "#### Note: There is no `success` argument as there is when conducting hypothesis tests for proportions."
   ]
  },
  {
   "cell_type": "code",
   "execution_count": null,
   "metadata": {},
   "outputs": [],
   "source": [
    "inference(y = acs$hrs_work, est = \"mean\", type = \"ht\",  null = 40, alternative = \"twosided\", method = \"theoretical\")"
   ]
  },
  {
   "cell_type": "markdown",
   "metadata": {},
   "source": [
    "#### Question: <br><br>Identify the value of the test statistic and the p-value."
   ]
  },
  {
   "cell_type": "markdown",
   "metadata": {},
   "source": [
    "#### Answer:<br><br> The test statistic is $Z = -2.245$ with an associated p-value of 0.0248. "
   ]
  },
  {
   "cell_type": "markdown",
   "metadata": {},
   "source": [
    "#### Question: <br><br>Is there convincing evidence that the average weekly hours worked by U.S. adults differs from 40 hours?"
   ]
  },
  {
   "cell_type": "markdown",
   "metadata": {},
   "source": [
    "#### Answer: <br><br> A p-value of 0.0248 typically represents strong evidence against the null hypothesis and in favour of the alternative hypothesis. We have strong evidence against the claim that the average weekly hours worked is 40 hours and in favour of the claim that is differs from 40 hours.\n",
    "\n",
    "#### Note: The sample average is 39 hours. Although we have established a statistically significant difference in average hours worked, the difference may not be meaningful in a practical sense."
   ]
  },
  {
   "cell_type": "markdown",
   "metadata": {},
   "source": [
    "#### Exercise: <br><br>  Suppose we had been interested in testing whether, or not, workers are working less than a traditional 40 hour workweek. The alternative hypothesis that we have in mind is that the workweek is less than 40 hours; <br><br> $H_0: \\mu = 40$ vs $H_A: \\mu < 40$. <br><br> Perform a test of these hypotheses. Report the test statistic and p-value. What is is the conclusion of the hypothesis test (in the context of this question)?"
   ]
  },
  {
   "cell_type": "code",
   "execution_count": null,
   "metadata": {},
   "outputs": [],
   "source": []
  },
  {
   "cell_type": "markdown",
   "metadata": {
    "editable": true,
    "slideshow": {
     "slide_type": ""
    },
    "tags": []
   },
   "source": [
    "<details>\n",
    "\n",
    "<summary><b>Click to view sample code:</b></summary>\n",
    "\n",
    "\n",
    "```\n",
    "inference(y = acs$hrs_work, est = \"mean\", type = \"ht\",  null = 40, alternative = \"less\", method = \"theoretical\")\n",
    "```\n",
    "\n",
    "\n",
    "</details>"
   ]
  },
  {
   "cell_type": "markdown",
   "metadata": {},
   "source": [
    "#### Answer:   "
   ]
  },
  {
   "cell_type": "markdown",
   "metadata": {
    "editable": true,
    "slideshow": {
     "slide_type": ""
    },
    "tags": []
   },
   "source": [
    "<details>\n",
    "\n",
    "<summary><b>Sample Answer:</b></summary>\n",
    "\n",
    "<br>*The test statistic is Z = -2.245 and the p-value is 0.0124.<br>Since the p-value is so small, p-value = 0.0124, we have strong evidence against the null hypothesis and in favour of the alternative that the average workweek is less than 40 hours.*\n",
    "\n",
    "</details>"
   ]
  },
  {
   "cell_type": "markdown",
   "metadata": {},
   "source": [
    "### Why isn't the test statistic a T-statistic? "
   ]
  },
  {
   "cell_type": "markdown",
   "metadata": {},
   "source": [
    "#### For large samples (large degrees of freedom), the T-distribution and Z-distribution are virtually indistinguishable. Therefore, working with the T-distribution, as suggested by statistical theory, will produce nearly identical results as working with the Z-distribution.\n",
    "\n",
    "#### With that information in mind, the `inference` function chooses to use the Z-distribution for confidence intervals and hypothesis tests whenever the sample size is at least 30 ($n\\ge30$). "
   ]
  },
  {
   "cell_type": "markdown",
   "metadata": {},
   "source": [
    "#### For example, consider a smaller sample of the hours worked data. Suppose we had a sample of 15 observations and conducted the same hypothesis test."
   ]
  },
  {
   "cell_type": "code",
   "execution_count": null,
   "metadata": {},
   "outputs": [],
   "source": [
    "acs_hrs_small_sample = sample(acs$hrs_work,size=15)\n",
    "# selects a random sample of 15 observations and saves those values as a new object called small.sample"
   ]
  },
  {
   "cell_type": "code",
   "execution_count": null,
   "metadata": {},
   "outputs": [],
   "source": [
    "inference(y = acs_hrs_small_sample, est = \"mean\", type = \"ht\",  null = 40, alternative = \"twosided\", method = \"theoretical\")"
   ]
  },
  {
   "cell_type": "markdown",
   "metadata": {},
   "source": [
    "#### Now the test statistic is a T-statistic, as expected, and we are given the degrees of freedom, $df = n-1 = 15 - 1 = 14$, that identifies the T-distribution that is needed for calculating the p-value."
   ]
  },
  {
   "cell_type": "markdown",
   "metadata": {},
   "source": [
    "#### Confidence intervals"
   ]
  },
  {
   "cell_type": "markdown",
   "metadata": {},
   "source": [
    "If the conditions for inference are reasonable, we can either calculate the standard error, $SE_{\\bar{x}}$ and construct the interval by hand, or allow the `inference` function to do it for us.  \n",
    "  \n",
    "The `inference` function relies upon many arguments. For constructing confidence intervals for proportions, the following arguments are important:\n",
    "* `y` - response variable of interest; in this exercise `acs$hrs_work` records records reported weekly hours worked\n",
    "* `est` - parameter we are interested in: \"mean\", \"median\", or \"proportion\"\n",
    "* `type` - type of inference; confidence interval, \"ci\", or hypothesis test, \"ht\"\n",
    "* `conflevel` - confidence level desired\n",
    "* `method` - method of inference; based upon normal distribution, \"theoretical\", or based on simulation, \"simulation\"\n",
    "\n",
    "#### Note: There is no `success` argument as there is when conducting hypothesis tests for proportions."
   ]
  },
  {
   "cell_type": "markdown",
   "metadata": {},
   "source": [
    "Use the `inference` function to construct a 95% confidence interval for the average weekly hours worked by all U.S. adults."
   ]
  },
  {
   "cell_type": "code",
   "execution_count": null,
   "metadata": {},
   "outputs": [],
   "source": [
    "inference(y = acs$hrs_work, est = \"mean\", type = \"ci\", conflevel = 0.95, method = \"theoretical\")"
   ]
  },
  {
   "cell_type": "markdown",
   "metadata": {},
   "source": [
    "#### Interpretation: We are 95% confident that U.S. adults work on average between 38.1 hours and 39.9 hours per week.\n",
    "\n",
    "#### Note: This suggest that 40 hours is not a plausible value for the average hours worked per week by all U.S. adults. This is consistent with the results of our earlier hypothesis test. A 95% confidence interval and a two-sided hypothesis test at the $\\alpha = 0.05$ level of significance provide equivalent information on whether any particular value is plausible."
   ]
  },
  {
   "cell_type": "markdown",
   "metadata": {},
   "source": [
    "#### Exercise: <br><br>Construct a 99% confidence interval for for the average weekly hours worked by all U.S. adults. Report and interpret the confidence interval."
   ]
  },
  {
   "cell_type": "code",
   "execution_count": null,
   "metadata": {},
   "outputs": [],
   "source": []
  },
  {
   "cell_type": "markdown",
   "metadata": {
    "editable": true,
    "slideshow": {
     "slide_type": ""
    },
    "tags": []
   },
   "source": [
    "<details>\n",
    "\n",
    "<summary><b>Click to view sample code:</b></summary>\n",
    "\n",
    "\n",
    "```\n",
    "inference(y = acs$hrs_work, est = \"mean\", type = \"ci\", conflevel = 0.99, method = \"theoretical\")\n",
    "```\n",
    "\n",
    "\n",
    "</details>"
   ]
  },
  {
   "cell_type": "markdown",
   "metadata": {},
   "source": [
    "#### Answer:   "
   ]
  },
  {
   "cell_type": "markdown",
   "metadata": {
    "editable": true,
    "slideshow": {
     "slide_type": ""
    },
    "tags": []
   },
   "source": [
    "<details>\n",
    "\n",
    "<summary><b>Sample Answer:</b></summary>\n",
    "\n",
    "<br>*The 99% confidence interval is (37.8498, 40.1476). We are 99% confident that U.S. adults work on average between 37.8 hours and 40.1 hours per week.*\n",
    "\n",
    "</details>"
   ]
  },
  {
   "cell_type": "markdown",
   "metadata": {
    "editable": true,
    "slideshow": {
     "slide_type": ""
    },
    "tags": []
   },
   "source": [
    "#### Let’s stop here. \n",
    "\n",
    "#### It is important to save your work, exit the notebook, and logout of syzygy when you are done. Simply closing the window in which you are working will leave the notebook running which can produce some minor problems when you next try to log in.\n",
    "\n",
    "- **Select File > Save Notebook or select the Save icon above to save your work.**\n",
    "- **To exit the notebook, select File > Close and Shutdown Notebook.**\n",
    "- **Select File > Log Out.**"
   ]
  }
 ],
 "metadata": {
  "kernelspec": {
   "display_name": "R",
   "language": "R",
   "name": "ir"
  },
  "language_info": {
   "codemirror_mode": "r",
   "file_extension": ".r",
   "mimetype": "text/x-r-source",
   "name": "R",
   "pygments_lexer": "r",
   "version": "4.3.3"
  }
 },
 "nbformat": 4,
 "nbformat_minor": 4
}
