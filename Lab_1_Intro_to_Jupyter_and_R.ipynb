{
 "cells": [
  {
   "cell_type": "markdown",
   "metadata": {},
   "source": [
    "# Lab 1: Introduction to Jupyter and R"
   ]
  },
  {
   "cell_type": "markdown",
   "metadata": {
    "slideshow": {
     "slide_type": "slide"
    }
   },
   "source": [
    "## Objectives\n",
    "* Introduce jupyter/R notebooks\n",
    "* Conduct some preliminary data analysis\n",
    "* Practice the process of completing and submitting notebook.\n",
    "\n",
    "### You will submit this lab in order to practice the process of producing and submitting output, but you will not be graded on your submission. This lab is for practice only. "
   ]
  },
  {
   "cell_type": "markdown",
   "metadata": {
    "slideshow": {
     "slide_type": "slide"
    }
   },
   "source": [
    "## Data Information:\n",
    "\n",
    "### Data Set:\n",
    "\n",
    "Today we will be using baptism data for children born in London, England for every year from 1629 to 1710. \n",
    "\n",
    " \n",
    "#### Name: #### \n",
    "* `arbuthnot` - baptism data for children born in London, England for every year from 1629 to 1710\n",
    "\n",
    "#### Variables: ####\n",
    "* `year` - calendar year\n",
    "* `boys` - number of boys baptized in London during the year\n",
    "* `girls` - number of girls baptized in London during the year\n"
   ]
  },
  {
   "cell_type": "markdown",
   "metadata": {
    "slideshow": {
     "slide_type": "slide"
    }
   },
   "source": [
    "## Elements of an R (jupyter) notebook\n",
    "\n",
    "Every jupyter notebook is made up of individual cells. Each cell is generally of one of two types, a Markdown cell, or a Code cell. "
   ]
  },
  {
   "cell_type": "markdown",
   "metadata": {
    "slideshow": {
     "slide_type": "slide"
    }
   },
   "source": [
    "### Markdown Cells\n",
    "This is a markdown cell.\n",
    "\n",
    "Markdown is a markup language (like html). Its design allows it to be converted to many output formats. It can accommodate LaTex formulas, image files, hyperlinks, etc., but we will primarily just use the Markdown cells to enter text.\n",
    "\n",
    "This is where you would describe your work, or answer questions. \n",
    "\n",
    "#### To edit this cell double click on the cell, or single click on the cell, so that the cell is highlighted, and then hit  <Enter\\>.  \n",
    "#### To return the cell to its formatted appearance, hit <Shift\\> + <Enter\\> or hit the Run button (&#x25BA;) above.\n",
    "\n",
    "If you are interested, some additional resources for using Markdown may be found here\n",
    "* [Markdown Guide](https://www.markdownguide.org/)\n",
    "* [Markdown Tutorial](https://www.markdowntutorial.com/)"
   ]
  },
  {
   "cell_type": "markdown",
   "metadata": {
    "slideshow": {
     "slide_type": "slide"
    }
   },
   "source": [
    "### Code Cells\n",
    "\n",
    "Below are three code cells.  \n",
    "\n",
    "Code cells allow us to us to execute R code to conduct our analysis. Interacting with R is all about typing commands and interpreting the output. These commands and their syntax have evolved over decades (literally) and now provide what many users feel is a fairly natural way to access data and organize, describe, and invoke statistical computations.  \n",
    "  \n",
    "Typically these cells will be used to perform various analyses of data, but the cells below are simply used to perform some basic arithmetic.  \n",
    "\n",
    "#### To edit a code cell double click on the cell, or single click on the cell, so that the cell is highlighted, and then hit <Enter\\>.  \n",
    "#### To run the code, hit <Shift\\> + <Enter\\> or hit the Run button above.\n"
   ]
  },
  {
   "cell_type": "code",
   "execution_count": null,
   "metadata": {
    "slideshow": {
     "slide_type": "subslide"
    },
    "tags": []
   },
   "outputs": [],
   "source": [
    "4+7"
   ]
  },
  {
   "cell_type": "code",
   "execution_count": null,
   "metadata": {
    "slideshow": {
     "slide_type": "subslide"
    },
    "tags": []
   },
   "outputs": [],
   "source": [
    "(2*9)/3"
   ]
  },
  {
   "cell_type": "code",
   "execution_count": null,
   "metadata": {
    "slideshow": {
     "slide_type": "subslide"
    }
   },
   "outputs": [],
   "source": [
    "3^4"
   ]
  },
  {
   "cell_type": "markdown",
   "metadata": {},
   "source": [
    "You will see a counter in the square brackets which increases each time you execute a line of code. While the code is executing, you may see a * symbol. Once the code is done executing you will see a number in the square brackets. If the code is intended to produce output, you will also see that output below the code cell. Not all code will produce output that is visible in the notebook. For example, the following code adds two numbers and creates assigns that value to a new variable called `X1`."
   ]
  },
  {
   "cell_type": "code",
   "execution_count": null,
   "metadata": {
    "tags": []
   },
   "outputs": [],
   "source": [
    "X1 = 14 + 29"
   ]
  },
  {
   "cell_type": "markdown",
   "metadata": {},
   "source": [
    "Because the value is assigned to a new variable `X1`, no output is shown on the notebook. If you wish to see what value is associated with `X1`, you could include a separate line of code that simply includes the variable name `X1`"
   ]
  },
  {
   "cell_type": "code",
   "execution_count": null,
   "metadata": {
    "tags": []
   },
   "outputs": [],
   "source": [
    "X1"
   ]
  },
  {
   "cell_type": "markdown",
   "metadata": {
    "slideshow": {
     "slide_type": "slide"
    }
   },
   "source": [
    "### Question 1: Use the code cell below to find the average of 17, 2, 13,  7."
   ]
  },
  {
   "cell_type": "code",
   "execution_count": null,
   "metadata": {},
   "outputs": [],
   "source": []
  },
  {
   "cell_type": "markdown",
   "metadata": {},
   "source": [
    "<details>\n",
    "\n",
    "<summary><b>Click to view sample code:</b></summary>\n",
    "\n",
    "There are various ways that you could find the average. Two possibilities are presented below:\n",
    "\n",
    "1) You can average by adding the numbers and dividing by four  \n",
    "```\n",
    "(17 + 2 + 13 + 7)/4\n",
    "```\n",
    "   \n",
    "2) You can use the `mean` function to calculate an average  \n",
    "```\n",
    "mean(17,2,13,7)\n",
    "```\n",
    "</details>"
   ]
  },
  {
   "cell_type": "markdown",
   "metadata": {
    "slideshow": {
     "slide_type": "slide"
    }
   },
   "source": [
    "Together, code cells and Markdown cells combine to form an R notebook that will allow you to conduct, document, and distribute, the statistical analysis of any research question you encounter.  \n",
    "\n",
    "\n",
    "R notebooks are capable of producing publishable quality output. However, tutorials will emphasize developing familiarity and facility with notebooks and with R.  \n",
    "  \n",
    "----  "
   ]
  },
  {
   "cell_type": "markdown",
   "metadata": {
    "slideshow": {
     "slide_type": "slide"
    }
   },
   "source": [
    "## General procedure for labs/tutorials  \n",
    "\n",
    "We will be using R notebooks for most, if not all, of our labs. For each lab you will generally need to:  \n",
    "\n",
    "#### Step 1\n",
    "\n",
    "#### Get a copy of this week's notebook(s)\n",
    "\n",
    "- Clink on the link to the Practice Lab notebook in Moodle. This should import the notebook to the jupyter workspace and attempt to open the notebook within the jupyter workspace.\n",
    "- You will need to log to Syzygy as part of this process. Syzygy is the site that we use to interact with jupyter notebooks.\n",
    "- This step will generally upload all of the lab material required for the week. However, only the selected notebook will be opened. Any other files for that week will simply be saved in the jupyter workspace.\n",
    "- If you get an error message, for example \"Stale Request\", when trying to access Syzygy, clicking on the notebook again to restart the process should resolve the problem.\n",
    "\n",
    "---  \n",
    "\n",
    "\n",
    "#### NOTE: If you wish to stop working on a notebook and come back to it later, you do not need to repeat Step 1. You may simply open Syzygy and then open the desired notebook which will be in your workspace.\n",
    "#### NOTE: If you wish to work on the Lab Assignment notebook for a given week, you do not need to repeat Step 1 for the Lab Assignment notebook. If you have already obtained a copy of the Practice Lab notebook, the Lab Assignment notebook would have been uploaded at the same time. You may simply open Syzygy and then open the Lab Assignment notebook which will be in your workspace.\n",
    "\n",
    "\n",
    "https://uleth.syzygy.ca/\n",
    "\n",
    "Use your uleth login credentials. It may take a couple of attempts to successfully login to syzygy.  \n",
    "\n",
    "\n",
    "There are tutorials about syzygy  here: \n",
    "http://intro.syzygy.ca/\n",
    "\n",
    "\n",
    "---\n"
   ]
  },
  {
   "cell_type": "markdown",
   "metadata": {},
   "source": [
    "### Getting started: Loading and working with data  \n",
    "\n",
    "As mentioned above, there are many ways to import data to be analysed. If the data exists in a file accesible online, it may be accessed directly. Run the R command below."
   ]
  },
  {
   "cell_type": "code",
   "execution_count": null,
   "metadata": {
    "tags": []
   },
   "outputs": [],
   "source": [
    "source(\"http://www.openintro.org/stat/data/arbuthnot.R\")"
   ]
  },
  {
   "cell_type": "markdown",
   "metadata": {},
   "source": [
    "This command instructs R to access the OpenIntro website and retrieve some data, which is in a file called `arbuthnot.R`. The .R indicates a file format, like .csv, .txt etc. R is capable of importing data files of various formats (using the appropriate command). The `arbuthnot` dataset is already in a format native to R.  "
   ]
  },
  {
   "cell_type": "markdown",
   "metadata": {},
   "source": [
    "### The Data: Dr. Arbuthnot’s Baptism Records  \n",
    "The `arbuthnot` data set refers to Dr. John Arbuthnot, an 18th century physician, writer, and mathematician. He was interested in the ratio of newborn boys to newborn girls, so he gathered the baptism records for children born in London for every year from 1629 to 1710. We can look at the data by typing its name in a code cell."
   ]
  },
  {
   "cell_type": "code",
   "execution_count": null,
   "metadata": {
    "tags": []
   },
   "outputs": [],
   "source": [
    "arbuthnot"
   ]
  },
  {
   "cell_type": "markdown",
   "metadata": {},
   "source": [
    "What you should see are three columns of numbers, each row representing a different year: the first entry in each row  is the year, and the second and third are the numbers of boys and girls baptized that year, respectively. **Be careful. This command will attempt to display the entire file, so this should be avoided with very large files. If the dataset contains many observations, only a fraction of the observations may ultimately be displayed.** We will introduce other R commands which will allow us to review a subset of the dataset without attempting to display all values in the dataset.  \n",
    "\n",
    "R has stored Arbuthnot’s data in a kind of spreadsheet or table called a *data frame*.\n",
    "\n",
    "You can see the dimensions of this data frame by using the `dim` command.\n"
   ]
  },
  {
   "cell_type": "code",
   "execution_count": null,
   "metadata": {},
   "outputs": [],
   "source": [
    "dim(arbuthnot)"
   ]
  },
  {
   "cell_type": "markdown",
   "metadata": {},
   "source": [
    "This command should output 82 3, indicating that there are 82 rows and 3 columns. Each row represents a different year. Each year represents an observation, or case, or subject in the study. Each year is listed in the first column. The second and third columns represent the variables recorded for this study. You can see the names of these columns by using the `names` command."
   ]
  },
  {
   "cell_type": "code",
   "execution_count": null,
   "metadata": {},
   "outputs": [],
   "source": [
    "names(arbuthnot)"
   ]
  },
  {
   "cell_type": "markdown",
   "metadata": {},
   "source": [
    "You should see that the data frame contains the columns year, boys, and girls. At this point, you might notice that many of the commands in R look a lot like functions from math class; that is, invoking R commands means supplying a function with some number of arguments. The `dim` and `names` commands, for example, each took a single argument, the name of a data frame."
   ]
  },
  {
   "cell_type": "markdown",
   "metadata": {},
   "source": [
    "### Some exploration of the data\n",
    "\n",
    "Let’s start to examine the data a little more closely. Each column of the data frame represents a separate variable. We can review a single variable (access the data in a single column of a data frame) using the `dataframe$variable` structure as in the following command."
   ]
  },
  {
   "cell_type": "code",
   "execution_count": null,
   "metadata": {},
   "outputs": [],
   "source": [
    "arbuthnot$boys"
   ]
  },
  {
   "cell_type": "markdown",
   "metadata": {},
   "source": [
    "This command will only show the number of boys baptized each year.  \n",
    "\n",
    "\n",
    "Notice that the way these data are printed is different. When we looked at the complete data frame, we saw 82 rows, one on each line of the display. These data are no longer structured in a table with other variables, so they are displayed one right after another. Objects that print out in this way are called vectors; they represent a set of numbers. "
   ]
  },
  {
   "cell_type": "markdown",
   "metadata": {},
   "source": [
    "### Question 2: Use the code cell below to show just the counts of girls baptized each year."
   ]
  },
  {
   "cell_type": "code",
   "execution_count": null,
   "metadata": {},
   "outputs": [],
   "source": []
  },
  {
   "cell_type": "markdown",
   "metadata": {},
   "source": [
    "<details>\n",
    "\n",
    "<summary><b>Click to view sample code:</b></summary>\n",
    "\n",
    "There are various ways that you could show just the counts of girls baptized each year. If we follow the example code for boys baptized:\n",
    " \n",
    "```\n",
    "arbuthnot$girls\n",
    "```\n",
    "</details>"
   ]
  },
  {
   "cell_type": "markdown",
   "metadata": {},
   "source": [
    "### Graphics in R\n",
    "\n",
    "R has some powerful functions for making graphics. We can create a simple plot of the number of girls baptized per year, using the `plot` command."
   ]
  },
  {
   "cell_type": "code",
   "execution_count": null,
   "metadata": {},
   "outputs": [],
   "source": [
    "plot(x = arbuthnot$year, y = arbuthnot$girls)"
   ]
  },
  {
   "cell_type": "markdown",
   "metadata": {},
   "source": [
    "By default, R creates a scatterplot with each `x`,`y` pair indicated by an open circle. Notice that the command above again looks like a function, this time with two arguments separated by a comma. The first argument in the plot function specifies the variable for the x-axis and the second for the y-axis. If we wanted to connect the data points with lines, we could add a third argument, setting the `type` of graph as a line graph by using the letter **l** for line in the type argument."
   ]
  },
  {
   "cell_type": "code",
   "execution_count": null,
   "metadata": {},
   "outputs": [],
   "source": [
    "plot(x = arbuthnot$year, y = arbuthnot$girls, type = \"l\")"
   ]
  },
  {
   "cell_type": "markdown",
   "metadata": {},
   "source": [
    "### Question 3: Is there an apparent trend in the number of girls baptized over the years? If so, how would you describe it?"
   ]
  },
  {
   "cell_type": "markdown",
   "metadata": {},
   "source": [
    "### Answer: "
   ]
  },
  {
   "cell_type": "markdown",
   "metadata": {},
   "source": [
    "<details>\n",
    "\n",
    "<summary><b>Sample Answer:</b></summary>\n",
    "\n",
    "There is a generally increasing trend in the number of girls baptized over the years. Of course there is year-to-year variation, and there is also a sharp decline in girls baptized in the mid 1600's (what might explain that?), but the overall trend is towards increasing numbers of girls baptized.\n",
    "</details>"
   ]
  },
  {
   "cell_type": "markdown",
   "metadata": {},
   "source": [
    "You might wonder how you are supposed to know that it was possible to add that third argument. In practice, you will always be provided with an example of any R code that you will need. However, we will typically only use a fraction of the arguments available for many functions. To read what a function does and learn the arguments that are available to you, just type in a question mark followed by the name of the function that you’re interested in. Try the following."
   ]
  },
  {
   "cell_type": "code",
   "execution_count": null,
   "metadata": {},
   "outputs": [],
   "source": [
    "?plot"
   ]
  },
  {
   "cell_type": "markdown",
   "metadata": {},
   "source": [
    "Now, suppose we want to plot the total number of baptisms. To compute this, we could use the fact that R is really just a big calculator. To see the total number of baptisms in 1629 we can add the number of male baptisms, 5218, and the number of female baptisms, 4683, using mathematical expressions like"
   ]
  },
  {
   "cell_type": "code",
   "execution_count": null,
   "metadata": {},
   "outputs": [],
   "source": [
    "5218 + 4683"
   ]
  },
  {
   "cell_type": "markdown",
   "metadata": {},
   "source": [
    "We could repeat this once for each year, but there is a faster way. If we add the vector for baptisms for boys and girls, R will compute the sums for all years simultaneously."
   ]
  },
  {
   "cell_type": "code",
   "execution_count": null,
   "metadata": {},
   "outputs": [],
   "source": [
    "arbuthnot$boys + arbuthnot$girls"
   ]
  },
  {
   "cell_type": "markdown",
   "metadata": {},
   "source": [
    "What you will see are 82 numbers (in that cpmpressed display, because we aren’t looking at a data frame here). Each of the 82 numbers represents the total number of baptisms in London in each year. We can make a plot of the total number of baptisms per year."
   ]
  },
  {
   "cell_type": "code",
   "execution_count": null,
   "metadata": {},
   "outputs": [],
   "source": [
    "plot(x = arbuthnot$year, y = arbuthnot$boys + arbuthnot$girls)"
   ]
  },
  {
   "cell_type": "markdown",
   "metadata": {},
   "source": [
    "#### or "
   ]
  },
  {
   "cell_type": "code",
   "execution_count": null,
   "metadata": {},
   "outputs": [],
   "source": [
    "plot(x = arbuthnot$year, y = arbuthnot$boys + arbuthnot$girls, type = \"l\")"
   ]
  },
  {
   "cell_type": "markdown",
   "metadata": {},
   "source": [
    "Similarly to how we computed the total number of baptisms in 1629 we can compute proportion of all baptisms in 1629 that are boys. In the year 1629, there were 5218 boys baptized and 4683 girls baptized. for a total of 5218 + 4683 = 9901 baptisms in total. The proportion of all baptisms in 1629 that were boys then is "
   ]
  },
  {
   "cell_type": "code",
   "execution_count": null,
   "metadata": {},
   "outputs": [],
   "source": [
    "5218 / (5218 + 4683)"
   ]
  },
  {
   "cell_type": "markdown",
   "metadata": {},
   "source": [
    "The proportion of all baptisms that are boys may also be computed for all years simultaneously."
   ]
  },
  {
   "cell_type": "code",
   "execution_count": null,
   "metadata": {},
   "outputs": [],
   "source": [
    "arbuthnot$boys / (arbuthnot$boys + arbuthnot$girls)"
   ]
  },
  {
   "cell_type": "markdown",
   "metadata": {},
   "source": [
    "For each year, `arbuthnot$boys` provides the number of boys baptized and `arbuthnot$boys + arbuthnot$girls` provides the total number of baptisms.  \n",
    "\n",
    "Note that with R as with your calculator, you need to be conscious of the order of operations. Here, we want to divide the number of boys baptized by the total number of baptisms, so we have to use parentheses. Without them, R will first do the division, then the addition, giving you something that is not a proportion."
   ]
  },
  {
   "cell_type": "markdown",
   "metadata": {},
   "source": [
    "### Question 4: Use the code cell below to make a plot of the proportion of all baptisms that are boys for each year in the data frame. "
   ]
  },
  {
   "cell_type": "code",
   "execution_count": null,
   "metadata": {},
   "outputs": [],
   "source": []
  },
  {
   "cell_type": "markdown",
   "metadata": {},
   "source": [
    "<details>\n",
    "\n",
    "<summary><b>Click to view sample code:</b></summary>\n",
    "\n",
    "* The horizontal axis, x-axis, is the year, `arbuthnot$year`.\n",
    "* The vertical axis, y-axis, is the proportion of all baptisms in that year that were boys, `arbuthnot$boys / (arbuthnot$boys + arbuthnot$girls)`.\n",
    "* We could use the `plot` function to show this proportion for each year.\n",
    " \n",
    "```\n",
    "plot(x = arbuthnot$year, y = arbuthnot$boys / (arbuthnot$boys + arbuthnot$girls))\n",
    "```\n",
    "or\n",
    "\n",
    "```\n",
    "plot(x = arbuthnot$year, y = arbuthnot$boys / (arbuthnot$boys + arbuthnot$girls), type = \"l\")\n",
    "```\n",
    "\n",
    "</details>"
   ]
  },
  {
   "cell_type": "markdown",
   "metadata": {},
   "source": [
    "### Question 5: What can we learn from the plot? "
   ]
  },
  {
   "cell_type": "markdown",
   "metadata": {},
   "source": [
    "### Answer: "
   ]
  },
  {
   "cell_type": "markdown",
   "metadata": {},
   "source": [
    "<details>\n",
    "\n",
    "<summary><b>Sample Answer:</b></summary>\n",
    "\n",
    "A direct reading of the graph indicates that the proportion of all children baptized in London during those years that were boys varied between about 50.5% and 53.5%.\n",
    "\n",
    "### This might strike you as a bit surprising. We did not observe one year in which more girls were baptized than boys. If one thought that births were roughly equally likely to be boys or girls, then one might expect that there would be years with more girls born than boys and more girls baptized than boys. Why was this not observed? Were births more likely to be boys than girls, such that there were always more boys born than girls and hence more boys baptized? Were births roughly equally likely to be boys or girls, but boys were more likely to be baptized? Are the other possible explanations?\n",
    "\n",
    "</details>"
   ]
  },
  {
   "cell_type": "markdown",
   "metadata": {},
   "source": [
    "Finally, in addition to simple mathematical operators like subtraction and division, you can ask R to make comparisons like greater than, >, less than, <, and equality, ==. For example, we can ask if boys baptized outnumber girls baptized in each year with the expression"
   ]
  },
  {
   "cell_type": "code",
   "execution_count": null,
   "metadata": {},
   "outputs": [],
   "source": [
    "arbuthnot$boys > arbuthnot$girls"
   ]
  },
  {
   "cell_type": "markdown",
   "metadata": {},
   "source": [
    "This command returns 82 values of either TRUE if that year had more boys baptized than girls baptized, or FALSE if that year did not (the answer may surprise you). This output shows a different kind of data than we have considered so far. In the `arbuthnot` data frame our values are numerical (the number of `boys` baptized and `girls` baptized). Here, we have asked R to create logical data, data where the values are either TRUE or FALSE. Note that this would be considered a categorical variable. Each year is put into one of two possible categories, indicating whether the year had more boys baptized or more girls baptized. In general, data analysis will involve many different kinds of data types, and one reason for using R is that it is able to represent and compute with many of them."
   ]
  },
  {
   "cell_type": "markdown",
   "metadata": {},
   "source": [
    "#### Let’s stop here. \n",
    "\n",
    "- **When you have finished your work and wish to submit your lab, you need to download this notebook as a pdf file. There are two common ways to do this.** \n",
    "1) **File > Save and Export Notebook As > PDF.**\n",
    "2) **File > Print > Save As PDF.**\n",
    "- **Submit the pdf file to Lab 1 in Crowdmark.**\n",
    "\n",
    "\n",
    "#### It is important to save your work, exit the notebook, and logout of syzygy when you are done. Simply closing the window in which you are working will leave the notebook running which can produce some minor problems when you next try to log in.\n",
    "\n",
    "- **Select File > Save Notebook or select the Save icon above to save your work.**\n",
    "- **To exit the notebook, select File > Close and Shutdown Notebook.**\n",
    "- **Select File > Log Out.**"
   ]
  }
 ],
 "metadata": {
  "kernelspec": {
   "display_name": "R",
   "language": "R",
   "name": "ir"
  },
  "language_info": {
   "codemirror_mode": "r",
   "file_extension": ".r",
   "mimetype": "text/x-r-source",
   "name": "R",
   "pygments_lexer": "r",
   "version": "4.3.3"
  }
 },
 "nbformat": 4,
 "nbformat_minor": 4
}
