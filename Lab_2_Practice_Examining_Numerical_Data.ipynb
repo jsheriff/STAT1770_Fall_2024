{
 "cells": [
  {
   "cell_type": "markdown",
   "metadata": {},
   "source": [
    "# Lab 2 Practice: Examining Numerical Data"
   ]
  },
  {
   "cell_type": "markdown",
   "metadata": {
    "slideshow": {
     "slide_type": "slide"
    }
   },
   "source": [
    "## Objectives\n",
    "\n",
    "* Analysis of numerical (quantitative) variables.\n",
    "* Numerical summaries of a single numerical variable: mean, median, standard deviation, five number summary\n",
    "* Graphical summaries of a single numerical variable: histogram, boxplot\n",
    "* Graphical summaries of the relationship between categorical and numerical variables: side-by-side boxplot\n",
    "* Graphical summaries of the relationship between two numerical variables: scatterplot"
   ]
  },
  {
   "cell_type": "markdown",
   "metadata": {},
   "source": [
    "## Load Data: "
   ]
  },
  {
   "cell_type": "code",
   "execution_count": null,
   "metadata": {},
   "outputs": [],
   "source": [
    "source(\"http://www.openintro.org/stat/data/cdc.R\")"
   ]
  },
  {
   "cell_type": "markdown",
   "metadata": {},
   "source": [
    "The `source` function is used to import the dataset that will be used in the tutorial. The data that is available to you is called `cdc`."
   ]
  },
  {
   "cell_type": "markdown",
   "metadata": {
    "slideshow": {
     "slide_type": "slide"
    }
   },
   "source": [
    "## Data Information:\n",
    "\n",
    "### Data Set:\n",
    "\n",
    "We will be using data from the CDC, the Centres for Disease Control in the U.S..\n",
    "\n",
    "The Behavioral Risk Factor Surveillance System (BRFSS) is an annual telephone survey of 350,000 people in the United States. As its name implies, the BRFSS is designed to identify risk factors in the adult population and report emerging health trends. For example, respondents are asked about their diet and weekly physical activity, their HIV/AIDS status, possible tobacco use, and even their level of healthcare coverage. The BRFSS Web site (http://www.cdc.gov/brfss) contains a complete description of the survey, including the research questions that motivate the study and many interesting results derived from the data.\n",
    "\n",
    "We will focus on a random sample of 20,000 people from the BRFSS survey conducted in 2000. While there are over 200 variables in this data set, we will work with a small subset.\n",
    "\n",
    " \n",
    "#### Name: #### \n",
    "* `cdc` - health data from the sample of the BRFSS survey from 2000.\n",
    "\n",
    "#### Variables: ####\n",
    "* `genhlth` - respondents were asked to evaluate their general health, responding either excellent, very good, good, fair or poor\n",
    "* `exerany` - whether the respondent exercised in the past month (recent) or did not (not_recent).\n",
    "* `hlthplan` - whether the respondent had some form of health coverage (insured) or did not (uninsured).\n",
    "* `smoke100` - whether the respondent had smoked at least 100 cigarettes in her lifetime (smoker) or has not (nonsmoker).\n",
    "* `height` - the respondent's height measured in inches.\n",
    "* `weight` - the respondent's weight measured in pounds.\n",
    "* `wtdesire` - the respondent's desired weight measured in pounds.\n",
    "* `age` - the respondent's age measured in years.\n",
    "* `gender` - whether the respondent said they were female or male."
   ]
  },
  {
   "cell_type": "markdown",
   "metadata": {
    "slideshow": {
     "slide_type": "slide"
    }
   },
   "source": [
    "## Getting Started: How R thinks about data\n",
    "\n",
    "R stores data in data frames (or dataset), which you might think of as a type of spreadsheet. **Each row is a different observation** (a different subject, or case) and **each column is a different variable** (the first is `genhlth`, the second `exerany` and so on). \n",
    "\n",
    "To view the names of the variables in the `cdc` data frame, use the `names` function."
   ]
  },
  {
   "cell_type": "code",
   "execution_count": null,
   "metadata": {
    "slideshow": {
     "slide_type": "slide"
    }
   },
   "outputs": [],
   "source": [
    "names(cdc)"
   ]
  },
  {
   "cell_type": "markdown",
   "metadata": {
    "slideshow": {
     "slide_type": "slide"
    }
   },
   "source": [
    "The function will return a list of the column names in the `cdc` data frame, which corresponds to the list of variables recorded for each subject."
   ]
  },
  {
   "cell_type": "markdown",
   "metadata": {
    "slideshow": {
     "slide_type": "slide"
    }
   },
   "source": [
    "We can see the size of the data frame, number of subjects and number of variables, by using the `dim` function"
   ]
  },
  {
   "cell_type": "code",
   "execution_count": null,
   "metadata": {
    "slideshow": {
     "slide_type": "slide"
    }
   },
   "outputs": [],
   "source": [
    "dim(cdc)"
   ]
  },
  {
   "cell_type": "markdown",
   "metadata": {
    "slideshow": {
     "slide_type": "slide"
    }
   },
   "source": [
    "which will return the number of rows and columns. We can see that the `cdc` data frame contains 9 variables recorded on 20,000 subjects."
   ]
  },
  {
   "cell_type": "markdown",
   "metadata": {},
   "source": [
    "We can look at the first few entries (rows) of our data with the `head` function"
   ]
  },
  {
   "cell_type": "code",
   "execution_count": null,
   "metadata": {},
   "outputs": [],
   "source": [
    "head(cdc)"
   ]
  },
  {
   "cell_type": "markdown",
   "metadata": {},
   "source": [
    "and similarly we can look at the last few entries (rows) of our data with the `tail` function"
   ]
  },
  {
   "cell_type": "code",
   "execution_count": null,
   "metadata": {},
   "outputs": [],
   "source": [
    "tail(cdc)"
   ]
  },
  {
   "cell_type": "markdown",
   "metadata": {},
   "source": [
    "In addition to showing some of the values recorded for each variable, the `head` and `tail` functions provide information on how each variable is being treated by R. For example, at the top of the `genhlth` column, you will see the label `<fct>`. This indicates that `genhlth` is being treated as a **`Factor` variable** which is equivalent to a **categorical variable**. Similarly, `gender` is being treated as a `Factor`, or categorical variable. \n",
    "\n",
    "The other variables are all being treated as numerical variables. Those labeled **`<dbl>`** are formally treated as **continuous numerical variables**, while those labeled **`<int>`** are formally treated as **discrete numerical variables**.\n",
    "\n",
    "Note, that when we begin exploring the data frame, there may be variables that are not treated by R in the correct manner. For example, the variable `hlthplan` records whether the respondent has some sort of health coverage. This is clearly a categorical variable. However, it was recorded either a `0` for those without coverage, or `1` for those with health coverage. Initially, upon encountering a series of `0`s and `1`s, R treats the variable as numerical.\n",
    "\n",
    "The variable type can be changed in R if it is incorrect. We will discuss that later."
   ]
  },
  {
   "cell_type": "markdown",
   "metadata": {},
   "source": [
    "You could also look at all of the data frame at once by typing its name, `cdc`,  into a code cell, but that might be unwise here. We know `cdc` has 20,000 rows, so viewing the entire data set could be overwhelming. Better to observe smaller portions of the dataframe using `head`, `tail`, or subsetting techniques that will be discussed at a later time."
   ]
  },
  {
   "cell_type": "markdown",
   "metadata": {
    "slideshow": {
     "slide_type": "slide"
    }
   },
   "source": [
    "### Selecting variables within a data frame\n",
    "\n",
    "There are many ways to select a subset of a data frame. \n",
    "\n",
    "At the moment, we will focus on selecting data associated with a particular variable in our data frame. We can use any of the variable names to select items in our data set.\n",
    "\n",
    "For example `cdc$weight`, represents the data associated with the variable `weight` in the `cdc` data frame.  The dollar-sign, `$`, tells R to look in data frame `cdc` for the column called `weight`. If one wanted to view some of the `weight` data, one could use the `head` function, or `tail` function as before."
   ]
  },
  {
   "cell_type": "code",
   "execution_count": null,
   "metadata": {
    "slideshow": {
     "slide_type": "slide"
    }
   },
   "outputs": [],
   "source": [
    "head(cdc$weight)"
   ]
  },
  {
   "cell_type": "markdown",
   "metadata": {},
   "source": [
    "This returns the `weight` value for each of first six subjects in the `cdc` data frame."
   ]
  },
  {
   "cell_type": "markdown",
   "metadata": {
    "slideshow": {
     "slide_type": "slide"
    }
   },
   "source": [
    "### Summarizing Quantitative Data\n",
    "\n",
    "### Numerical Summaries\n",
    "\n",
    "The BRFSS questionnaire contains a massive amount of information. A good first step in any analysis is to reduce all of that information into a few summary statistics and graphics. As a simple example, the function `summary` returns a numerical summary: minimum, first quartile, median, mean, second quartile, and maximum. For `weight`, this is"
   ]
  },
  {
   "cell_type": "code",
   "execution_count": null,
   "metadata": {},
   "outputs": [],
   "source": [
    "summary(cdc$weight)"
   ]
  },
  {
   "cell_type": "markdown",
   "metadata": {},
   "source": [
    "The mean, or average, weight in our sample is 169.7 pounds. The median weight is 165 pounds, indicating that half of the respondents weighed less than 165 pounds and half of the respondents weighed more than 165 pounds. Minimum weight recorded was 68 pounds, while max weight recorded was 500 pounds. One quarter of respondents weighed less than 140 pounds and one quarter of respondents weighed more than 190 pounds."
   ]
  },
  {
   "cell_type": "markdown",
   "metadata": {
    "slideshow": {
     "slide_type": "slide"
    }
   },
   "source": [
    "R also has built-in functions to compute summary statistics one by one. For instance, to calculate the **mean**, **median**, **variance**, and **standard deviation** of `weight`, type"
   ]
  },
  {
   "cell_type": "code",
   "execution_count": null,
   "metadata": {
    "slideshow": {
     "slide_type": "subslide"
    }
   },
   "outputs": [],
   "source": [
    "mean(cdc$weight) "
   ]
  },
  {
   "cell_type": "code",
   "execution_count": null,
   "metadata": {
    "slideshow": {
     "slide_type": "subslide"
    }
   },
   "outputs": [],
   "source": [
    "median(cdc$weight)"
   ]
  },
  {
   "cell_type": "code",
   "execution_count": null,
   "metadata": {
    "slideshow": {
     "slide_type": "subslide"
    }
   },
   "outputs": [],
   "source": [
    "var(cdc$weight)"
   ]
  },
  {
   "cell_type": "code",
   "execution_count": null,
   "metadata": {
    "slideshow": {
     "slide_type": "subslide"
    }
   },
   "outputs": [],
   "source": [
    "sd(cdc$weight)"
   ]
  },
  {
   "cell_type": "markdown",
   "metadata": {
    "slideshow": {
     "slide_type": "slide"
    }
   },
   "source": [
    "### Question: Find the median `height` for all respondents in the sample."
   ]
  },
  {
   "cell_type": "code",
   "execution_count": null,
   "metadata": {},
   "outputs": [],
   "source": []
  },
  {
   "cell_type": "markdown",
   "metadata": {},
   "source": [
    "<details>\n",
    "\n",
    "<summary><b>Click to view sample code:</b></summary>\n",
    "\n",
    "```\n",
    "median(cdc$height)\n",
    "```\n",
    "\n",
    "</details>"
   ]
  },
  {
   "cell_type": "markdown",
   "metadata": {
    "slideshow": {
     "slide_type": "slide"
    }
   },
   "source": [
    "### Graphical Summaries\n",
    "\n",
    "Two common ways to visualize a single numerical variable are with **box plots** (`boxplot`) and **histograms** (`hist`). \n",
    "\n",
    "#### Histogram\n",
    "\n",
    "We can look at the histogram, `hist`, for the variable `weight` with the command"
   ]
  },
  {
   "cell_type": "code",
   "execution_count": null,
   "metadata": {},
   "outputs": [],
   "source": [
    "hist(cdc$weight)"
   ]
  },
  {
   "cell_type": "markdown",
   "metadata": {},
   "source": [
    "Histograms are generally a very good way to see the shape of a single distribution, but the shape may be affected by how the data is split between the different bins. If you wish, you can control the number of bins by adding a `breaks` argument to the `hist` function. For example, to make a histogram of `weight` with 50 breaks"
   ]
  },
  {
   "cell_type": "code",
   "execution_count": null,
   "metadata": {},
   "outputs": [],
   "source": [
    "hist(cdc$weight, breaks = 50)"
   ]
  },
  {
   "cell_type": "markdown",
   "metadata": {},
   "source": [
    "To make a histogram of `weight` with 5 breaks"
   ]
  },
  {
   "cell_type": "code",
   "execution_count": null,
   "metadata": {},
   "outputs": [],
   "source": [
    "hist(cdc$weight, breaks = 5)"
   ]
  },
  {
   "cell_type": "markdown",
   "metadata": {},
   "source": [
    "All of the graphing functions in R may be used by including just the data to be graphed, but there are some optional arguments that may be used to customize the plot. Some of these optional arguments include:\n",
    "* `xlab` - specify the label for the x-axis, eg `xlab = \"x-axis label\"`\n",
    "* `xlim` - specify the minimum and maximum value for the x-axis, eg `xlim=c(minimum, maximum)`\n",
    "* `ylab` - specify the label for the y-axis, eg `ylab = \"y-axis label\"`\n",
    "* `ylim` - specify the minimum and maximum value for the y-axis, eg `ylim=c(minimum, maximum)`\n",
    "* `main` - specify a main title for the graph, eg `main = \"Reported Weight of Respondents\"`\n",
    "\n",
    "Not all of these options will be relevant in each situation. There are also more optional arguments that we will explore in coming weeks."
   ]
  },
  {
   "cell_type": "markdown",
   "metadata": {},
   "source": [
    "We can add **Weight in lbs** as a label for the x-axis and **Self-reported weight of Respondents** as a title for the histogram by customizing the `hist` function. "
   ]
  },
  {
   "cell_type": "code",
   "execution_count": null,
   "metadata": {},
   "outputs": [],
   "source": [
    "hist(cdc$weight, xlab = \"Weight in lbs\", main = \"Self-reported Weight of Respondents\")"
   ]
  },
  {
   "cell_type": "markdown",
   "metadata": {},
   "source": [
    "Weight appears to be slightly right skewed, with most reported weights between about 120 pounds and 220 pounds and almost all weights between 100 pounds and 300 pounds. There appears to be some unusual observations around 500 pounds. "
   ]
  },
  {
   "cell_type": "markdown",
   "metadata": {},
   "source": [
    "Producing relative frequency histograms in R requires using a separate R package. For now we will just use frequency histograms. "
   ]
  },
  {
   "cell_type": "markdown",
   "metadata": {
    "slideshow": {
     "slide_type": "slide"
    }
   },
   "source": [
    "### Question: Construct a histogram for the `height` of the individuals surveyed."
   ]
  },
  {
   "cell_type": "code",
   "execution_count": null,
   "metadata": {},
   "outputs": [],
   "source": []
  },
  {
   "cell_type": "markdown",
   "metadata": {},
   "source": [
    "<details>\n",
    "\n",
    "<summary><b>Click to view sample code:</b></summary>\n",
    "\n",
    "```\n",
    "hist(cdc$height, xlab = \"Height in inches\", main = \"Self-reported Height of Respondents\")\n",
    "```\n",
    "\n",
    "</details>"
   ]
  },
  {
   "cell_type": "markdown",
   "metadata": {
    "slideshow": {
     "slide_type": "slide"
    }
   },
   "source": [
    "### Question: Does the distribution of height appear to be skewed left, skewed right, or symmetric? Is it bell shaped?"
   ]
  },
  {
   "cell_type": "markdown",
   "metadata": {},
   "source": [
    "### Answer"
   ]
  },
  {
   "cell_type": "markdown",
   "metadata": {},
   "source": [
    "<details>\n",
    "\n",
    "<summary><b>Sample Answer:</b></summary>\n",
    "\n",
    "The distribution of height appears to be roughly symmetric and appears to be bell shaped.\n",
    "\n",
    "</details>"
   ]
  },
  {
   "cell_type": "markdown",
   "metadata": {},
   "source": [
    "#### Boxplot\n",
    "\n",
    "We can construct a box plot for a single variable with the following command."
   ]
  },
  {
   "cell_type": "code",
   "execution_count": null,
   "metadata": {},
   "outputs": [],
   "source": [
    "boxplot(cdc$weight)"
   ]
  },
  {
   "cell_type": "markdown",
   "metadata": {},
   "source": [
    "As before, the boxplot may be customized by adding axis labels and titles as appropriate. "
   ]
  },
  {
   "cell_type": "code",
   "execution_count": null,
   "metadata": {},
   "outputs": [],
   "source": [
    "boxplot(cdc$weight, ylab = \"Weight in lbs\", main = \"Self-reported Weight of Respondents\")"
   ]
  },
  {
   "cell_type": "markdown",
   "metadata": {},
   "source": [
    "Recall that the `summary` function will identify the locations of the components of the box."
   ]
  },
  {
   "cell_type": "code",
   "execution_count": null,
   "metadata": {},
   "outputs": [],
   "source": [
    "summary(cdc$weight)"
   ]
  },
  {
   "cell_type": "markdown",
   "metadata": {
    "slideshow": {
     "slide_type": "slide"
    }
   },
   "source": [
    "### Question: Construct a boxplot for the `height` of the individuals surveyed."
   ]
  },
  {
   "cell_type": "code",
   "execution_count": null,
   "metadata": {},
   "outputs": [],
   "source": []
  },
  {
   "cell_type": "markdown",
   "metadata": {},
   "source": [
    "<details>\n",
    "\n",
    "<summary><b>Click to view sample code:</b></summary>\n",
    " \n",
    "```\n",
    "boxplot(cdc$height, ylab = \"Height in inches\", main = \"Self-reported Height of Respondents\")\n",
    "```\n",
    "\n",
    "</details>"
   ]
  },
  {
   "cell_type": "markdown",
   "metadata": {},
   "source": [
    "### Exploring relationships between variables "
   ]
  },
  {
   "cell_type": "markdown",
   "metadata": {},
   "source": [
    "The `plot` function is useful for exploring the relationship between variable. The `plot` function will select which graphical display to use based upon the variables being compared."
   ]
  },
  {
   "cell_type": "markdown",
   "metadata": {},
   "source": [
    "### Relationship between categorical and numerical variables "
   ]
  },
  {
   "cell_type": "markdown",
   "metadata": {},
   "source": [
    "#### Side-by-side boxplots\n",
    "\n",
    "Boxplots are also useful for comparing distribution of a quantitative variable across different groups. At present, our data frame contains only two variables that are being treated as categorical, `genhlth` and `gender`. To explore the relationship between `weight` and `genhlth`, one can use the `plot` function, while identifying an explanatory variable and response variable.\n",
    "\n",
    "When comparing categorical and numerical variables in R, one should treat the **categorical variable** as the **explanatory variable**, or **x-variable**, and the **numerical variable** as the **response variable**, or **y-variable**. This is not to suggest the true nature of the relationship, but instead to obtain suitable graphs.\n",
    "\n",
    "There are two ways to do this using the `plot` function.\n",
    "\n",
    "One way is to use `x = ` and `y = ` to identify the explanatory variable and response variable. "
   ]
  },
  {
   "cell_type": "code",
   "execution_count": null,
   "metadata": {},
   "outputs": [],
   "source": [
    "plot(x = cdc$genhlth, y = cdc$weight)"
   ]
  },
  {
   "cell_type": "markdown",
   "metadata": {},
   "source": [
    "Alternatively, one may use `y~x` notation to state the relationship between the two variables of interest. This notation, called y tilde x, means that y depends upon x, or y responds to the explanatory variable x. For example, "
   ]
  },
  {
   "cell_type": "code",
   "execution_count": null,
   "metadata": {},
   "outputs": [],
   "source": [
    "plot(cdc$weight ~ cdc$genhlth)"
   ]
  },
  {
   "cell_type": "markdown",
   "metadata": {},
   "source": [
    "As before, the plot may be customized by adding titles as appropriate. In this example, **General Health** describes the variable on the x-axis, **Weight in lbs** describes the variable on the y-axis, and the overall graph is displaying the **Relationship between general health and weight**."
   ]
  },
  {
   "cell_type": "code",
   "execution_count": null,
   "metadata": {},
   "outputs": [],
   "source": [
    "plot(cdc$weight~cdc$genhlth, xlab = \"General Health\", ylab = \"Weight in lbs\", main = \"Relationship between general health and weight\")"
   ]
  },
  {
   "cell_type": "markdown",
   "metadata": {},
   "source": [
    "It does appear that there may be a relationship between general health of respondents and the weight of respondents. As reported health goes from excellent to poor, weight tends to increase as indicated by increases in the median weight."
   ]
  },
  {
   "cell_type": "markdown",
   "metadata": {
    "slideshow": {
     "slide_type": "slide"
    }
   },
   "source": [
    "### Question: Construct a plot to explore the relationship between `height` and `genhlth` of the individuals surveyed."
   ]
  },
  {
   "cell_type": "code",
   "execution_count": null,
   "metadata": {},
   "outputs": [],
   "source": []
  },
  {
   "cell_type": "markdown",
   "metadata": {},
   "source": [
    "<details>\n",
    "\n",
    "<summary><b>Click to view sample code:</b></summary>\n",
    "\n",
    "There are various ways that you could plot this relationship. Two possibilities are presented below:\n",
    "\n",
    "1) You can explicitly define the x-variable and y-variable\n",
    "\n",
    "```\n",
    "plot(cdc$weight ~ x = cdc$genhlth, xlab = \"General Health\", ylab = \"Weight in lbs\", main = \"Relationship between general health and weight\")\n",
    "```\n",
    "\n",
    "\n",
    "2) You can use the `y ~ x` notation to define the desired relationship\n",
    "\n",
    "```\n",
    "plot(cdc$weight ~ cdc$genhlth, xlab = \"General Health\", ylab = \"Weight in lbs\", main = \"Relationship between general health and weight\")\n",
    "```\n",
    "\n",
    "</details>"
   ]
  },
  {
   "cell_type": "markdown",
   "metadata": {},
   "source": [
    "### Relationship between two and numerical variables "
   ]
  },
  {
   "cell_type": "markdown",
   "metadata": {},
   "source": [
    "#### Scatterplots\n",
    "\n",
    "**Scatterplots** are useful for exploring the **relationship** between **two numerical variables**. For example, to explore the relationship between `weight` and `height`, one can use the `plot` function, while identifying an explanatory variable and response variable.\n",
    "\n",
    "There are two ways to do this using the `plot` function.\n",
    "\n",
    "One way is to use `x = ` and `y = ` to identify the explanatory variable and response variable. \n",
    "\n",
    "When comparing two numerical variables in R, one can treat either variable as the explanatory variable and response variable."
   ]
  },
  {
   "cell_type": "code",
   "execution_count": null,
   "metadata": {},
   "outputs": [],
   "source": [
    "plot(x = cdc$height, y = cdc$weight)"
   ]
  },
  {
   "cell_type": "markdown",
   "metadata": {},
   "source": [
    "As before, the plot may be customized by adding titles as appropriate. "
   ]
  },
  {
   "cell_type": "code",
   "execution_count": null,
   "metadata": {},
   "outputs": [],
   "source": [
    "plot(cdc$weight~cdc$height, xlab = \"Height in inches\", ylab = \"Weight in lbs\", main = \"Relationship between height and weight\")"
   ]
  },
  {
   "cell_type": "markdown",
   "metadata": {},
   "source": [
    "Alternatively, one may use `y~x` notation to state the relationship between the two variables of interest. For example"
   ]
  },
  {
   "cell_type": "code",
   "execution_count": null,
   "metadata": {},
   "outputs": [],
   "source": [
    "plot(cdc$weight ~ cdc$height, xlab = \"Height in inches\", ylab = \"Weight in lbs\", main = \"Relationship between height and weight\")"
   ]
  },
  {
   "cell_type": "markdown",
   "metadata": {},
   "source": [
    "There does appear to be a relationship between `height` and `weight`. In particular, there is a positive, linear relationship, but the relationship seems weak. As height increases, weight also tends to increase and it does so in a roughly linear fashion. However, there is quite a bit of variability around this overall trend, indicating a weak relationship."
   ]
  },
  {
   "cell_type": "markdown",
   "metadata": {
    "slideshow": {
     "slide_type": "slide"
    }
   },
   "source": [
    "### Question: Construct a plot to explore the relationship between `weight` and `age` of the individuals surveyed."
   ]
  },
  {
   "cell_type": "code",
   "execution_count": null,
   "metadata": {},
   "outputs": [],
   "source": []
  },
  {
   "cell_type": "markdown",
   "metadata": {},
   "source": [
    "<details>\n",
    "\n",
    "<summary><b>Click to view sample code:</b></summary>\n",
    "\n",
    "There are various ways that you could plot this relationship. Two possibilities are presented below:\n",
    "\n",
    "1) You can explicitly define the x-variable and y-variable\n",
    "\n",
    "```\n",
    "plot(x = cdc$age, y = cdc$weight, xlab = \"Age in years\", ylab = \"Weight in lbs\", main = \"Relationship between weight and age\")\n",
    "```\n",
    "\n",
    "\n",
    "2) You can use the `y ~ x` notation to define the desired relationship\n",
    "\n",
    "```\n",
    "plot(cdc$weight ~ cdc$age, xlab = \"Age in years\", ylab = \"Weight in lbs\", main = \"Relationship between weight and age\")\n",
    "```\n",
    "\n",
    "</details>"
   ]
  }
 ],
 "metadata": {
  "kernelspec": {
   "display_name": "R",
   "language": "R",
   "name": "ir"
  },
  "language_info": {
   "codemirror_mode": "r",
   "file_extension": ".r",
   "mimetype": "text/x-r-source",
   "name": "R",
   "pygments_lexer": "r",
   "version": "4.3.3"
  }
 },
 "nbformat": 4,
 "nbformat_minor": 4
}
