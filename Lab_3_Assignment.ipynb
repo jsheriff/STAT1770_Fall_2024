{
 "cells": [
  {
   "cell_type": "markdown",
   "id": "23f68063",
   "metadata": {},
   "source": [
    "# Lab 3 Assignment\n",
    "\n",
    "### Lab 3 Assignment is due on Tuesday October 1 at 8:00 pm. \n",
    "\n",
    "### Complete this notebook, by introducing and executing the required code and answering the related questions.\n",
    "\n",
    "### When you have finished your work and wish to submit your assignment, download this notebook as a pdf file: <br>- File > Save and Export Notebook As > PDF <br>or <br>- File > Print > Save as PDF.  <br>Submit the pdf file to Lab 3 Assignment in Crowdmark.\n",
    "\n",
    "### You can copy, paste, and modify code from previous labs if you wish, as opposed to writing code from scratch. Open the previous lab and highlight the code you want. Then copy and paste the code into this assignment and make the necessary modifications.\n",
    "\n",
    "### If you have questions, please ask.\n",
    "\n",
    "---"
   ]
  },
  {
   "cell_type": "markdown",
   "id": "b31e96ea-09d6-40eb-b6ff-8d22862c0eab",
   "metadata": {
    "jp-MarkdownHeadingCollapsed": true
   },
   "source": [
    "## Reminder - working with notebooks\n",
    "\n",
    "#### 1) It is important to save your work, exit the notebook, and logout of syzygy whenever you are finished working on the notebook for that session.\n",
    "\n",
    "- **Select File > Save Notebook or select the Save icon above to save your work.**\n",
    "- **To exit the notebook, select File > Close and Shutdown Notebook.**\n",
    "- **Select File > Log Out.**\n",
    "\n",
    "\n",
    "#### 2) When you resume your work on a notebook, your previous work/output may still be displayed, but none of your previous work is maintained in memory accessible by the notebook. In particular, you will need to load the dataset again in order to continue working with the data. One easy way to refresh your notebook is to go to the notebook cell where you left off and do the following.\n",
    "\n",
    "- **Select Kernel > Restart Kernel and Run up to Selected Cell.**\n",
    "#### This will run all of the code in your notebook up to the selected cell."
   ]
  },
  {
   "cell_type": "markdown",
   "id": "6e5c3fa2",
   "metadata": {},
   "source": [
    "## Load Data: "
   ]
  },
  {
   "cell_type": "code",
   "execution_count": null,
   "id": "0709156f",
   "metadata": {},
   "outputs": [],
   "source": [
    "download.file(\"http://www.openintro.org/stat/data/rda/bac.rda\",destfile = \"bac.rda\")\n",
    "load(\"bac.rda\")\n",
    "alcohol = bac #create new dataset called alcohol"
   ]
  },
  {
   "cell_type": "markdown",
   "id": "112fb7d9",
   "metadata": {},
   "source": [
    "The `download.file` function and `load` function are used to import the dataset that will be used in the assignment. The dataset is called `bac`. These commands instruct R to access the OpenIntro website and retrieve some data, which is in a file called `bac.rda`. The .rda indicates a file format, like .csv, .txt etc. R is capable of importing files of various formats (using the appropriate command). The `bac` dataset, which is contained within `bac.rda` is already in a format native to R.\n",
    "\n",
    "The final command creates a new dataset called `alcohol` that will be used for this assignment. This is done to avoid possible confusion, since there is a variable in the dataset that is called `bac`"
   ]
  },
  {
   "cell_type": "markdown",
   "id": "674effd0",
   "metadata": {},
   "source": [
    "## Data Information:\n",
    "\n",
    "### Data Set:\n",
    "\n",
    "#### Name: #### \n",
    "* `alcohol`: dataset containing results from study\n",
    "\n",
    "\n",
    "#### Variables: ####\n",
    "\n",
    "The variables included in the dataset are  \n",
    "\n",
    "* `student`: identifier for student in study.\n",
    "* `beers`: number of cans of beer consumed by student.\n",
    "* `bac`: blood alcohol content recorded for student (grams of alcohol per deciliter of blood)."
   ]
  },
  {
   "cell_type": "markdown",
   "id": "3ad45f2c",
   "metadata": {},
   "source": [
    "## Beer and blood alcohol content\n",
    "\n",
    "Many people believe that gender, weight, drinking habits, and many other factors are much more important in predicting blood alcohol content (BAC) than simply considering the number of drinks a person consumed. Here we examine data from  student volunteers who each drank a randomly assigned number of cans of beer. Thirty minutes after consuming the assigned cans of beer, their blood alcohol content (BAC) in grams of alcohol per deciliter of blood was measured. We wish to explore the relationship between the number of drinks consumed and blood alcohol content.\n",
    "\n",
    "---"
   ]
  },
  {
   "cell_type": "markdown",
   "id": "64de2fec",
   "metadata": {},
   "source": [
    "We could use some combination of `head`, `tail`, `dim`, `names` to begin exploring the `alcohol` dataset."
   ]
  },
  {
   "cell_type": "code",
   "execution_count": null,
   "id": "4a0d7445",
   "metadata": {},
   "outputs": [],
   "source": []
  },
  {
   "cell_type": "markdown",
   "id": "da4aa329",
   "metadata": {},
   "source": [
    "### Exercise 1:  How many subjects participated in this study? (1 mark) "
   ]
  },
  {
   "cell_type": "markdown",
   "id": "3e725dde",
   "metadata": {},
   "source": [
    "### Answer: <br>"
   ]
  },
  {
   "cell_type": "markdown",
   "id": "affbb85b",
   "metadata": {},
   "source": [
    "We are interested in investigating the relationship between the number of drinks consumed and blood alcohol content."
   ]
  },
  {
   "cell_type": "markdown",
   "id": "3169cdc3",
   "metadata": {},
   "source": [
    "### Exercise 2:  Create a plot of blood alcohol content, `bac` (response), against the number of beers consumed, `beers` (explanatory).  (3 marks)"
   ]
  },
  {
   "cell_type": "code",
   "execution_count": null,
   "id": "bf9d879b",
   "metadata": {},
   "outputs": [],
   "source": []
  },
  {
   "cell_type": "markdown",
   "id": "08e82c59",
   "metadata": {},
   "source": [
    "### Exercise 3:  Describe the relationship between number of beers consumed and blood alcohol content? (3 marks)"
   ]
  },
  {
   "cell_type": "markdown",
   "id": "c038ccd7",
   "metadata": {},
   "source": [
    "### Answer: <br>"
   ]
  },
  {
   "cell_type": "markdown",
   "id": "2999b0f5",
   "metadata": {},
   "source": [
    "### Exercise 4:  Fit the linear model, using `beers` as  the predictor (explanatory) and  `bac` as the response. Display the results of fitting the linear model.  (4 marks)"
   ]
  },
  {
   "cell_type": "code",
   "execution_count": null,
   "id": "d525a1e9",
   "metadata": {},
   "outputs": [],
   "source": []
  },
  {
   "cell_type": "markdown",
   "id": "17961301",
   "metadata": {},
   "source": [
    "### Exercise 5:  Write the equation of the regression line.  (2 marks)"
   ]
  },
  {
   "cell_type": "markdown",
   "id": "451c3f34",
   "metadata": {},
   "source": [
    "### Answer: <br>"
   ]
  },
  {
   "cell_type": "markdown",
   "id": "ea592a35",
   "metadata": {},
   "source": [
    "### Exercise 6:  Using the regression equation, predict the blood alcohol content for a person who consumes 4 beers.  (2 marks)"
   ]
  },
  {
   "cell_type": "markdown",
   "id": "dd4257e6",
   "metadata": {},
   "source": [
    "### Answer: <br>"
   ]
  },
  {
   "cell_type": "markdown",
   "id": "d32ea935-3700-4610-a3d3-17dea2fb409f",
   "metadata": {},
   "source": [
    "- **When you have finished your work and wish to submit your lab, you need to download this notebook as a pdf file. There are two common ways to do this.** \n",
    "1) **File > Save and Export Notebook As > PDF.**\n",
    "2) **File > Print > Save As PDF.**\n",
    "- **Submit the pdf file to Lab 3 in Crowdmark.**\n",
    "\n",
    "\n",
    "#### It is important to save your work, exit the notebook, and logout of syzygy when you are done.\n",
    "\n",
    "- **Select File > Save Notebook or select the Save icon above to save your work.**\n",
    "- **To exit the notebook, select File > Close and Shutdown Notebook.**\n",
    "- **Select File > Log Out.**"
   ]
  },
  {
   "cell_type": "code",
   "execution_count": null,
   "id": "7a499092-6084-4385-9609-b5eb61b0565b",
   "metadata": {},
   "outputs": [],
   "source": []
  }
 ],
 "metadata": {
  "kernelspec": {
   "display_name": "R",
   "language": "R",
   "name": "ir"
  },
  "language_info": {
   "codemirror_mode": "r",
   "file_extension": ".r",
   "mimetype": "text/x-r-source",
   "name": "R",
   "pygments_lexer": "r",
   "version": "4.3.3"
  }
 },
 "nbformat": 4,
 "nbformat_minor": 5
}
