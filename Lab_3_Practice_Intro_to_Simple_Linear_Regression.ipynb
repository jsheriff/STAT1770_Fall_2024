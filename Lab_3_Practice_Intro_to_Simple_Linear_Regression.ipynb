{
 "cells": [
  {
   "cell_type": "markdown",
   "metadata": {},
   "source": [
    "# Lab 3 Practice: Introduction to Simple Linear Regression"
   ]
  },
  {
   "cell_type": "markdown",
   "metadata": {
    "jp-MarkdownHeadingCollapsed": true
   },
   "source": [
    "## Reminder - working with notebooks\n",
    "\n",
    "#### 1) It is important to save your work, exit the notebook, and logout of syzygy whenever you are finished working on the notebook for that session. Simply closing the window in which you are working will leave the notebook running which can produce some minor problems when you next try to log in to resume working on the notebook.\n",
    "\n",
    "- **Select File > Save Notebook or select the Save icon above to save your work.**\n",
    "- **To exit the notebook, select File > Close and Shutdown Notebook.**\n",
    "- **Select File > Log Out.**\n",
    "\n",
    "\n",
    "#### 2) When you resume your work on a notebook, your previous work/output may still be displayed, but none of your previous work is maintained in memory accessible by the notebook. In particular, you will need to load the dataset again in order to continue working with the data. One easy way to refresh your notebook is to go to the notebook cell where you left off and do the following.\n",
    "\n",
    "- **Select Kernel > Restart Kernel and Run up to Selected Cell.**\n",
    "#### This will run all of the code in your notebook up to the selected cell."
   ]
  },
  {
   "cell_type": "markdown",
   "metadata": {
    "slideshow": {
     "slide_type": "slide"
    }
   },
   "source": [
    "## Objectives\n",
    "\n",
    "* Relationship between two numerical variables\n",
    "* Graphical summary: scatterplot\n",
    "* Numerical summary: correlation\n",
    "* Modelling linear relationship: linear regression."
   ]
  },
  {
   "cell_type": "markdown",
   "metadata": {},
   "source": [
    "## Load Data: "
   ]
  },
  {
   "cell_type": "code",
   "execution_count": null,
   "metadata": {},
   "outputs": [],
   "source": [
    "download.file(\"http://www.openintro.org/stat/data/mlb11.RData\", destfile = \"mlb11.RData\")\n",
    "load(\"mlb11.RData\")"
   ]
  },
  {
   "cell_type": "markdown",
   "metadata": {},
   "source": [
    "The `download.file` and `load` functions are used to import the dataset that will be used in the tutorial. The data that is available to you is called `mlb11`."
   ]
  },
  {
   "cell_type": "markdown",
   "metadata": {
    "slideshow": {
     "slide_type": "slide"
    }
   },
   "source": [
    "## Data Information:\n",
    "\n",
    "### Data Set:\n",
    "\n",
    "This dataset contains various team statistics from all 30 Major League Baseball teams for the 2011 season.\n",
    "\n",
    "\n",
    "#### Name: #### \n",
    "* `mlb11` - Major league baseball team data from the 2011 season.\n",
    "\n",
    "#### Variables: ####\n",
    "* `team` - Name of the team.\n",
    "* `runs` - Number of runs scored by the team in the year.\n",
    "* `at_bats` - Number of at-bats for the team in the year.\n",
    "* `hits` - Number of hits by the team in the year.\n",
    "* `homeruns` - Number of homeruns recorded by the team in the year.\n",
    "* `bat_avg` - Batting average for the team.\n",
    "* `strikeouts` - Number of strikeouts by the team in the year.\n",
    "* `stolen_bases` - Number of stolen bases by the team in the year.\n",
    "* `wins` - Number of wins for the team in the year.\n",
    "* `new_onbase` - On base percentage for the team in the year.\n",
    "* `new_slug` - Slugging percentage for the team in the year.\n",
    "* `new_obs` - Combined on base and slugging percentage for the team in the year.\n"
   ]
  },
  {
   "cell_type": "markdown",
   "metadata": {
    "slideshow": {
     "slide_type": "slide"
    }
   },
   "source": [
    "## Baseball\n",
    "\n",
    "The movie Moneyball focuses on the \"quest for the secret of success in baseball\". It follows a low-budget team, the Oakland Athletics, who believed that underused statistics, such as a player's ability to get on base, better predict the ability to score runs than typical statistics like home runs, RBIs (runs batted in), and batting average. Obtaining players who excelled in these underused statistics turned out to be much more affordable for the team.\n",
    "\n",
    "In this lab we'll consider data from all 30 Major League Baseball teams and examine the linear relationship between runs scored in a season and a number of other player statistics. Our aim will be to summarize these relationships both graphically and numerically in order to find which variable, if any, helps us best predict a team's runs scored in a season.\n",
    "\n",
    "In addition to runs scored, there are seven traditionally used variables in the data set: at-bats, hits, home runs, batting average, strikeouts, stolen bases, and wins. There are also three newer variables: on-base percentage, slugging percentage, and on-base plus slugging."
   ]
  },
  {
   "cell_type": "markdown",
   "metadata": {
    "slideshow": {
     "slide_type": "slide"
    }
   },
   "source": [
    "We may wish to begin by using some combination of the `names`, `dim`, `str`, and `head` commands to begin exploring the `mlb11` dataset."
   ]
  },
  {
   "cell_type": "markdown",
   "metadata": {
    "slideshow": {
     "slide_type": "slide"
    }
   },
   "source": [
    "`names` lists the names of the variables in the dataset. "
   ]
  },
  {
   "cell_type": "code",
   "execution_count": null,
   "metadata": {
    "slideshow": {
     "slide_type": "slide"
    }
   },
   "outputs": [],
   "source": [
    "names(mlb11)"
   ]
  },
  {
   "cell_type": "markdown",
   "metadata": {},
   "source": [
    "`dim` reports the dimension, or size, of the dataset measured as the number of rows (observations) and number of columns (generally the number of variables)."
   ]
  },
  {
   "cell_type": "code",
   "execution_count": null,
   "metadata": {
    "slideshow": {
     "slide_type": "slide"
    }
   },
   "outputs": [],
   "source": [
    "dim(mlb11)"
   ]
  },
  {
   "cell_type": "markdown",
   "metadata": {},
   "source": [
    " `str` reports the structure of the dataset. It lists the variables in the dataset, identifies the type of each variable, and provides a glimpse of some of the data recorded for each variable."
   ]
  },
  {
   "cell_type": "code",
   "execution_count": null,
   "metadata": {
    "slideshow": {
     "slide_type": "slide"
    }
   },
   "outputs": [],
   "source": [
    "str(mlb11)"
   ]
  },
  {
   "cell_type": "markdown",
   "metadata": {},
   "source": [
    " `head` reports few rows of data in the dataset. The default is the first six rows, but the `n = k` argument may be included to specify the number of rows to display."
   ]
  },
  {
   "cell_type": "code",
   "execution_count": null,
   "metadata": {
    "slideshow": {
     "slide_type": "slide"
    }
   },
   "outputs": [],
   "source": [
    "head(mlb11)"
   ]
  },
  {
   "cell_type": "code",
   "execution_count": null,
   "metadata": {
    "slideshow": {
     "slide_type": "slide"
    }
   },
   "outputs": [],
   "source": [
    "head(mlb11, n = 10)"
   ]
  },
  {
   "cell_type": "markdown",
   "metadata": {
    "slideshow": {
     "slide_type": "slide"
    }
   },
   "source": [
    "### Graphical Summary"
   ]
  },
  {
   "cell_type": "markdown",
   "metadata": {},
   "source": [
    "#### Scatterplots\n",
    "\n",
    "**Scatterplots** are useful for exploring the **relationship** between **two numerical variables**. \n",
    "\n",
    "The `plot` function may be used to create a scatterplot, by including the two quantitative variables of interest as arguments.  \n",
    "\n",
    "Construct a scatterplot to display the relationship between runs scored, `runs`, and at-bats, `at_bats`, using the variable `at_bats` as the predictor (explanatory) variable and the variable `runs` as the response variable.  \n",
    "\n",
    "There are two ways to do this using the `plot` function.\n",
    "\n",
    "One way is to use `x = ` and `y = ` to identify the explanatory variable and response variable. "
   ]
  },
  {
   "cell_type": "code",
   "execution_count": null,
   "metadata": {},
   "outputs": [],
   "source": [
    "plot(x = mlb11$at_bats, y = mlb11$runs)"
   ]
  },
  {
   "cell_type": "markdown",
   "metadata": {},
   "source": [
    "Alternatively, one may use `y~x` notation to state the relationship between the two variables of interest. For example"
   ]
  },
  {
   "cell_type": "code",
   "execution_count": null,
   "metadata": {},
   "outputs": [],
   "source": [
    "plot(mlb11$runs ~ mlb11$at_bats)"
   ]
  },
  {
   "cell_type": "markdown",
   "metadata": {
    "slideshow": {
     "slide_type": "slide"
    }
   },
   "source": [
    "The `plot` function only requires the data to be graphed, but there are some optional arguments that may be used to customize the plot. Some of these optional arguments include:\n",
    "\n",
    "* `xlab` - specify the label for the x-axis, eg `xlab = \"x-axis label\"`\n",
    "* `xlim` - specify the minimum and maximum value for the x-axis, eg `xlim=c(minimum, maximum)`\n",
    "* `ylab` - specify the label for the y-axis, eg `ylab = \"y-axis label\"`\n",
    "* `ylim` - specify the minimum and maximum value for the y-axis, eg `ylim=c(minimum, maximum)`\n",
    "* `main` - specify a main title for the graph, eg `main = \"Reported Weight of Respondents\"`\n",
    "\n",
    "Not all of these options will be relevant in each situation. There are also more optional arguments that we will explore in coming weeks."
   ]
  },
  {
   "cell_type": "code",
   "execution_count": null,
   "metadata": {},
   "outputs": [],
   "source": [
    "plot(x = mlb11$at_bats, y = mlb11$runs, xlab = \"Number of at-bats by team\", ylab = \"Number of runs scored by team\")"
   ]
  },
  {
   "cell_type": "code",
   "execution_count": null,
   "metadata": {},
   "outputs": [],
   "source": [
    "plot(mlb11$runs ~ mlb11$at_bats, xlab = \"Number of at-bats by team\", ylab = \"Number of runs scored by team\")"
   ]
  },
  {
   "cell_type": "markdown",
   "metadata": {
    "slideshow": {
     "slide_type": "slide"
    }
   },
   "source": [
    "### Question: <br>-Does there appear to be a relationship between number of at-bats and number of runs? <br>-If there does appear to be a relationship, does the relationship appear to be positive or negative? <br>-Does the relationship look linear? <br>-How strong is the relationship? "
   ]
  },
  {
   "cell_type": "markdown",
   "metadata": {},
   "source": [
    "### Answer: "
   ]
  },
  {
   "cell_type": "markdown",
   "metadata": {},
   "source": [
    "<details>\n",
    "\n",
    "<summary><b>Sample Answer:</b></summary>\n",
    "\n",
    "*There does appear to be a relationship between number of at-bats and number of runs. In particular as the number of at-bats increases, the number of runs also tends to increase. This represents a positive relationship. The relationship appears to be roughly linear, and moderately strong. There are a few unusual observations*\n",
    "\n",
    "</details>"
   ]
  },
  {
   "cell_type": "markdown",
   "metadata": {
    "slideshow": {
     "slide_type": "slide"
    }
   },
   "source": [
    "### Question:  If you knew a team's at-bats, would  you be comfortable using a linear model to predict the number of runs for that team? "
   ]
  },
  {
   "cell_type": "markdown",
   "metadata": {},
   "source": [
    "### Answer:"
   ]
  },
  {
   "cell_type": "markdown",
   "metadata": {},
   "source": [
    "<details>\n",
    "\n",
    "<summary><b>Sample Answer:</b></summary>\n",
    "\n",
    "*Since the relationship seems roughly linear, I would feel comfortable using a linear model to predict runs using at-bats. However, because the data is so spread out, there is not a very strong linear relationship between at-bats and runs. Hence, I would not expect my predictions to be especially accurate.*\n",
    "\n",
    "\n",
    "</details>"
   ]
  },
  {
   "cell_type": "markdown",
   "metadata": {},
   "source": [
    "### Question: Construct a scatterplot to display the relationship between runs scored, `runs`, and homeruns, `homeruns`, using the variable `homeruns` as the predictor (explanatory) variable and the variable `runs` as the response variable.  "
   ]
  },
  {
   "cell_type": "code",
   "execution_count": null,
   "metadata": {},
   "outputs": [],
   "source": []
  },
  {
   "cell_type": "markdown",
   "metadata": {},
   "source": [
    "<details>\n",
    "\n",
    "<summary><b>Click to view sample code:</b></summary>\n",
    "\n",
    "<br>\n",
    "\n",
    "Option 1\n",
    "```\n",
    "plot(x = mlb11$homeruns, y = mlb11$runs, xlab = \"Number of homeruns by team\", ylab = \"Number of runs scored by team\")\n",
    "```\n",
    "\n",
    "<br>\n",
    "\n",
    "Option 2\n",
    "```\n",
    "plot(mlb11$runs ~ mlb11$homeruns, xlab = \"Number of homeruns by team\", ylab = \"Number of runs scored by team\")\n",
    "```\n",
    "\n",
    "</details>"
   ]
  },
  {
   "cell_type": "markdown",
   "metadata": {
    "slideshow": {
     "slide_type": "slide"
    }
   },
   "source": [
    "### Numerical Summary\n",
    "\n",
    "When summarizing a single quantitative variable, we used numerical quantities such as the mean and standard deviation. It would be useful to be able to summarize the relationship between two quantitative variables. If the relationship looks linear, we can describe the relationship by quantifying the strength of the linear relationship, and by choosing the line that best fits, or summarizes, the relationship."
   ]
  },
  {
   "cell_type": "markdown",
   "metadata": {
    "slideshow": {
     "slide_type": "slide"
    }
   },
   "source": [
    "### Correlation\n",
    "\n",
    "The sactterplot provides a visual indication of how well the regression line *fits* the data. The **Correlation coefficient** is a numerical summary used to quantify the **strength of the linear relationship** between to quantitative variables. Correlation ranges between +1, for variables with a perfect positive linear relationship, to -1, for variables with a perfect negative linear relationship. A correlation of 0 represents no linear relationship between two numerical variables. The `cor` function is used for this. `cor(x,y)` calculates the correlation between two quantitative variables `x` and `y`."
   ]
  },
  {
   "cell_type": "code",
   "execution_count": null,
   "metadata": {
    "slideshow": {
     "slide_type": "slide"
    }
   },
   "outputs": [],
   "source": [
    "cor(mlb11$at_bats, mlb11$runs)"
   ]
  },
  {
   "cell_type": "markdown",
   "metadata": {},
   "source": [
    "### Question: Calculate the correlation between `homeruns` and `runs`."
   ]
  },
  {
   "cell_type": "code",
   "execution_count": null,
   "metadata": {},
   "outputs": [],
   "source": []
  },
  {
   "cell_type": "markdown",
   "metadata": {},
   "source": [
    "<details>\n",
    "\n",
    "<summary><b>Click to view sample code:</b></summary>\n",
    "\n",
    "\n",
    "```\n",
    "cor(mlb11$homeruns, mlb11$runs)\n",
    "```\n",
    "\n",
    "</details>"
   ]
  },
  {
   "cell_type": "markdown",
   "metadata": {},
   "source": [
    "### The linear model\n",
    "\n",
    "Choosing a line that summarizes the relationship between two quantitative variable, mean choosing and **intercept, $b_0$**, and **slope, $b_1$**, such that for each value of the explanatory variable, $x$, we can predict the value of the response variable, $\\hat{y}$.\n",
    "\n",
    "$$\\hat{y} = b_0 + b_1\\cdot x$$\n",
    "\n",
    "To find the line that **best** summarizes the relationship, we need to consider the difference between the observed values and the values predicted by the line.\n",
    "\n",
    "$$ e_i = y_i - \\hat{y}_i$$\n",
    "\n",
    "The $e_i$'s represent the residuals, or prediction errors, associated with the proposed linear relationship.  \n",
    "\n",
    "The most common way to do linear regression is to select the line, that is to select intercept, $a$, and slope, $b$, that minimizes the sum of squared residuals.\n",
    "\n",
    "$$\\sum e_i^2 = \\sum (y_i - \\hat{y}_i)^2$$\n",
    "\n",
    "It is rather cumbersome to try to get the correct **least squares line**, i.e. the line that minimizes the sum of squared residuals by hand, either through trial and error or through the use of calculus. \n",
    "\n",
    "Instead we can use the `lm` function in R to fit the linear model (find the least squares regression line)."
   ]
  },
  {
   "cell_type": "code",
   "execution_count": null,
   "metadata": {},
   "outputs": [],
   "source": [
    "regress1 = lm(runs ~ at_bats, data = mlb11)"
   ]
  },
  {
   "cell_type": "markdown",
   "metadata": {},
   "source": [
    "* The first argument in the function lm is a formula that takes the form `y ~ x`. Here it can be read that we want to make a linear model of `runs` as a function of `at_bats`.  \n",
    "  \n",
    "\n",
    "* The second argument specifies that R should look in the `mlb11` data frame to find the `runs` and `at_bats` variables.\n",
    "  \n",
    "  \n",
    "* The output of the `lm` function is being saved to a new object called `regress1` here, that contains information about the linear model that was just fit. We can access this information using the `summary` function."
   ]
  },
  {
   "cell_type": "code",
   "execution_count": null,
   "metadata": {},
   "outputs": [],
   "source": [
    "summary(regress1)"
   ]
  },
  {
   "cell_type": "markdown",
   "metadata": {},
   "source": [
    "Consider this output piece by piece. \n",
    "\n",
    "* First, the formula used to describe the model is shown at the top. \n",
    "  \n",
    "  \n",
    "* After the formula you find the five-number summary of the residuals.  \n",
    "  \n",
    "  \n",
    "* The `Coefficients` table shown next is key; its first column displays the linear model's *y*-intercept and the coefficient of the explanatory variable, `at_bats`. With this table, we can write down the least squares regression line for the linear model:\n",
    "\n",
    "$$\\hat{runs} = -2789.2429 + 0.6305 \\cdot at\\_bats$$\n",
    "\n",
    "or\n",
    "\n",
    "$$\\hat{y} = -2789.2429 + 0.6305 \\cdot x$$\n",
    "\n",
    "The output also contains additional information. Some of this will be covered in a subsequent lab, and some is not covered in our course."
   ]
  },
  {
   "cell_type": "markdown",
   "metadata": {
    "slideshow": {
     "slide_type": "slide"
    }
   },
   "source": [
    "### Question:  Fit a new model that uses `homeruns` to predict `runs`. (Use a different model name than `regress1` to save the results)"
   ]
  },
  {
   "cell_type": "code",
   "execution_count": null,
   "metadata": {},
   "outputs": [],
   "source": []
  },
  {
   "cell_type": "markdown",
   "metadata": {},
   "source": [
    "<details>\n",
    "\n",
    "<summary><b>Click to view sample code:</b></summary>\n",
    "\n",
    "\n",
    "```\n",
    "regress2 = lm(runs ~ homeruns, data = mlb11)\n",
    "```\n",
    "\n",
    "</details>"
   ]
  },
  {
   "cell_type": "markdown",
   "metadata": {},
   "source": [
    "### Question: Using the R output from fitting the linear model, write the equation of the regression line.  "
   ]
  },
  {
   "cell_type": "markdown",
   "metadata": {},
   "source": [
    "### Answer:  "
   ]
  },
  {
   "cell_type": "markdown",
   "metadata": {},
   "source": [
    "<details>\n",
    "\n",
    "<summary><b>Sample Answer:</b></summary>\n",
    "\n",
    "$\\hat{runs} = 415.2389 + (1.8345) \\times (homeruns)$\n",
    "\n",
    "#### Your answer does not need to use $\\hat{runs}$ notation. Your answer could simply use *runs*, or *runs-hat*.  \n",
    "\n",
    "</details>"
   ]
  },
  {
   "cell_type": "markdown",
   "metadata": {},
   "source": [
    "### Add regression line to scatterplot\n",
    "\n",
    "Let’s create a scatterplot of `runs` versus `at_bats` with the least squares overlaid laid on top. The function `abline` may be used to add a line of the form $y=a+bx$ to any plot. For example to add a line corresponding to the regression equation one could use `abline(a=-2789.2429, b=0.6305)`.\n",
    "\n",
    "However, since the regression object `regress1` contains all of the relevant information regarding the slope and intercept of the regression line, the `abline` function can be used in conjunction with the `regress1` object. Therefore, `abline(regress1)` will add the regression line to the scatterplot. "
   ]
  },
  {
   "cell_type": "code",
   "execution_count": null,
   "metadata": {},
   "outputs": [],
   "source": [
    "plot(x = mlb11$at_bats, y = mlb11$runs, xlab = \"Number of at-bats by team\", ylab = \"Number of runs scored by team\")\n",
    "abline(regress1)"
   ]
  },
  {
   "cell_type": "markdown",
   "metadata": {},
   "source": [
    "### Question: Create a scatterplot of runs scored, `runs`, and homeruns, `homeruns`, with the least squares line overlaid on the scatterplot."
   ]
  },
  {
   "cell_type": "code",
   "execution_count": null,
   "metadata": {},
   "outputs": [],
   "source": []
  },
  {
   "cell_type": "markdown",
   "metadata": {},
   "source": [
    "<details>\n",
    "\n",
    "<summary><b>Click to view sample code:</b></summary>\n",
    "\n",
    "\n",
    "```\n",
    "regress2 = lm(runs ~ homeruns, data = mlb11)\n",
    "abline(regress2)\n",
    "```\n",
    "\n",
    "</details>"
   ]
  },
  {
   "cell_type": "markdown",
   "metadata": {},
   "source": [
    "### Prediction and prediction errors"
   ]
  },
  {
   "cell_type": "markdown",
   "metadata": {},
   "source": [
    "The regression equation may be used to predict `y` at any value of `x`. When predictions are made for values of `x` that are beyond the range of the observed data, it is referred to as **extrapolation** and is not usually recommended. However, predictions made within the range of the data are more reliable. In a subsequent lab we will consider an R function that may be used for prediction, but for now we will rely upon calculations by hand."
   ]
  },
  {
   "cell_type": "markdown",
   "metadata": {},
   "source": [
    "### Question: Boston Red Sox recorded 5,710 at-bats in the season. How many runs would the least squares regression line predict for a team with 5,710 at-bats?\n",
    "**You can just use your calculator together with the regression equation in order to predict the number of runs. Next lab we will explore the use of the `predict` function.** "
   ]
  },
  {
   "cell_type": "markdown",
   "metadata": {},
   "source": [
    "### Answer:"
   ]
  },
  {
   "cell_type": "markdown",
   "metadata": {},
   "source": [
    "<details>\n",
    "\n",
    "<summary><b>Sample Answer:</b></summary>\n",
    "\n",
    "*$$\\hat{runs} = -2789.2429 + 0.6305 \\cdot at\\_bats$$ $$= -2789.2429 + (0.6305)(5710) = 810.9$$ or 811. The model predicts approximately 811 runs for Boston Red Sox.*\n",
    "\n",
    "#### Your answer does not need to use $\\hat{runs}$ notation. Your answer could simply use *runs*, or *runs-hat*.  \n",
    "\n",
    "</details>"
   ]
  },
  {
   "cell_type": "markdown",
   "metadata": {},
   "source": [
    "###  Question: Boston Red Sox actually scored 875 runs in the season. Did the linear model overestimate or underestimate runs scored by the Boston Red Sox?"
   ]
  },
  {
   "cell_type": "markdown",
   "metadata": {},
   "source": [
    "### Answer:  "
   ]
  },
  {
   "cell_type": "markdown",
   "metadata": {},
   "source": [
    "<details>\n",
    "\n",
    "<summary><b>Sample Answer:</b></summary>\n",
    "\n",
    "*The model underestimated the actual runs scored, by about 64 runs $(y-\\hat{y}= 875-811=64)$*\n",
    "\n",
    "</details>"
   ]
  },
  {
   "cell_type": "markdown",
   "metadata": {},
   "source": [
    "#### Let’s stop here. \n",
    "\n",
    "#### It is important to save your work, exit the notebook, and logout of syzygy when you are done. Simply closing the window in which you are working will leave the notebook running which can produce some minor problems when you next try to log in.\n",
    "\n",
    "- **Select File > Save Notebook or select the Save icon above to save your work.**\n",
    "- **To exit the notebook, select File > Close and Shutdown Notebook.**\n",
    "- **Select File > Log Out.**"
   ]
  },
  {
   "cell_type": "code",
   "execution_count": null,
   "metadata": {},
   "outputs": [],
   "source": []
  }
 ],
 "metadata": {
  "kernelspec": {
   "display_name": "R",
   "language": "R",
   "name": "ir"
  },
  "language_info": {
   "codemirror_mode": "r",
   "file_extension": ".r",
   "mimetype": "text/x-r-source",
   "name": "R",
   "pygments_lexer": "r",
   "version": "4.3.3"
  }
 },
 "nbformat": 4,
 "nbformat_minor": 4
}
