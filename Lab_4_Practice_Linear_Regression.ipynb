{
 "cells": [
  {
   "cell_type": "markdown",
   "metadata": {},
   "source": [
    "# Lab 4 Practice: Linear Regression"
   ]
  },
  {
   "cell_type": "markdown",
   "metadata": {
    "jp-MarkdownHeadingCollapsed": true
   },
   "source": [
    "## Reminder - working with notebooks\n",
    "\n",
    "#### 1) It is important to save your work, exit the notebook, and logout of syzygy whenever you are finished working on the notebook for that session. Simply closing the window in which you are working will leave the notebook running which can produce some minor problems when you next try to log in to resume working on the notebook.\n",
    "\n",
    "- **Select File > Save Notebook or select the Save icon above to save your work.**\n",
    "- **To exit the notebook, select File > Close and Shutdown Notebook.**\n",
    "- **Select File > Log Out.**\n",
    "\n",
    "\n",
    "#### 2) When you resume your work on a notebook, your previous work/output may still be displayed, but none of your previous work is maintained in memory accessible by the notebook. In particular, you will need to load the dataset again in order to continue working with the data. One easy way to refresh your notebook is to go to the notebook cell where you left off and do the following.\n",
    "\n",
    "- **Select Kernel > Restart Kernel and Run up to Selected Cell.**\n",
    "#### This will run all of the code in your notebook up to the selected cell."
   ]
  },
  {
   "cell_type": "markdown",
   "metadata": {
    "slideshow": {
     "slide_type": "slide"
    }
   },
   "source": [
    "## Objectives\n",
    "Relationship between two quantitative variables\n",
    "* Graphical summaries\n",
    "* Numerical summaries\n",
    "* Fitting a linear model\n",
    "* Checking model assumptions"
   ]
  },
  {
   "cell_type": "markdown",
   "metadata": {},
   "source": [
    "## Load Data: "
   ]
  },
  {
   "cell_type": "code",
   "execution_count": null,
   "metadata": {},
   "outputs": [],
   "source": [
    "download.file(\"http://www.openintro.org/stat/data/mlb11.RData\", destfile = \"mlb11.RData\")\n",
    "load(\"mlb11.RData\")"
   ]
  },
  {
   "cell_type": "markdown",
   "metadata": {},
   "source": [
    "The `download.file` and `load` functions are used to import the dataset that will be used in the tutorial. The data that is available to you is called `mlb11`."
   ]
  },
  {
   "cell_type": "markdown",
   "metadata": {
    "slideshow": {
     "slide_type": "slide"
    }
   },
   "source": [
    "## Data Information:\n",
    "\n",
    "### Data Set:\n",
    "\n",
    "This dataset contains various team statistics from all 30 Major League Baseball teams for the 2011 season.\n",
    "\n",
    "\n",
    "#### Name: #### \n",
    "* `mlb11` - Major league baseball team data from the 2011 season.\n",
    "\n",
    "team''runs''at_bats''hits''homeruns''bat_avg''strikeouts''stolen_bases''wins''new_onbase''new_slug''new_obs'\n",
    "#### Variables: ####\n",
    "* `team` - Name of the team.\n",
    "* `runs` - Number of runs scored by the team in the year.\n",
    "* `at_bats` - Number of at-bats for the team in the year.\n",
    "* `hits` - Number of hits by the team in the year.\n",
    "* `homeruns` - Number of homeruns recorded by the team in the year.\n",
    "* `bat_avg` - Batting average for the team.\n",
    "* `strikeouts` - Number of strikeouts by the team in the year.\n",
    "* `stolen_bases` - Number of stolen bases by the team in the year.\n",
    "* `wins` - Number of wins for the team in the year.\n",
    "* `new_onbase` - On base percentage for the team in the year.\n",
    "* `new_slug` - Slugging percentage for the team in the year.\n",
    "* `new_obs` - Combined on base and slugging percentage for the team in the year.\n"
   ]
  },
  {
   "cell_type": "markdown",
   "metadata": {
    "slideshow": {
     "slide_type": "slide"
    }
   },
   "source": [
    "## Baseball\n",
    "\n",
    "The movie Moneyball focuses on the \"quest for the secret of success in baseball\". It follows a low-budget team, the Oakland Athletics, who believed that underused statistics, such as a player's ability to get on base, better predict the ability to score runs than typical statistics like home runs, RBIs (runs batted in), and batting average. Obtaining players who excelled in these underused statistics turned out to be much more affordable for the team.\n",
    "\n",
    "In this lab we'll consider data from all 30 Major League Baseball teams and examine the linear relationship between runs scored in a season and a number of other player statistics. Our aim will be to summarize these relationships both graphically and numerically in order to find which variable, if any, helps us best predict a team's wins in a season.\n",
    "\n",
    "In addition to wins, there are seven traditionally used variables in the data set: runs, at-bats, hits, home runs, batting average, strikeouts, and stolen bases. There are also three newer variables: on-base percentage, slugging percentage, and on-base plus slugging."
   ]
  },
  {
   "cell_type": "markdown",
   "metadata": {
    "slideshow": {
     "slide_type": "slide"
    }
   },
   "source": [
    "We may wish to begin by using some combination of the `head`, `names`, `dim`, and `str` commands to begin exploring the `mlb11` dataset  "
   ]
  },
  {
   "cell_type": "code",
   "execution_count": null,
   "metadata": {
    "slideshow": {
     "slide_type": "slide"
    }
   },
   "outputs": [],
   "source": [
    "head(mlb11)"
   ]
  },
  {
   "cell_type": "markdown",
   "metadata": {
    "slideshow": {
     "slide_type": "slide"
    }
   },
   "source": [
    "### Graphical Summary\n",
    "\n",
    "A scatterplot is a common graphical summary of the relationship between two quantitative variables.  \n",
    "  \n",
    "The `plot` function may be used to create a scatterplot, by including the two quantitative variables of interest as arguments.  \n",
    "\n",
    "Construct a scatterplot to display the relationship between wins, `wins`, and runs, `runs`, using the variable `runs` as the predictor (explanatory) variable and the variable `wins` as the response variable.  \n",
    "\n",
    "The `plot` function only requires the data to be graphed, but there are some optional arguments that may be used to customize the plot. Some of these optional arguments include:\n",
    "\n",
    "* `xlab` - specify the label for the x-axis, eg `xlab = \"x-axis label\"`\n",
    "* `xlim` - specify the minimum and maximum value for the x-axis, eg `xlim=c(minimum, maximum)`\n",
    "* `ylab` - specify the label for the y-axis, eg `ylab = \"y-axis label\"`\n",
    "* `ylim` - specify the minimum and maximum value for the y-axis, eg `ylim=c(minimum, maximum)`\n",
    "* `main` - specify a main title for the graph, eg `main = \"Reported Weight of Respondents\"`"
   ]
  },
  {
   "cell_type": "code",
   "execution_count": null,
   "metadata": {},
   "outputs": [],
   "source": [
    "plot(x = mlb11$runs, y = mlb11$wins, xlab = \"Number of runs scored by team\", ylab = \"Number of wins recorded by team\")"
   ]
  },
  {
   "cell_type": "markdown",
   "metadata": {
    "slideshow": {
     "slide_type": "slide"
    }
   },
   "source": [
    "### Question: Describe the relationship between number of wins and runs scored."
   ]
  },
  {
   "cell_type": "markdown",
   "metadata": {},
   "source": [
    "#### Answer: *There is a positive association between the number of runs a team scores and the number of wins a team records. Teams that score more runs tend to record more wins. The association looks reasonably linear and moderately strong.*"
   ]
  },
  {
   "cell_type": "markdown",
   "metadata": {},
   "source": [
    "### Question: Construct a scatterplot to display the relationship between wins recorded, `wins`, and homeruns, `homeruns`, using the variable `homeruns` as the predictor (explanatory) variable and the variable `wins` as the response variable.  "
   ]
  },
  {
   "cell_type": "code",
   "execution_count": null,
   "metadata": {},
   "outputs": [],
   "source": []
  },
  {
   "cell_type": "markdown",
   "metadata": {},
   "source": [
    "<details>\n",
    "\n",
    "<summary><b>Click to view sample code:</b></summary>\n",
    "\n",
    "\n",
    "```\n",
    "plot(x = mlb11$homeruns, y = mlb11$wins, xlab = \"Number of homeruns recorded by team\", ylab = \"Number of wins recorded by team\")\n",
    "```\n",
    "\n",
    "or\n",
    "\n",
    "```\n",
    "plot(mlb11$wins ~ mlb11$homeruns, xlab = \"Number of homeruns recorded by team\", ylab = \"Number of wins recorded by team\")\n",
    "```\n",
    "\n",
    "\n",
    "</details>"
   ]
  },
  {
   "cell_type": "markdown",
   "metadata": {
    "slideshow": {
     "slide_type": "slide"
    }
   },
   "source": [
    "### Question: Describe the relationship between number of wins and homeruns."
   ]
  },
  {
   "cell_type": "markdown",
   "metadata": {},
   "source": [
    "#### Answer: "
   ]
  },
  {
   "cell_type": "markdown",
   "metadata": {},
   "source": [
    "<details>\n",
    "\n",
    "<summary><b>Sample Answer:</b></summary>\n",
    "\n",
    "*There is a positive association between the number of homeruns a team scores and the number of wins a team records. Teams that score more runs tend to record more wins. The association looks reasonably linear and moderately strong.*\n",
    "\n",
    "</details>"
   ]
  },
  {
   "cell_type": "markdown",
   "metadata": {
    "slideshow": {
     "slide_type": "slide"
    }
   },
   "source": [
    "### Numerical Summary\n",
    "\n",
    "When summarizing a single quantitative variable, we used numerical quantities such as the mean and standard deviation. It would be useful to be able to summarize the relationship between two quantitative variables. If the relationship looks linear, we can describe the relationship by choosing the line that best fits the relationship, and by quantifying the strength of the linear relationship."
   ]
  },
  {
   "cell_type": "markdown",
   "metadata": {},
   "source": [
    "### The linear model\n",
    "\n",
    "Choosing a line that summarizes the relationship between two quantitative variable, mean choosing and intercept, $b_0$, and slope, $b_1$, such that for each value of the explanatory variable, $x$, we can predict the value of the response variable, $\\hat{y}$.\n",
    "\n",
    "$$\\hat{y} = b_0 + b_1\\cdot x$$\n",
    "\n",
    "We can use the `lm` function in R to fit the linear model (find the least squares regression line)."
   ]
  },
  {
   "cell_type": "code",
   "execution_count": null,
   "metadata": {},
   "outputs": [],
   "source": [
    "regress1 = lm(wins ~ runs, data = mlb11)"
   ]
  },
  {
   "cell_type": "markdown",
   "metadata": {},
   "source": [
    "* The first argument in the function lm is a formula that takes the form `y ~ x`. Here it can be read that we want to make a linear model of `wins` as a function of `runs`.  \n",
    "  \n",
    "\n",
    "* The second argument specifies that R should look in the `mlb11` data frame to find the `wins` and `runs` variables.\n",
    "  \n",
    "  \n",
    "* The output of the `lm` function is being saved to a new object called `regress1` here, that contains information about the linear model that was just fit. We can access this information using the `summary` function."
   ]
  },
  {
   "cell_type": "code",
   "execution_count": null,
   "metadata": {},
   "outputs": [],
   "source": [
    "summary(regress1)"
   ]
  },
  {
   "cell_type": "markdown",
   "metadata": {},
   "source": [
    "Consider this output piece by piece. \n",
    "\n",
    "* The `Coefficients` table is key for our present purposes; its first column displays the linear model's *y*-intercept and the coefficient of the explanatory variable, `runs`. With this table, we can write down the least squares regression line, the equation, for the linear model:\n",
    "\n",
    "$$\\hat{wins} = 23.291 + 0.083 \\cdot runs$$\n",
    "\n",
    "or\n",
    "\n",
    "$$\\hat{y} = 23.291 + 0.083 \\cdot x$$\n",
    "\n",
    "The output also contains information regarding the fit of the linear model, Multiple R-squared, or more simply, $R^2$, which equals 0.361 in this case. This value will be discussed below."
   ]
  },
  {
   "cell_type": "markdown",
   "metadata": {},
   "source": [
    "### Question:  What does the slope tell us in the context of the relationship between wins and runs?  "
   ]
  },
  {
   "cell_type": "markdown",
   "metadata": {},
   "source": [
    "#### Answer: *The slope of 0.083 tells us that for each additional run scored we expect number of wins to increase by 0.083 (i.e. a team scoring an additional 12 runs in a season would be expected to record approximately one additional win)*"
   ]
  },
  {
   "cell_type": "markdown",
   "metadata": {},
   "source": [
    "### Question: How much of the variability in `wins` is explained by the variable `runs`?  "
   ]
  },
  {
   "cell_type": "markdown",
   "metadata": {},
   "source": [
    "#### Answer:  *The $R^2$ value represents the proportion of variability in the response variable that is explained by the explanatory variable. For this model, $R^2$ is 0.361, meaning 36.1% of the variability in `wins` is explained by `runs`.*"
   ]
  },
  {
   "cell_type": "markdown",
   "metadata": {},
   "source": [
    "### Add regression line to scatterplot\n",
    "\n",
    "Let’s create a scatterplot of `wins` versus `runs` with the least squares overlaid laid on top. Recall that the `abline` function is used to add a straight line to the scatterplot. Since the regression object `regress1` contains all of the relevant information regarding the slope and intercept of the regression line, the `abline` function can be used in conjunction with the `regress1` object. Therefore, `abline(regress1)` will add the regression line to the scatterplot. \n"
   ]
  },
  {
   "cell_type": "code",
   "execution_count": null,
   "metadata": {},
   "outputs": [],
   "source": [
    "plot(x = mlb11$runs, y = mlb11$wins, xlab = \"Number of runs scored by team\", ylab = \"Number of wins recorded by team\")\n",
    "abline(regress1)"
   ]
  },
  {
   "cell_type": "markdown",
   "metadata": {
    "slideshow": {
     "slide_type": "slide"
    }
   },
   "source": [
    "### Question:  Fit a new model that uses `homeruns` to predict `wins`. (Use a different model name than `regress1` to save the results)"
   ]
  },
  {
   "cell_type": "code",
   "execution_count": null,
   "metadata": {},
   "outputs": [],
   "source": []
  },
  {
   "cell_type": "markdown",
   "metadata": {},
   "source": [
    "<details>\n",
    "\n",
    "<summary><b>Click to view sample code:</b></summary>\n",
    "\n",
    "\n",
    "```\n",
    "regress2 = lm(wins ~ homeruns, data = mlb11)\n",
    "summary(regress2)\n",
    "```\n",
    "\n",
    "</details>"
   ]
  },
  {
   "cell_type": "markdown",
   "metadata": {},
   "source": [
    "### Question: Using the R output from fitting the linear model, write the equation of the regression line.  "
   ]
  },
  {
   "cell_type": "markdown",
   "metadata": {},
   "source": [
    "#### Answer:  "
   ]
  },
  {
   "cell_type": "markdown",
   "metadata": {},
   "source": [
    "<details>\n",
    "\n",
    "<summary><b>Sample Answer:</b></summary>\n",
    "\n",
    "$$\\hat{wins} = 48.814 + 0.212 \\cdot homeruns$$ or $$\\hat{y} = 48.814 + 0.212 \\cdot x$$\n",
    "\n",
    "or  \n",
    "\n",
    "wins-hat = 48.814 + 0.212 homeruns <br> or <br> y-hat = 48.814 + 0.212 x\n",
    "\n",
    "</details>"
   ]
  },
  {
   "cell_type": "markdown",
   "metadata": {},
   "source": [
    "### Question: How much of the variability in `wins` is explained by the variable `homeruns`?  "
   ]
  },
  {
   "cell_type": "markdown",
   "metadata": {},
   "source": [
    "#### Answer:  "
   ]
  },
  {
   "cell_type": "markdown",
   "metadata": {},
   "source": [
    "<details>\n",
    "\n",
    "<summary><b>Sample Answer:</b></summary>\n",
    "\n",
    "*The $R^2$ value represents the proportion of variability in the response variable that is explained by the explanatory variable. For this model, $R^2$ is 0.4364, meaning 43.6% of the variability in `wins` is explained by `homeruns`.*\n",
    "\n",
    "</details>"
   ]
  },
  {
   "cell_type": "markdown",
   "metadata": {},
   "source": [
    "### Question: Create a scatterplot of wins recorded, `wins`, and homeruns, `homeruns`, with the least squares line overlaid on the scatterplot."
   ]
  },
  {
   "cell_type": "code",
   "execution_count": null,
   "metadata": {},
   "outputs": [],
   "source": []
  },
  {
   "cell_type": "markdown",
   "metadata": {},
   "source": [
    "<details>\n",
    "\n",
    "<summary><b>Click to view sample code:</b></summary>\n",
    "\n",
    "\n",
    "```\n",
    "plot(x = mlb11$homeruns, y = mlb11$wins, xlab = \"Number of homeruns scored by team\", ylab = \"Number of wins recorded by team\")\n",
    "abline(regress2)\n",
    "```\n",
    "or\n",
    "\n",
    "```\n",
    "plot(mlb11$wins ~ mlb11$homeruns, xlab = \"Number of homeruns scored by team\", ylab = \"Number of wins recorded by team\")\n",
    "abline(regress2)\n",
    "```\n",
    "\n",
    "</details>"
   ]
  },
  {
   "cell_type": "markdown",
   "metadata": {},
   "source": [
    "### Checking Model Assumptions\n",
    "\n",
    "The linear model assumes that the true relationship, in the population, between the explanatory variable $X$ and response variable $Y$ is \n",
    "\n",
    "$$Y = \\beta_0 + \\beta_1 \\cdot X + \\epsilon$$\n",
    "\n",
    "That is, the general relationship is linear\n",
    "\n",
    "$$\\hat{Y} = \\beta_0 + \\beta_1 \\cdot X,$$\n",
    "\n",
    "but individual responses will vary around this linear relationship in some fashion.\n",
    "\n",
    "$$\\epsilon_i = Y_i - \\hat{Y}_i$$\n",
    "\n",
    "It is generally assumed that individual responses, $Y$ are normally distributed for each value of the explanatory variable, $X$.\n",
    "\n",
    "This means that the model assumes that the actual errors, $\\epsilon_i$'s are normally distributed.\n",
    "\n",
    "Therefore, to assess whether the linear model is appropriate, we need to check for:\n",
    "* (1) linearity\n",
    "* (2) nearly normal residuals\n",
    "* (3) constant variability\n",
    "* (4) *independence*"
   ]
  },
  {
   "cell_type": "markdown",
   "metadata": {},
   "source": [
    "**Linearity**: You already checked if the relationship between `wins` and `runs` appears linear using a scatterplot. We should also verify this condition with a plot of the residuals vs. the explanatory variable, `runs`.\n",
    "\n",
    "Recall that we saved the results of fitting the linear model in the object called `regress1`. That object contains a large amount of information, including the residuals, or prediction errors, associated with each observation. Therefore, `residuals` is a variable that may be found in the object `regress1`. To access the residuals we would use `regress1$residuals`. We will use the `abline` function to add a horizontal line at 0 to the plot."
   ]
  },
  {
   "cell_type": "code",
   "execution_count": null,
   "metadata": {},
   "outputs": [],
   "source": [
    "plot(x = mlb11$runs, y = regress1$residuals) \n",
    "abline(h = 0, lty = 3)  # adds a horizontal dashed line at y = 0; lty = 3 defines the type of line to draw."
   ]
  },
  {
   "cell_type": "markdown",
   "metadata": {},
   "source": [
    "### Question: Is there any apparent pattern in the residuals plot? What does this indicate about the linearity of the relationship between at-bats and runs scored?"
   ]
  },
  {
   "cell_type": "markdown",
   "metadata": {},
   "source": [
    "#### Answer: *There is no pattern in the residuals plot. In particular, there is no nonlinear pattern in the plot. This suggests that the linearity assumption seems reasonable.*"
   ]
  },
  {
   "cell_type": "markdown",
   "metadata": {},
   "source": [
    "**Nearly normal residuals**: Fitting the least squares regression line does not require that the residuals are normally distributed. However, inference procedures related to the linear regression will require this assumption. To check this condition, we can look at a histogram of the residuals arising from the model."
   ]
  },
  {
   "cell_type": "code",
   "execution_count": null,
   "metadata": {},
   "outputs": [],
   "source": [
    "hist(regress1$residuals)"
   ]
  },
  {
   "cell_type": "markdown",
   "metadata": {},
   "source": [
    "### Question: Based on the histogram, does the nearly normal residuals condition appear to be met?"
   ]
  },
  {
   "cell_type": "markdown",
   "metadata": {},
   "source": [
    "#### Answer: *The histogram is roughly bell-shaped. This suggests that the residuals are approximately normally distributed.*"
   ]
  },
  {
   "cell_type": "markdown",
   "metadata": {},
   "source": [
    "**Constant variability**:\n",
    "\n",
    "The same plot of residuals vs. `runs` may be used to check the constant variability assumption. That plot is repeated below."
   ]
  },
  {
   "cell_type": "code",
   "execution_count": null,
   "metadata": {},
   "outputs": [],
   "source": [
    "plot(x = mlb11$runs, y = regress1$residuals) \n",
    "abline(h = 0, lty = 3)  # adds a horizontal dashed line at y = 0; lty = 3 defines the type of line to draw. "
   ]
  },
  {
   "cell_type": "markdown",
   "metadata": {},
   "source": [
    "### Question: Is there any apparent pattern in the residuals plot? What does this indicate about the assumption of constant variability?"
   ]
  },
  {
   "cell_type": "markdown",
   "metadata": {},
   "source": [
    "#### Answer: *There is no patter in the residuals plot. The spread of the residuals seems fairly constant. The spread of the residuals does not appear to be either increasing, or decreasing, as runs increases. This suggests that the assumption of constant variability seems reasonable.*"
   ]
  },
  {
   "cell_type": "markdown",
   "metadata": {},
   "source": [
    "***Independence***:  \n",
    "\n",
    "In general, residual plots can not be used to check on the independence assumption. If the data was collected in a particular order, for example in a particular time order, you could check a plot of the residuals against time to check for any patterns.  \n",
    "\n",
    "Most often, checking the independence assumption relies upon considering how the data was collected and whether the assumption seems reasonable."
   ]
  },
  {
   "cell_type": "markdown",
   "metadata": {},
   "source": [
    "### Question: Use appropriate residual plots to check the model assumptions for the linear model using the explanatory variable homeruns, `homeruns`, to predict wins recorded, `wins`.\n",
    "\n",
    "#### Using plots, check for:\n",
    "* (1) linearity\n",
    "* (2) nearly normal residuals\n",
    "* (3) constant variability"
   ]
  },
  {
   "cell_type": "code",
   "execution_count": null,
   "metadata": {},
   "outputs": [],
   "source": []
  },
  {
   "cell_type": "markdown",
   "metadata": {},
   "source": [
    "<details>\n",
    "\n",
    "<summary><b>Click to view sample code:</b></summary>\n",
    "\n",
    "\n",
    "```\n",
    "plot(x = mlb11$homeruns, y = regress2$residuals) \n",
    "abline(h = 0, lty = 3)  # adds a horizontal dashed line at y = 0; lty = 3 defines the type of line to draw\n",
    "```\n",
    "\n",
    "</details>"
   ]
  },
  {
   "cell_type": "code",
   "execution_count": null,
   "metadata": {},
   "outputs": [],
   "source": []
  },
  {
   "cell_type": "markdown",
   "metadata": {},
   "source": [
    "<details>\n",
    "\n",
    "<summary><b>Click to view sample code:</b></summary>\n",
    "\n",
    "\n",
    "```\n",
    "hist(regress2$residuals)\n",
    "```\n",
    "\n",
    "</details>"
   ]
  },
  {
   "cell_type": "markdown",
   "metadata": {},
   "source": [
    "### Question: What do the residual plots suggest about the model assumptions?"
   ]
  },
  {
   "cell_type": "markdown",
   "metadata": {},
   "source": [
    "#### Answer:  "
   ]
  },
  {
   "cell_type": "markdown",
   "metadata": {},
   "source": [
    "<details>\n",
    "\n",
    "<summary><b>Sample Answer:</b></summary>\n",
    "\n",
    "<br>*-There is no pattern in the the plot of residuals against homeruns. There is no nonlinear pattern in the residuals, which suggests that the linearity assumption is appropriate. <br>-The spread of the residuals seems fairly constant. The spread of the residuals does not appear to be either increasing, or decreasing, as runs increases. This suggests that the assumption of constant variability seems reasonable. <br>-The histogram of the residuals is roughly bell-shaped. This suggests that the assumption of normally distributed residuals seems reasonable*\n",
    "\n",
    "</details>"
   ]
  },
  {
   "cell_type": "markdown",
   "metadata": {},
   "source": [
    "#### Let’s stop here. \n",
    "\n",
    "#### It is important to save your work, exit the notebook, and logout of syzygy when you are done. Simply closing the window in which you are working will leave the notebook running which can produce some minor problems when you next try to log in.\n",
    "\n",
    "- **Select File > Save Notebook or select the Save icon above to save your work.**\n",
    "- **To exit the notebook, select File > Close and Shutdown Notebook.**\n",
    "- **Select File > Log Out.**"
   ]
  }
 ],
 "metadata": {
  "kernelspec": {
   "display_name": "R",
   "language": "R",
   "name": "ir"
  },
  "language_info": {
   "codemirror_mode": "r",
   "file_extension": ".r",
   "mimetype": "text/x-r-source",
   "name": "R",
   "pygments_lexer": "r",
   "version": "4.3.3"
  }
 },
 "nbformat": 4,
 "nbformat_minor": 4
}
