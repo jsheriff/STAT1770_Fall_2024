{
 "cells": [
  {
   "cell_type": "markdown",
   "metadata": {
    "deletable": false,
    "editable": false,
    "slideshow": {
     "slide_type": ""
    },
    "tags": []
   },
   "source": [
    "# Lab 7 Assignment\n",
    "\n",
    "### Lab 7 Assignment is due on Thursday, November 7 at 8:00 pm. \n",
    "\n",
    "### Complete this notebook, by introducing and executing the required code and answering the related questions.\n",
    "\n",
    "### When you have finished your work and wish to submit your assignment, download this notebook as a pdf file File > Save and Export Notebook As > PDF or File > Print > Save as PDF.  Submit the pdf file to Lab 7 Assignment in Crowdmark.\n",
    "\n",
    "### You can copy, paste, and modify code from previous labs if you wish, as opposed to writing code from scratch. Open the previous lab and highlight the code you want. Then copy and paste the code into this assignment and make the necessary modifications.\n",
    "\n",
    "### If you have questions, please ask.\n",
    "\n",
    "---"
   ]
  },
  {
   "cell_type": "markdown",
   "metadata": {
    "editable": true,
    "slideshow": {
     "slide_type": ""
    },
    "tags": []
   },
   "source": [
    "## Reminder - working with notebooks\n",
    "\n",
    "#### 1) It is important to save your work, exit the notebook, and logout of syzygy whenever you are finished working on the notebook for that session.\n",
    "\n",
    "- **Select File > Save Notebook or select the Save icon above to save your work.**\n",
    "- **To exit the notebook, select File > Close and Shutdown Notebook.**\n",
    "- **Select File > Log Out.**\n",
    "\n",
    "\n",
    "#### 2) When you resume your work on a notebook, your previous work/output may still be displayed, but none of your previous work is maintained in memory accessible by the notebook. In particular, you will need to load the dataset again in order to continue working with the data. One easy way to refresh your notebook is to go to the notebook cell where you left off and do the following.\n",
    "\n",
    "- **Select Kernel > Restart Kernel and Run up to Selected Cell.**\n",
    "#### This will run all of the code in your notebook up to the selected cell."
   ]
  },
  {
   "cell_type": "markdown",
   "metadata": {
    "slideshow": {
     "slide_type": ""
    },
    "tags": []
   },
   "source": [
    "## Load Data: "
   ]
  },
  {
   "cell_type": "code",
   "execution_count": null,
   "metadata": {
    "deletable": false,
    "editable": false
   },
   "outputs": [],
   "source": [
    "download.file(\"http://www.openintro.org/data/rda/gpa_study_hours.rda\",destfile = \"gpa_study_hours.rda\",is.na=FALSE)\n",
    "load(\"gpa_study_hours.rda\")"
   ]
  },
  {
   "cell_type": "markdown",
   "metadata": {
    "deletable": false,
    "editable": false,
    "slideshow": {
     "slide_type": ""
    },
    "tags": []
   },
   "source": [
    "## Data Information:\n",
    "\n",
    "### Data Set:\n",
    "\n",
    "#### Name: #### \n",
    "* `gpa_study_hours`\n",
    "\n",
    "\n",
    "#### Variables: ####\n",
    "\n",
    "The variables included in the dataset are  \n",
    "\n",
    "* `gpa`: Grade point average (GPA) of student.\n",
    "* `study_hours`: Number of hours students study per week."
   ]
  },
  {
   "cell_type": "markdown",
   "metadata": {
    "deletable": false,
    "editable": false,
    "slideshow": {
     "slide_type": ""
    },
    "tags": []
   },
   "source": [
    "## GPA and Study Hours among university students\n",
    "\n",
    "GPA and study hours were gathered for a random sample of 193 undergraduate university students.\n"
   ]
  },
  {
   "cell_type": "markdown",
   "metadata": {},
   "source": [
    "Let's have a quick look at the data"
   ]
  },
  {
   "cell_type": "code",
   "execution_count": null,
   "metadata": {
    "deletable": false,
    "editable": false
   },
   "outputs": [],
   "source": [
    "head(gpa_study_hours)"
   ]
  },
  {
   "cell_type": "markdown",
   "metadata": {},
   "source": [
    "Suppose we wish model GPA and study hours using the normal distribution. To begin, we should examine GPA and study hours to determine whether the normal distribution seems an appropriate model in each case. "
   ]
  },
  {
   "cell_type": "markdown",
   "metadata": {
    "deletable": false,
    "editable": false,
    "slideshow": {
     "slide_type": ""
    },
    "tags": []
   },
   "source": [
    "### Exercise 1: Construct a histogram of the GPA, `gpa`, data. You only need a histogram. You do not need to include a density curve. \n",
    "### (2 marks)"
   ]
  },
  {
   "cell_type": "code",
   "execution_count": null,
   "metadata": {
    "deletable": false,
    "slideshow": {
     "slide_type": ""
    },
    "tags": []
   },
   "outputs": [],
   "source": []
  },
  {
   "cell_type": "markdown",
   "metadata": {
    "deletable": false,
    "editable": false,
    "slideshow": {
     "slide_type": ""
    },
    "tags": []
   },
   "source": [
    "### Exercise 2: Construct a histogram of the study hours, `study_hours`, data. You only need a histogram. You do not need to include a density curve. \n",
    "### (2 marks)"
   ]
  },
  {
   "cell_type": "code",
   "execution_count": null,
   "metadata": {
    "slideshow": {
     "slide_type": ""
    },
    "tags": []
   },
   "outputs": [],
   "source": []
  },
  {
   "cell_type": "markdown",
   "metadata": {
    "deletable": false,
    "editable": false,
    "slideshow": {
     "slide_type": ""
    },
    "tags": []
   },
   "source": [
    "### Exercise 3: Use the `qqnorm` and `qqline` functions to construct a normal probability plot of the GPA, `gpa`, data. \n",
    "### (2 marks)"
   ]
  },
  {
   "cell_type": "code",
   "execution_count": null,
   "metadata": {
    "slideshow": {
     "slide_type": ""
    },
    "tags": []
   },
   "outputs": [],
   "source": []
  },
  {
   "cell_type": "markdown",
   "metadata": {
    "deletable": false,
    "editable": false,
    "slideshow": {
     "slide_type": ""
    },
    "tags": []
   },
   "source": [
    "### Exercise 4: Use the `qqnorm` and `qqline` functions to construct a normal probability plot of the study hour, `study_hours`, data. \n",
    "### (2 marks)"
   ]
  },
  {
   "cell_type": "code",
   "execution_count": null,
   "metadata": {
    "slideshow": {
     "slide_type": ""
    },
    "tags": []
   },
   "outputs": [],
   "source": []
  },
  {
   "cell_type": "markdown",
   "metadata": {
    "deletable": false,
    "editable": false,
    "slideshow": {
     "slide_type": ""
    },
    "tags": []
   },
   "source": [
    "### Exercise 5: Based upon the histograms and normal probability plots, which of the variables, GPA (`gpa`) or study hours (`study_hours`) appears to more closely follow a normal distribution? You just need to state which variable. \n",
    "### (1 mark)"
   ]
  },
  {
   "cell_type": "markdown",
   "metadata": {
    "editable": true,
    "slideshow": {
     "slide_type": ""
    },
    "tags": []
   },
   "source": [
    "### Answer: "
   ]
  },
  {
   "cell_type": "markdown",
   "metadata": {
    "deletable": false,
    "editable": false
   },
   "source": [
    "Regardless of whether you think that the normal distribution is an appropriate model for GPA or study hours, we will try modeling each using a normal distribution. So we will need to define the mean and standard deviation in each case."
   ]
  },
  {
   "cell_type": "markdown",
   "metadata": {},
   "source": [
    "For the GPA data: "
   ]
  },
  {
   "cell_type": "code",
   "execution_count": null,
   "metadata": {
    "deletable": false,
    "editable": false
   },
   "outputs": [],
   "source": [
    "gpa_mean = mean(gpa_study_hours$gpa)\n",
    "gpa_mean\n",
    "gpa_sd = sd(gpa_study_hours$gpa)\n",
    "gpa_sd"
   ]
  },
  {
   "cell_type": "markdown",
   "metadata": {
    "deletable": false,
    "editable": false
   },
   "source": [
    "The GPA data has a mean of 3.59 and standard deviation of 0.29."
   ]
  },
  {
   "cell_type": "markdown",
   "metadata": {
    "deletable": false,
    "editable": false
   },
   "source": [
    "For the study hours data: "
   ]
  },
  {
   "cell_type": "code",
   "execution_count": null,
   "metadata": {
    "deletable": false,
    "editable": false
   },
   "outputs": [],
   "source": [
    "hours_mean = mean(gpa_study_hours$study_hours)\n",
    "hours_mean\n",
    "hours_sd = sd(gpa_study_hours$study_hours)\n",
    "hours_sd"
   ]
  },
  {
   "cell_type": "markdown",
   "metadata": {
    "deletable": false,
    "editable": false
   },
   "source": [
    "The study hour data has a mean of 17.5 hours and standard deviation of 11.4 hours."
   ]
  },
  {
   "cell_type": "markdown",
   "metadata": {
    "deletable": false,
    "editable": false,
    "slideshow": {
     "slide_type": ""
    },
    "tags": []
   },
   "source": [
    "#### In general, a GPA of at least 3.7 corresponds to a grade of at A- or better. "
   ]
  },
  {
   "cell_type": "markdown",
   "metadata": {
    "deletable": false,
    "editable": false,
    "slideshow": {
     "slide_type": ""
    },
    "tags": []
   },
   "source": [
    "### Exercise 5: Using a normal distribution model for GPA, what is the probability that a student achieves a grade of A- or better, which is a GPA of 3.7 or higher \n",
    "### (2 marks)"
   ]
  },
  {
   "cell_type": "code",
   "execution_count": null,
   "metadata": {
    "deletable": false,
    "slideshow": {
     "slide_type": ""
    },
    "tags": []
   },
   "outputs": [],
   "source": []
  },
  {
   "cell_type": "markdown",
   "metadata": {
    "deletable": false,
    "editable": true,
    "slideshow": {
     "slide_type": ""
    },
    "tags": []
   },
   "source": [
    "### Answer: "
   ]
  },
  {
   "cell_type": "markdown",
   "metadata": {
    "deletable": false,
    "editable": false,
    "slideshow": {
     "slide_type": ""
    },
    "tags": []
   },
   "source": [
    "#### A common rule of thumb suggests that for every one hour spent in class, students should spend approximately two hours outside of class studying for that course. That would mean approximately 30 hours of study for a student taking five courses. "
   ]
  },
  {
   "cell_type": "markdown",
   "metadata": {
    "deletable": false,
    "editable": false,
    "slideshow": {
     "slide_type": ""
    },
    "tags": []
   },
   "source": [
    "### Exercise 6: Using a normal distribution model for study hours, what is the probability that a student is spending less than 30 hours studying? \n",
    "### (2 marks)"
   ]
  },
  {
   "cell_type": "code",
   "execution_count": null,
   "metadata": {
    "deletable": false,
    "slideshow": {
     "slide_type": ""
    },
    "tags": []
   },
   "outputs": [],
   "source": []
  },
  {
   "cell_type": "markdown",
   "metadata": {
    "deletable": false,
    "editable": true,
    "slideshow": {
     "slide_type": ""
    },
    "tags": []
   },
   "source": [
    "### Answer: "
   ]
  },
  {
   "cell_type": "markdown",
   "metadata": {
    "deletable": false,
    "editable": false
   },
   "source": [
    "----\n",
    "\n",
    "### Modeling time required for an oil change"
   ]
  },
  {
   "cell_type": "markdown",
   "metadata": {
    "deletable": false,
    "editable": false,
    "slideshow": {
     "slide_type": "slide"
    }
   },
   "source": [
    "#### The time required by Speedy Lube to complete an oil change service on an automobile follows approximately a normal distribution with a mean of 17 minutes and a standard deviation of 2.5 minutes. <br><br> Let X represent the time required to complete an oil change service. <br><br>Then $X \\sim N(\\mu = 17, \\sigma = 2.5)$"
   ]
  },
  {
   "cell_type": "markdown",
   "metadata": {
    "deletable": false,
    "editable": false,
    "slideshow": {
     "slide_type": "slide"
    }
   },
   "source": [
    "### Exercise 7: Speedy Lube guarantees that the service will take no longer than 20 minutes. If it does take longer, the customer will receive the service for half price. What proportion of customers receive the service for half price? \n",
    "### (2 marks)"
   ]
  },
  {
   "cell_type": "code",
   "execution_count": null,
   "metadata": {
    "deletable": false,
    "slideshow": {
     "slide_type": ""
    },
    "tags": []
   },
   "outputs": [],
   "source": []
  },
  {
   "cell_type": "markdown",
   "metadata": {
    "deletable": false,
    "editable": true,
    "slideshow": {
     "slide_type": ""
    },
    "tags": []
   },
   "source": [
    "### Answer: "
   ]
  },
  {
   "cell_type": "markdown",
   "metadata": {
    "deletable": false,
    "editable": false,
    "slideshow": {
     "slide_type": "slide"
    }
   },
   "source": [
    "### Exercise 8: If Speedy Lube does not want to give the discount to more than 3% of its customers, how long should it make the guaranteed time limit?  \n",
    "### (2 marks)"
   ]
  },
  {
   "cell_type": "code",
   "execution_count": null,
   "metadata": {
    "deletable": false,
    "slideshow": {
     "slide_type": ""
    },
    "tags": []
   },
   "outputs": [],
   "source": []
  },
  {
   "cell_type": "markdown",
   "metadata": {
    "deletable": false,
    "editable": true,
    "slideshow": {
     "slide_type": ""
    },
    "tags": []
   },
   "source": [
    "### Answer: "
   ]
  },
  {
   "cell_type": "markdown",
   "metadata": {},
   "source": [
    "- **When you have finished your work and wish to submit your lab, you need to download this notebook as a pdf file. There are two common ways to do this.** \n",
    "1) **File > Save and Export Notebook As > PDF.**\n",
    "2) **File > Print > Save As PDF.**\n",
    "- **Submit the pdf file to Lab 7 in Crowdmark.**\n",
    "\n",
    "\n",
    "#### It is important to save your work, exit the notebook, and logout of syzygy when you are done.\n",
    "\n",
    "- **Select File > Save Notebook or select the Save icon above to save your work.**\n",
    "- **To exit the notebook, select File > Close and Shutdown Notebook.**\n",
    "- **Select File > Log Out.**"
   ]
  },
  {
   "cell_type": "code",
   "execution_count": null,
   "metadata": {},
   "outputs": [],
   "source": []
  }
 ],
 "metadata": {
  "kernelspec": {
   "display_name": "R",
   "language": "R",
   "name": "ir"
  },
  "language_info": {
   "codemirror_mode": "r",
   "file_extension": ".r",
   "mimetype": "text/x-r-source",
   "name": "R",
   "pygments_lexer": "r",
   "version": "4.3.3"
  }
 },
 "nbformat": 4,
 "nbformat_minor": 4
}
