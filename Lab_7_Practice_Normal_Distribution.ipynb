{
 "cells": [
  {
   "cell_type": "markdown",
   "metadata": {
    "editable": true,
    "jp-MarkdownHeadingCollapsed": true,
    "slideshow": {
     "slide_type": ""
    },
    "tags": []
   },
   "source": [
    "## Reminder - working with notebooks\n",
    "\n",
    "#### 1) It is important to save your work, exit the notebook, and logout of syzygy whenever you are finished working on the notebook for that session. Simply closing the window in which you are working will leave the notebook running which can produce some minor problems when you next try to log in to resume working on the notebook.\n",
    "\n",
    "- **Select File > Save Notebook or select the Save icon above to save your work.**\n",
    "- **To exit the notebook, select File > Close and Shutdown Notebook.**\n",
    "- **Select File > Log Out.**\n",
    "\n",
    "\n",
    "#### 2) When you resume your work on a notebook, your previous work/output may still be displayed, but none of your previous work is maintained in memory accessible by the notebook. In particular, you will need to load the dataset again in order to continue working with the data. One easy way to refresh your notebook is to go to the notebook cell where you left off and do the following.\n",
    "\n",
    "- **Select Kernel > Restart Kernel and Run up to Selected Cell.**\n",
    "#### This will run all of the code in your notebook up to the selected cell."
   ]
  },
  {
   "cell_type": "markdown",
   "metadata": {
    "editable": true,
    "slideshow": {
     "slide_type": "slide"
    },
    "tags": []
   },
   "source": [
    "## Objectives\n",
    "* checking whether data has approximately normal distribution\n",
    "    * `hist`\n",
    "    * `qqnorm`\n",
    "    * `qqline`\n",
    "* random sampling from a normal distribution\n",
    "    * `rnorm` \n",
    "* determining percentiles for some value, $x$, from a normal distribution, ie determining $P(X \\le x)$ \n",
    "    * `pnorm`\n",
    "* determining cutoff for some percentile, $q$, from a normal distribution, ie determining $x$ such that $P(X \\le x) = q$\n",
    "  * `qnorm`"
   ]
  },
  {
   "cell_type": "markdown",
   "metadata": {
    "editable": true,
    "slideshow": {
     "slide_type": ""
    },
    "tags": []
   },
   "source": [
    "## Load Data: "
   ]
  },
  {
   "cell_type": "code",
   "execution_count": null,
   "metadata": {
    "editable": false
   },
   "outputs": [],
   "source": [
    "download.file(\"http://www.openintro.org/stat/data/nc.RData\",destfile = \"nc.RData\")\n",
    "load(\"nc.RData\")"
   ]
  },
  {
   "cell_type": "markdown",
   "metadata": {},
   "source": [
    "The `download.file` function and `load` function are used to import the dataset that will be used in the assignment. The data that is available to you is called `nc`. These commands instruct R to access the OpenIntro website and retrieve some data, which is in a file called `nc.RData`. The .RData indicates a file format, like .csv, .txt etc. R is capable of importing files of various formats (using the appropriate command). The `nc` dataset, which is contained within `nc.RData` is already in a format native to R.  "
   ]
  },
  {
   "cell_type": "markdown",
   "metadata": {},
   "source": [
    "## Data Information:\n",
    "\n",
    "### Data Set:\n",
    "\n",
    "#### Name: #### \n",
    "* `nc`\n",
    "\n",
    "\n",
    "#### Variables: ####\n",
    "\n",
    "The variables included in the dataset are  \n",
    "\n",
    "* `fage`: Father's age in years.\n",
    "* `mage`: Mother's age in years.\n",
    "* `mature`: Maturity status of mother.\n",
    "* `weeks`: Length of pregnancy in weeks.\n",
    "* `premie`: Whether the birth was classified as premature (premie) or full-term.\n",
    "* `visits`: Number of hospital visits during pregnancy.\n",
    "* `gained`: Weight gained by mother during pregnancy in pounds.\n",
    "* `weight`: Weight of the baby at birth in pounds.\n",
    "* `lowbirthweight`: Whether baby was classified as low birthweight (low) or not (not low).\n",
    "* `gender`: Gender of the baby, female or male.\n",
    "* `habit`: Status of the mother as a nonsmoker or a smoker.\n",
    "* `marital`: Whether mother is married or not married at birth.\n",
    "* `whitemom`: Whether mom is white or not white.\n"
   ]
  },
  {
   "cell_type": "markdown",
   "metadata": {
    "editable": false,
    "jp-MarkdownHeadingCollapsed": true,
    "slideshow": {
     "slide_type": "slide"
    }
   },
   "source": [
    "## North Carolina Births\n",
    "\n",
    "In 2004, the state of North Carolina released to the public a large data set containing information on births recorded in this state. This data set has been of interest to medical researchers who are studying the relation between habits and practices of expectant mothers and the birth of their children. This is a random sample of 1,000 cases from this data set.\n",
    "\n",
    "---"
   ]
  },
  {
   "cell_type": "markdown",
   "metadata": {
    "editable": true,
    "slideshow": {
     "slide_type": "slide"
    },
    "tags": []
   },
   "source": [
    "## Getting Started\n",
    "\n",
    "Let’s take a quick look at the first few rows of the data."
   ]
  },
  {
   "cell_type": "code",
   "execution_count": null,
   "metadata": {
    "editable": true,
    "slideshow": {
     "slide_type": "slide"
    },
    "tags": []
   },
   "outputs": [],
   "source": [
    "head(nc)"
   ]
  },
  {
   "cell_type": "markdown",
   "metadata": {
    "editable": true,
    "slideshow": {
     "slide_type": ""
    },
    "tags": []
   },
   "source": [
    "We can see that for every observation we have recorded nine variables. Some of these variables are categorical and some are quantitative."
   ]
  },
  {
   "cell_type": "markdown",
   "metadata": {
    "editable": true,
    "slideshow": {
     "slide_type": "slide"
    },
    "tags": []
   },
   "source": [
    "### Exercise: Make a histogram of birthweights, `weight`. How would you describe the distribution of birthweights?"
   ]
  },
  {
   "cell_type": "code",
   "execution_count": null,
   "metadata": {
    "editable": true,
    "slideshow": {
     "slide_type": ""
    },
    "tags": []
   },
   "outputs": [],
   "source": [
    "hist(nc$weight, xlab = \"Weight in lbs\", main = \"Birthweights\")"
   ]
  },
  {
   "cell_type": "markdown",
   "metadata": {
    "editable": true,
    "slideshow": {
     "slide_type": "slide"
    },
    "tags": []
   },
   "source": [
    "### The normal distribution\n",
    "\n",
    "In your description of the distribution, did you use words like bell-shaped or normal? Did you use words like skewded left?"
   ]
  },
  {
   "cell_type": "markdown",
   "metadata": {
    "editable": true,
    "slideshow": {
     "slide_type": "slide"
    },
    "tags": []
   },
   "source": [
    "### Evaluating the normal distribution\n",
    "\n",
    "Eyeballing the shape of the histogram is one way to determine if the data appear to be nearly normally distributed, but it can be frustrating to decide just how close the histogram is to \"bell-shaped\". An alternative approach involves constructing a normal probability plot, also called a normal Q-Q plot for \"quantile-quantile\".\n",
    "\n",
    "#### Normal probability plot (Quantile-Quantile plot) - `qqnorm`\n",
    "\n",
    "The normal probability plot, or quantile-quantile plot (QQ plot), shows the data on the vertical axis ranked in order from smallest to largest (“sample quantiles” in the figure below). On the horizontal axis, it shows the expected value of an observation with the same quantile if the distribution were normal (“theoretical quantiles” in the same figure). The QQ plot should follow more or less along a straight line if the data come from a normal distribution (with some tolerance for sampling variation).\n",
    "\n",
    "QQ plots can be made in R using a function called `qqnorm`. Simply give the vector of data as input and it will draw a QQ plot for you. `qqline` will draw a line through that Q-Q plot to make the linear relationship easier to see.)"
   ]
  },
  {
   "cell_type": "code",
   "execution_count": null,
   "metadata": {},
   "outputs": [],
   "source": [
    "qqnorm(nc$weight)\n",
    "qqline(nc$weight)"
   ]
  },
  {
   "cell_type": "markdown",
   "metadata": {},
   "source": [
    "A data set that is nearly normal will result in a probability plot where the points closely follow the line. Any deviations from normality leads to deviations of these points from the line. The plot for birthweights heights shows points that tend to follow the line for larger values, but deviate from the line quite subtantially for smaller values, which are values in the lower tail. This corresponds to the left skewed behaviour that appeared in the distribution. Of course even normal data will not follow the line exactly. There will be some departures from the straight line. We’re left with the same problem that we encountered with the histogram above: how close is close enough?\n",
    "\n",
    "A useful way to address this question is to rephrase it as: what do probability plots look like for data that I know came from a normal distribution? We can answer this by simulating data from a normal distribution using `rnorm`.\n",
    "\n",
    "#### `rnorm`\n",
    "The function `rnorm` will return a vector of numbers, all drawn randomly from a normal distribution. It takes three arguments:  \n",
    "`n`: how many random numbers to generate (the length of the output vector)  \n",
    "`mean`: the mean of the normal distribution to sample from  \n",
    "`sd`: the standard deviation of the normal distribution"
   ]
  },
  {
   "cell_type": "markdown",
   "metadata": {
    "editable": true,
    "slideshow": {
     "slide_type": "slide"
    },
    "tags": []
   },
   "source": [
    "This normal distribution should have the same mean and standard deviation as the data. Let’s calculate mean birthweight and standard deviation of birthweight and save them as a separate objects that may be referenced later."
   ]
  },
  {
   "cell_type": "code",
   "execution_count": null,
   "metadata": {},
   "outputs": [],
   "source": [
    "weight_mean = mean(nc$weight)\n",
    "weight_mean\n",
    "weight_sd = sd(nc$weight)\n",
    "weight_sd"
   ]
  },
  {
   "cell_type": "markdown",
   "metadata": {},
   "source": [
    "The mean birthweight was approximately 7.1 pounds, with a standard deivation of approximately 1.51 pounds."
   ]
  },
  {
   "cell_type": "code",
   "execution_count": null,
   "metadata": {},
   "outputs": [],
   "source": [
    "sim_norm = rnorm(n = length(nc$weight), mean = weight_mean, sd = weight_sd)"
   ]
  },
  {
   "cell_type": "markdown",
   "metadata": {},
   "source": [
    "The first argument indicates how many numbers you’d like to generate, which we specify to be the same number of weights in the `nc` data set using the `length` function. The last two arguments determine the mean and standard deviation of the normal distribution from which the simulated sample will be generated. We can take a look at the shape of our simulated data set, `sim_norm`, as well as its normal probability plot."
   ]
  },
  {
   "cell_type": "markdown",
   "metadata": {
    "editable": true,
    "slideshow": {
     "slide_type": "slide"
    },
    "tags": []
   },
   "source": [
    "### Exercise: Make a histogram of `sim_norm`, the simulated birthweights. How does this histogram compare to the histogram for the real data?"
   ]
  },
  {
   "cell_type": "code",
   "execution_count": null,
   "metadata": {},
   "outputs": [],
   "source": [
    "hist(sim_norm, xlab = \"Weight in lbs\", main = \"Simulated birthweights\")"
   ]
  },
  {
   "cell_type": "markdown",
   "metadata": {
    "editable": true,
    "slideshow": {
     "slide_type": "slide"
    },
    "tags": []
   },
   "source": [
    "### Exercise: Make a normal probability plot of `sim_norm`. Do all of the points fall on the line? How does this plot compare to the probability plot for the real data?"
   ]
  },
  {
   "cell_type": "code",
   "execution_count": null,
   "metadata": {},
   "outputs": [],
   "source": [
    "qqnorm(sim_norm)\n",
    "qqline(sim_norm)"
   ]
  },
  {
   "cell_type": "markdown",
   "metadata": {
    "editable": true,
    "slideshow": {
     "slide_type": "slide"
    },
    "tags": []
   },
   "source": [
    "### Normal probabilities\n",
    "\n",
    "Okay, so now you have some tools to judge whether or not a variable is normally distributed. Why should we care?\n",
    "\n",
    "It turns out that statisticians know a lot about the normal distribution. Once we decide that a random variable is approximately normal, we can answer all sorts of questions about that variable related to probability. Take, for example, the question of, “What is the probability that a randomly birth has a birthweight less than 5.5 pounds, which is threshold for classification as low birthweight in this dataset.\n",
    "\n",
    "If we assume that birthweights are normally distributed (a very close approximation is also okay), we can find this probability by calculating a Z score (standardized score) and consulting a Z table (also called a normal probability table). In R, this is done in one step with the function `pnorm`."
   ]
  },
  {
   "cell_type": "markdown",
   "metadata": {},
   "source": [
    "#### `pnorm`\n",
    "The function `pnorm` will calculate $P(X \\le q)$, for some value $q$ for a normal distribution with a given mean and standard deviation. The default mean is 0 and default standard deviation is 1, but you can specify any mean and standard deviation you wish. `lower.tail` is an optional argument that determines whether `pnorm` calculates $P(X \\le q)$ or $P(X > q)$. The `pnorm` function takes three (or four) arguments:  \n",
    "\n",
    "`q`: value at which probability is calculated, $P(X \\le q)$  \n",
    "`mean`: the mean of the normal distribution; default mean is 0  \n",
    "`sd`: the standard deviation of the normal distribution; default standard deviation is 1  \n",
    "`lower.tail`: optional argument. Default is `lower.tail = TRUE`. If `lower.tail = FALSE`, `pnorm` will calculate $P(X > q)$\n",
    "\n",
    "Therefore, to calculate the probability that birthweight is less than 5.5 pounds we can use the `pnorm` function with a normal distribution that has the same mean as our mean birthweight, `weight_mean`, and the same standard deviation as the standard deviation of birthweights, `weight_sd`."
   ]
  },
  {
   "cell_type": "code",
   "execution_count": null,
   "metadata": {},
   "outputs": [],
   "source": [
    "pnorm(q = 5.5, mean = weight_mean, sd = weight_sd)"
   ]
  },
  {
   "cell_type": "markdown",
   "metadata": {},
   "source": [
    "Note that the function `pnorm` gives the area under the normal curve below a given value, `q`, with a given mean and standard deviation. If we are interested in the probability that birthweight is greater than some value, we would have to take one minus that probability, or include the `lower.tail=FALSE` argument with the `pnorm` function.\n",
    "\n",
    "Assuming a normal distribution has allowed us to calculate a theoretical probability. However, we know that the distribution of birthweights did not seem to follow a normal distribution. If we want to calculate the desired probability empirically, we simply need to determine how many observations fall below 5.5 then divide this number by the total sample size."
   ]
  },
  {
   "cell_type": "code",
   "execution_count": null,
   "metadata": {},
   "outputs": [],
   "source": [
    "sum(nc$weight <= 5.5) / length(nc$weight)"
   ]
  },
  {
   "cell_type": "markdown",
   "metadata": {},
   "source": [
    "Although the probabilities are not too far apart, the difference does reflect the fact that the distribution of birthweights is left skewed instead of normally distributed. The closer that your distribution is to being normal, the more accurate the theoretical probabilities will be.\n",
    "\n",
    "-----"
   ]
  },
  {
   "cell_type": "markdown",
   "metadata": {},
   "source": [
    "### Modelling data using the normal distribution"
   ]
  },
  {
   "cell_type": "markdown",
   "metadata": {},
   "source": [
    "The Graduate Record Examination (GRE) is a standardized test that is an admissions requirement for many graduate schools in the United States and Canada and a few other countries. The GRE includes sections testing Verbal Reasoning and another testing Quantitative Reasoning. Suppose that the distribution of scores on the Verbal Reaoning section are approximately normal with a mean score of 151 and a standard deviation of 7. Futhermore, suppose that the distribution of scores on the Quantitative Reaoning section are approximately normal with a mean score of 153 and a standard deviation of 7.67.\n",
    "\n",
    "If $X$ represents the score on the Verbal Reasoning section, then we are assuming $$X \\sim N(\\mu=151, \\sigma = 7)$$.\n",
    "\n",
    "If $Y$ represents the score on the Quantitative Reasoning section, then we are assuming $$Y \\sim N(\\mu=153, \\sigma = 7.67)$$."
   ]
  },
  {
   "cell_type": "markdown",
   "metadata": {},
   "source": [
    "### Exercise: Suppose Sophia who took the Graduate Record Examination (GRE) scored 160 on the Verbal Reasoning section and 157 on the Quantitative Reasoning section. Relative to other test takers, which section did she do better on?"
   ]
  },
  {
   "cell_type": "markdown",
   "metadata": {},
   "source": [
    "#### Answer: <br> There are two common approaches to this problem. <br><br>(i) Z-Scores: One option is to compare Sophia's standardized score (Z-score) on each section. This measures the distance of a value from the mean in terms of standard deviations. These standardized values allows us to compare across different distribution. <br><br> For Verbal Reasoning, $X=160$ and $$Z = \\frac{x-\\mu}{\\sigma} = \\frac{160-151}{7}=1.29$$"
   ]
  },
  {
   "cell_type": "code",
   "execution_count": null,
   "metadata": {},
   "outputs": [],
   "source": [
    "(160-151)/7"
   ]
  },
  {
   "cell_type": "markdown",
   "metadata": {},
   "source": [
    "#### For Quantitative Reasoning, $Y=157$ and $$Z = \\frac{y-\\mu}{\\sigma} = \\frac{157-153}{7.67}=0.52$$"
   ]
  },
  {
   "cell_type": "code",
   "execution_count": null,
   "metadata": {},
   "outputs": [],
   "source": [
    "(157-153)/7.67"
   ]
  },
  {
   "cell_type": "markdown",
   "metadata": {},
   "source": [
    "#### Sophia's Verbal Reasoning score was 1.29 standard deviations above the mean. Sophia's Quantitative Reasoning score was 0.52 standard deviations above the mean. Sophia's perfomance was above average on both sections, but her score on the Verbal Reasoning section was better relative to other test takers."
   ]
  },
  {
   "cell_type": "markdown",
   "metadata": {},
   "source": [
    "#### (ii) Percentiles: Another option is to calculate the percentile associated with each of Sophia's scores.<br><br> For Verbal Reasoning, Sophia scored 160. The distribution of scores for Verbal Reasoning is normal with mean of 151 and standard deviation of 7.<br><br> We can use the `pnorm` function to calculate $P(X \\le 160)$ to evaluate Sophia's performance. "
   ]
  },
  {
   "cell_type": "code",
   "execution_count": null,
   "metadata": {},
   "outputs": [],
   "source": [
    "pnorm(160, mean = 151, sd = 7)"
   ]
  },
  {
   "cell_type": "markdown",
   "metadata": {},
   "source": [
    "#### Sophia scored in the 90th percentile on the Verbal Reasoning section. Sophia's score was higher than 90% of test takers and lower than 10% of test takers."
   ]
  },
  {
   "cell_type": "markdown",
   "metadata": {},
   "source": [
    "#### For Quantitative Reasoning, Sophia scored 157. The distribution of scores for Verbal Reasoning is normal with mean of 153 and standard deviation of 7.67.<br><br> We can use the `pnorm` function to calculate $P(Y \\le 157)$ to evaluate Sophia's performance. "
   ]
  },
  {
   "cell_type": "code",
   "execution_count": null,
   "metadata": {},
   "outputs": [],
   "source": [
    "pnorm(157, mean = 153, sd = 7.67)"
   ]
  },
  {
   "cell_type": "markdown",
   "metadata": {},
   "source": [
    "#### Sophia scored in the 70th percentile on the Quantitative Reasoning section. Sophia's score was higher than 70% of test takers and lower than 30% of test takers.<br><br> Therfore, Sophia performed better on the Verbal Reasoning section relative to others."
   ]
  },
  {
   "cell_type": "markdown",
   "metadata": {},
   "source": [
    "### Exercise: What score would be required for a student to be in the 70th percentile on the Verbal Reasoning section?"
   ]
  },
  {
   "cell_type": "markdown",
   "metadata": {},
   "source": [
    "#### Calculating critical values/cutoff values for the normal distribution <br><br> We may use the `qnorm` function to calculate critical values/cutoff values for the normal distribution."
   ]
  },
  {
   "cell_type": "markdown",
   "metadata": {},
   "source": [
    "#### `qnorm`\n",
    "The function `qnorm` will calculate critical values (cutoff values) in the normal distribution for a given percentile, `p`, with a given mean and a given standard deviation. That is, given a percentile, `p`, for a normal distribution, `qnorm` will find `x` such that $P(X \\le x) = p$. Default mean is 0 and default standard deviation is 1. `lower.tail` is an optional argument. The `qnorm` function takes three (or four) arguments:  \n",
    "`p`: the desired percentile for the distribution, ie $P(X \\le x) = p$  \n",
    "`mean`: the mean of the normal distribution; default mean is 0  \n",
    "`sd`: the standard deviation of the normal distribution; default standard deviation is 1  \n",
    "`lower.tail`: optional argument. Default is `lower.tail = TRUE`. If `lower.tail = FALSE`, `qnorm` will calculate `x` such that $P(X > x) = p$  "
   ]
  },
  {
   "cell_type": "markdown",
   "metadata": {},
   "source": [
    "#### Answer: <br><br>The Verbal Reasoning section has a normal distribution with mean of 151 and standard deviation of 7. To find the score required for a student to be in the 70th percentile "
   ]
  },
  {
   "cell_type": "code",
   "execution_count": null,
   "metadata": {},
   "outputs": [],
   "source": [
    "qnorm(.70, mean = 151, sd = 7)"
   ]
  },
  {
   "cell_type": "markdown",
   "metadata": {},
   "source": [
    "#### Alternatively, for a student to be in the 70th percentile, the scores of 30% of test takers must be greater. Could use `lower.tail = FALSE` to find `x` such that $P(X > x) = 0.30$ "
   ]
  },
  {
   "cell_type": "code",
   "execution_count": null,
   "metadata": {},
   "outputs": [],
   "source": [
    "qnorm(.30, mean = 151, sd = 7, lower.tail = FALSE)"
   ]
  },
  {
   "cell_type": "markdown",
   "metadata": {},
   "source": [
    "### Exercise: What score would result in a student scoring worse than 80% of test takers on the Quantitative Reasoning section?"
   ]
  },
  {
   "cell_type": "markdown",
   "metadata": {},
   "source": [
    "#### Answer: <br><br> The Quantitative Reasoning section has a normal distribution with mean of 153 and standard deviation of 7.6. For a student to score worse than 80% of the test takers, the student would be in the 20th percentile of test takers. "
   ]
  },
  {
   "cell_type": "code",
   "execution_count": null,
   "metadata": {},
   "outputs": [],
   "source": [
    "qnorm(.20, mean = 153, sd = 7.6)"
   ]
  },
  {
   "cell_type": "markdown",
   "metadata": {},
   "source": [
    "#### Alternatively, for a student score worse that 80% of test takers could use `lower.tail = FALSE` to find `x` such that $P(X > x) = 0.80$ "
   ]
  },
  {
   "cell_type": "code",
   "execution_count": null,
   "metadata": {},
   "outputs": [],
   "source": [
    "qnorm(.80, mean = 153, sd = 7.6, lower.tail = FALSE)"
   ]
  }
 ],
 "metadata": {
  "kernelspec": {
   "display_name": "R",
   "language": "R",
   "name": "ir"
  },
  "language_info": {
   "codemirror_mode": "r",
   "file_extension": ".r",
   "mimetype": "text/x-r-source",
   "name": "R",
   "pygments_lexer": "r",
   "version": "4.3.3"
  }
 },
 "nbformat": 4,
 "nbformat_minor": 4
}
