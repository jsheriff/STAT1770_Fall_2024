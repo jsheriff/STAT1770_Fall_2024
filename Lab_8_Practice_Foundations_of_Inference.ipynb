{
 "cells": [
  {
   "cell_type": "markdown",
   "metadata": {},
   "source": [
    "# Lab 8 Practice: Foundations of Inference"
   ]
  },
  {
   "cell_type": "markdown",
   "metadata": {
    "slideshow": {
     "slide_type": "slide"
    }
   },
   "source": [
    "## Objectives\n",
    "\n",
    "* sampling distribution of a sample statistic; shape, centre, spread \n",
    "* confidence intervals for a population parameter; construction and interpretation\n",
    "* sample proportion and population proportion."
   ]
  },
  {
   "cell_type": "markdown",
   "metadata": {},
   "source": [
    "## Load Data: "
   ]
  },
  {
   "cell_type": "code",
   "execution_count": null,
   "metadata": {},
   "outputs": [],
   "source": [
    "source(\"http://www.openintro.org/stat/data/cdc.R\")"
   ]
  },
  {
   "cell_type": "markdown",
   "metadata": {},
   "source": [
    "The `source` function is used to import the dataset that will be used in the tutorial. The data that is available to you is called `cdc`."
   ]
  },
  {
   "cell_type": "markdown",
   "metadata": {
    "slideshow": {
     "slide_type": "slide"
    }
   },
   "source": [
    "## Data Information:\n",
    "\n",
    "### Data Set:\n",
    "\n",
    "Today we will be using data from the CDC, the Centre for Disease Control in the U.S..\n",
    "\n",
    "The Behavioral Risk Factor Surveillance System (BRFSS) is an annual telephone survey of 350,000 people in the United States. As its name implies, the BRFSS is designed to identify risk factors in the adult population and report emerging health trends. For example, respondents are asked about their diet and weekly physical activity, their HIV/AIDS status, possible tobacco use, and even their level of healthcare coverage. The BRFSS Web site (http://www.cdc.gov/brfss) contains a complete description of the survey, including the research questions that motivate the study and many interesting results derived from the data.\n",
    "\n",
    "We will focus on a random sample of 20,000 people from the BRFSS survey conducted in 2000. While there are over 200 variables in this data set, we will work with a small subset.\n",
    "\n",
    " \n",
    "#### Name: #### \n",
    "* `cdc` - health data from the sample of the BRFSS survey from 2000.\n",
    "\n",
    "#### Variables: ####\n",
    "* `genhlth` - respondents were asked to evaluate their general health, responding either excellent, very good, good, fair or poor\n",
    "* `exerany` - whether the respondent exercised in the past month (recent) or did not (not_recent). 0 = did not exercise, 1 = exercised\n",
    "* `hlthplan` - whether the respondent had some form of health coverage (insured) or did not (uninsured). 0 = does not have health plan, 1 = has health plan\n",
    "* `smoke100` - whether the respondent had smoked at least 100 cigarettes in her lifetime (smoker) or has not (nonsmoker). 0 = nonsmoker, 1 = smoker\n",
    "* `height` - the respondent's height measured in inches.\n",
    "* `weight` - the respondent's weight measured in pounds.\n",
    "* `wtdesire` - the respondent's desired weight measured in pounds.\n",
    "* `age` - the respondent's age measured in years.\n",
    "* `gender` - whether the respondent said they were female or male."
   ]
  },
  {
   "cell_type": "markdown",
   "metadata": {
    "slideshow": {
     "slide_type": "slide"
    }
   },
   "source": [
    "## Getting Started\n",
    "\n",
    "R stores data in data frames, which you might think of as a type of spreadsheet. Each row is a different observation (a different subject) and each column is a different variable (the first is `genhlth`, the second `exerany` and so on). "
   ]
  },
  {
   "cell_type": "markdown",
   "metadata": {},
   "source": [
    "We can look at the first few entries (rows) of our data with the command"
   ]
  },
  {
   "cell_type": "code",
   "execution_count": null,
   "metadata": {},
   "outputs": [],
   "source": [
    "head(cdc)"
   ]
  },
  {
   "cell_type": "markdown",
   "metadata": {},
   "source": [
    "In addition to showing some of the values recorded for each variable, the `head` function provides information on how each variable is being treated by R. For example, at the top of the `genhlth` column, you will see the label `<fct>`. This indicates that `genhlth` is being treated as a `Factor` variable which is equivalent to a categorical variable. Similarly, `gender` is being treated as a `Factor`, or categorical variable. \n",
    "\n",
    "The other variables are all being treated as numerical variables. Those labeled `<dbl>` are formally treated as continuous numerical variables, while those labeled `<int>` are formally treated as discrete numerical variables.\n",
    "\n",
    "Note, that when we begin exploring the data frame, there may be variables that are not treated by R in the correct manner. For example, the variable `hlthplan` records whether the respondent has some sort of health coverage. This is clearly a categorical variable. However, it was recorded either a `0` for those without coverage, or `1` for those with health coverage. Initially, upon encountering a series of `0`s and `1`s, R treats the variable as numerical.\n",
    "\"\n",
    "The variable type can be changed in R if it is incorrect. \n",
    "\n",
    "In this lab we will be working with the variable `hlthplan`. We need this variable to be treated correctly as a factor (categorical variable). We can use the `factor` function to convert this variable from numerical to factor (categorical). We will also use the `labels` argument to add category names. The `hlthplan` variable takes on the values 0 and 1, corresponding to \"No\" and \"Yes\")."
   ]
  },
  {
   "cell_type": "code",
   "execution_count": null,
   "metadata": {},
   "outputs": [],
   "source": [
    "cdc$hlthplan = factor(cdc$hlthplan, labels = c(\"No\",\"Yes\"))\n",
    "#converts the hlthplan to a categorical variable (factor)\n",
    "#there are two categories which are called 1 and 2 by default, corresponding to 0 and 1 in the original data\n",
    "#labels are added to each category, identifying the subjects without a health plan as No and those with as Yes "
   ]
  },
  {
   "cell_type": "markdown",
   "metadata": {},
   "source": [
    "You could use the `head` function or `tail` function to review the changes that have been made to the data frame. In particular, `hlthplan` now appears as a categorical variable (factor)."
   ]
  },
  {
   "cell_type": "code",
   "execution_count": null,
   "metadata": {},
   "outputs": [],
   "source": [
    "head(cdc)"
   ]
  },
  {
   "cell_type": "markdown",
   "metadata": {},
   "source": [
    "You could also use the `str` function to review the structure of the data frame. This will identify the variables in the data frame, the type of each variable, and provide an example of some of the values for each variable."
   ]
  },
  {
   "cell_type": "code",
   "execution_count": null,
   "metadata": {},
   "outputs": [],
   "source": [
    "str(cdc)"
   ]
  },
  {
   "cell_type": "markdown",
   "metadata": {
    "slideshow": {
     "slide_type": "slide"
    }
   },
   "source": [
    "### Sampling Distribution of Sample Proportion, $\\hat{p}$ (p-hat)\n",
    "\n",
    "#### Proportion of population with health coverage, *p*\n",
    "\n",
    "Suppose that we are interested in using the BRFSS survey to estimate the proportion of all people in the U.S. that have some form of health coverage. This proportion is a **parameter**, since it describes the population. We will label this parameter, ***p***. The population proportion may be estimated using the proportion in the sample that have some form of health coverage. This sample proportion is a **statistic**, since it describes the sample. We will label the sample proportion, ***$\\hat{p}$***.\n",
    "\n",
    "In order to use $\\hat{p}$ to make inferences about $p$ we need to understand how $\\hat{p}$ behaves. That is, we need to understand the **sampling distribution** of the statistic $\\hat{p}$. The sampling distribution describes what we would expect to see if we repeatedly take random samples of the same size, $n$, from the population and for each sample calculate $\\hat{p}$, the proportion of people in the sample who have some form of health coverage. \n",
    "\n",
    "What is a typical value for $\\hat{p}$? How variable is $\\hat{p}$? What is the shape of the distribution that describes the possible values of $\\hat{p}$?  \n",
    "\n",
    "One way to study the sampling distribution would be to repeatedly sample from a population, and observe the behaviour of $\\hat{p}$ over many samples. This would give us a good idea of the sampling distribution of $\\hat{p}$. \n",
    "  \n",
    "In general it is not practical to repeatedly sample from a population in this fashion. However, we can approximate this process as follows. \n",
    "* Suppose that we assume the 20 000 observations in this data frame are the actual population. \n",
    "* Since we know the population under this assumption, we also know the true proportion of the population that has some form of health coverage."
   ]
  },
  {
   "cell_type": "markdown",
   "metadata": {},
   "source": [
    "Lets begin by studying the distribution of the variable `hlthplan` in this pretend population. We might consider a frequency table, relative frequency table, and barplot. "
   ]
  },
  {
   "cell_type": "markdown",
   "metadata": {},
   "source": [
    "#### Frequency Table"
   ]
  },
  {
   "cell_type": "code",
   "execution_count": null,
   "metadata": {},
   "outputs": [],
   "source": [
    "hlthplan_count = table(cdc$hlthplan) \n",
    "# counts the number of subjects in each of the categories of the response variable\n",
    "# saves the results in the object called hlthplan_count\n",
    "hlthplan_count \n",
    "# displays the table of counts"
   ]
  },
  {
   "cell_type": "markdown",
   "metadata": {},
   "source": [
    "#### Relative Frequency Table"
   ]
  },
  {
   "cell_type": "code",
   "execution_count": null,
   "metadata": {},
   "outputs": [],
   "source": [
    "hlthplan_prop = prop.table(hlthplan_count)\n",
    "# converts table of counts into a table of proportions, or relative frequencies\n",
    "# saves results in object called hlthplan_prop\n",
    "hlthplan_prop \n",
    "# displays the proportions"
   ]
  },
  {
   "cell_type": "markdown",
   "metadata": {},
   "source": [
    "#### Barplot"
   ]
  },
  {
   "cell_type": "code",
   "execution_count": null,
   "metadata": {},
   "outputs": [],
   "source": [
    "barplot(hlthplan_prop, ylab=\"Proportion\", main = \"Health Coverage in Population\" ) \n",
    "#produces barplot of proprtions in each category"
   ]
  },
  {
   "cell_type": "markdown",
   "metadata": {},
   "source": [
    "#### We can see that the proportion of our population with health coverage is about 0.874, or about 87.4%"
   ]
  },
  {
   "cell_type": "markdown",
   "metadata": {},
   "source": [
    "We can now sample from this pretend population, and find the sample proportion with health coverage. We will begin with samples of size 100."
   ]
  },
  {
   "cell_type": "markdown",
   "metadata": {},
   "source": [
    "The command below  uses the `sample` function to select a sample of size 100 from the population."
   ]
  },
  {
   "cell_type": "code",
   "execution_count": null,
   "metadata": {},
   "outputs": [],
   "source": [
    "sample1 = cdc[sample(1:nrow(cdc),100, replace = FALSE),]\n",
    "#selects 100 observations at random from the cdc data frame and saves the results in a new data frame called sample1"
   ]
  },
  {
   "cell_type": "markdown",
   "metadata": {},
   "source": [
    "Let's look at health coverage in the sample."
   ]
  },
  {
   "cell_type": "markdown",
   "metadata": {},
   "source": [
    "#### Frequency Table"
   ]
  },
  {
   "cell_type": "code",
   "execution_count": null,
   "metadata": {},
   "outputs": [],
   "source": [
    "sample1_count = table(sample1$hlthplan) \n",
    "# counts the number of subjects in each of the categories of the response variable in the sample\n",
    "# saves the results in the object called sample1_count\n",
    "sample1_count \n",
    "# displays the table of counts"
   ]
  },
  {
   "cell_type": "markdown",
   "metadata": {},
   "source": [
    "#### Relative Frequency Table"
   ]
  },
  {
   "cell_type": "code",
   "execution_count": null,
   "metadata": {},
   "outputs": [],
   "source": [
    "sample1_prop = prop.table(sample1_count)\n",
    "# converts table of counts into a table of proportions, or relative frequencies\n",
    "# saves results in object called sample1.prop\n",
    "sample1_prop \n",
    "# displays the proportions"
   ]
  },
  {
   "cell_type": "markdown",
   "metadata": {},
   "source": [
    "#### Barplot"
   ]
  },
  {
   "cell_type": "code",
   "execution_count": null,
   "metadata": {},
   "outputs": [],
   "source": [
    "barplot(sample1_prop, ylab=\"Proportion\", main = \"Health Coverage in Sample\" ) \n",
    "#produces barplot of proprtions in each category"
   ]
  },
  {
   "cell_type": "markdown",
   "metadata": {},
   "source": [
    "#### Random samples from a population should resemble the population in all important respects. The distribution of health coverage in the sample appears to be similar to the distribution of health coverage in the population. In particular, the proportion of people in the sample with health coverage (sample statistic) is similar to the proportion of people in the population with health coverage (population parameter)."
   ]
  },
  {
   "cell_type": "markdown",
   "metadata": {},
   "source": [
    "Repeat this process by taking another sample of size 100 from the population and considering health coverage in the sample."
   ]
  },
  {
   "cell_type": "code",
   "execution_count": null,
   "metadata": {},
   "outputs": [],
   "source": [
    "sample2 = cdc[sample(1:nrow(cdc),100, replace = FALSE),]"
   ]
  },
  {
   "cell_type": "markdown",
   "metadata": {},
   "source": [
    "#### Frequency Table"
   ]
  },
  {
   "cell_type": "code",
   "execution_count": null,
   "metadata": {},
   "outputs": [],
   "source": [
    "sample2_count = table(sample2$hlthplan) \n",
    "# counts the number of subjects in each of the categories of the response variable in the sample\n",
    "# saves the results in the object called sample2_count\n",
    "sample2_count \n",
    "# displays the table of counts"
   ]
  },
  {
   "cell_type": "markdown",
   "metadata": {},
   "source": [
    "#### Relative Frequency Table"
   ]
  },
  {
   "cell_type": "code",
   "execution_count": null,
   "metadata": {},
   "outputs": [],
   "source": [
    "sample2_prop = prop.table(sample2_count)\n",
    "# converts table of counts into a table of proportions, or relative frequencies\n",
    "# saves results in object called sample2_prop\n",
    "sample2_prop \n",
    "# displays the proportions"
   ]
  },
  {
   "cell_type": "markdown",
   "metadata": {},
   "source": [
    "#### Barplot"
   ]
  },
  {
   "cell_type": "code",
   "execution_count": null,
   "metadata": {},
   "outputs": [],
   "source": [
    "barplot(sample2_prop, ylab=\"Proportion\", main = \"Health Coverage in Sample\" ) \n",
    "#produces barplot of proprtions in each category"
   ]
  },
  {
   "cell_type": "markdown",
   "metadata": {},
   "source": [
    "#### You should once again observe that the distribution of health coverage in the sample appears to be similar to the distribution of health coverage in the population and that the proportion of people in the sample with health coverage (sample statistic) is similar to the proportion of people in the population with health coverage (population parameter)."
   ]
  },
  {
   "cell_type": "markdown",
   "metadata": {},
   "source": [
    "### Approximating the sampling distribution of sample proportion $\\hat{p}$\n",
    "\n",
    "In order to approximate the sampling distribution (shape, centre, and spread) of the sample proportion $\\hat{p}$, we need to repeat this process many times.\n",
    "\n",
    "The function below allows us to take many samples of desired size from the population. For each sample, the sample proportion with health coverage will be calculated and will be saved. With hundreds, or thousands, of sample proportions, we can get an approximation of the sampling distribution of $\\hat{p}$.\n",
    "\n",
    "### Note: This function is just being used to explore the sampling distribution. You are not required to create such functions yourself, nor will you be required to use this function for any lab assignment."
   ]
  },
  {
   "cell_type": "code",
   "execution_count": null,
   "metadata": {},
   "outputs": [],
   "source": [
    "# We are just creating the function here. \n",
    "# This function will take a specified number of samples, each of specified size, from the population (cdc data frame)\n",
    "# For each sample it will calculate the proportion of subjects with health coverage and save this sample proportion\n",
    "# It will return all of the calculated sample proportions\n",
    "# We will use this function to study the sampling distribution of the sample proportion\n",
    "\n",
    "sample_proportion_distn  <- function(number_samples, sample_size){\n",
    "    sample_prop  <- rep(0,number_samples)\n",
    "    for (i in 1:number_samples){\n",
    "      sampl = cdc[sample(1:nrow(cdc),sample_size, replace = FALSE),]\n",
    "      sampl_count = table(sampl$hlthplan)\n",
    "      sampl_prop = prop.table(sampl_count)\n",
    "      sample_prop[i] = sampl_prop[2]  \n",
    "    }\n",
    "    return(sample_prop)\n",
    "}"
   ]
  },
  {
   "cell_type": "markdown",
   "metadata": {},
   "source": [
    "We can now use the function we created to repeatedly sample from the population. To start we will take 1000 samples (`number_samples = 1000`), each of size 100 (`sample_size = 100`). The sample proportion from each of those samples will be stored in an object called `proportion_estimates`."
   ]
  },
  {
   "cell_type": "code",
   "execution_count": null,
   "metadata": {},
   "outputs": [],
   "source": [
    "proportion_estimates_100 = sample_proportion_distn(number_samples = 1000, sample_size = 100)\n",
    "# We use the sample_proportion_distn function to take 1000 samples (number_samples = 1000)\n",
    "# Each sample is of size 100 (`sample_size = 100`). \n",
    "# The sample proportion from each of those samples is calculated and saved in the object called `proportion_estimates_100`."
   ]
  },
  {
   "cell_type": "markdown",
   "metadata": {},
   "source": [
    "To investigate the sampling distribution of the sample proportion $\\hat{p}$, we need to consider the shape, centre, and spread of distribution of the sample proportions, $\\hat{p}$."
   ]
  },
  {
   "cell_type": "markdown",
   "metadata": {},
   "source": [
    "### Shape, centre, and spread of the sampling distribution\n",
    "\n",
    "Use `hist` function to create a histogram of the sample proportions. This allows us to study the shape of the distribution and also provides information on the centre of the distribution and spread of the distribution."
   ]
  },
  {
   "cell_type": "code",
   "execution_count": null,
   "metadata": {},
   "outputs": [],
   "source": [
    "hist(proportion_estimates_100)"
   ]
  },
  {
   "cell_type": "markdown",
   "metadata": {},
   "source": [
    "### Shape: The shape of the distribution is roughly bell-shaped and symmetric, or approximately normal."
   ]
  },
  {
   "cell_type": "markdown",
   "metadata": {},
   "source": [
    "### Centre: The distribution is centred at approximately 0.87-0.88. The calculated mean of the distribution is approximately 0.874, which is equal to the true proportion in the population with health coverage."
   ]
  },
  {
   "cell_type": "code",
   "execution_count": null,
   "metadata": {
    "scrolled": true
   },
   "outputs": [],
   "source": [
    "mean(proportion_estimates_100)"
   ]
  },
  {
   "cell_type": "markdown",
   "metadata": {},
   "source": [
    "### Spread: The sample proportions are almost always between 0.75 and 0.95, with most of the sample proportions between about 0.80 and 0.94. Since the distribution is bell-shaped, this suggests that a typical deviation is about 0.035. The calculated standard deviation of the distribution is approximately 0.032. "
   ]
  },
  {
   "cell_type": "code",
   "execution_count": null,
   "metadata": {},
   "outputs": [],
   "source": [
    "sd(proportion_estimates_100)"
   ]
  },
  {
   "cell_type": "markdown",
   "metadata": {},
   "source": [
    "When we're talking about a sampling distribution or the variability of a point estimate, as we are here, we typically use the term ***standard error*** rather than standard deviation, and the notation $SE_\\hat{p}$, or $SE(\\hat{p})$, is used for the standard error associated with the sample proportion."
   ]
  },
  {
   "cell_type": "markdown",
   "metadata": {},
   "source": [
    "### Effect of sample size on the sampling distribution "
   ]
  },
  {
   "cell_type": "markdown",
   "metadata": {},
   "source": [
    "#### Repeat the steps from above, but taking 1000 samples (`number_samples = 1000`), each of size 500 (`sample_size = 500`). The sample proportions from each of those samples will be stored in an object called `proportion_estimates_500`."
   ]
  },
  {
   "cell_type": "code",
   "execution_count": null,
   "metadata": {},
   "outputs": [],
   "source": [
    "proportion_estimates_500 = sample_proportion_distn(number_samples = 1000, sample_size = 500)"
   ]
  },
  {
   "cell_type": "markdown",
   "metadata": {},
   "source": [
    "To investigate the sampling distribution of the sample proportion $\\hat{p}$, we need to consider the shape, centre, and spread of distribution of the sample proportions, $\\hat{p}$."
   ]
  },
  {
   "cell_type": "markdown",
   "metadata": {},
   "source": [
    "Use `hist` function to create a histogram of the sample proportions. This allows us to study the shape of the distribution and also provides information on the centre of the distribution and spread of the distribution."
   ]
  },
  {
   "cell_type": "code",
   "execution_count": null,
   "metadata": {},
   "outputs": [],
   "source": [
    "hist(proportion_estimates_500)"
   ]
  },
  {
   "cell_type": "markdown",
   "metadata": {},
   "source": [
    "###  The distribution is still bell-shaped, and is still centred at approximately 0.874. However, the spread of the distribution is reduced. Now the sample proportions are almost always between about 0.82 and 0.92, and most of the time between about 0.84 and 0.90. This suggests that a typical deviation from the mean is about 0.015.<br><br> The calculated mean of the sample proportions is approximately 0.874, as it was previously, but the calculated standard deviation of the sample proportions is about 0.015, or roughly half as big as before. <br><br>With a larger sample size, the sample proportions are less variable. \n"
   ]
  },
  {
   "cell_type": "code",
   "execution_count": null,
   "metadata": {},
   "outputs": [],
   "source": [
    "mean(proportion_estimates_500)"
   ]
  },
  {
   "cell_type": "code",
   "execution_count": null,
   "metadata": {},
   "outputs": [],
   "source": [
    "sd(proportion_estimates_500)"
   ]
  },
  {
   "cell_type": "markdown",
   "metadata": {},
   "source": [
    "### Sampling distribution of sample proportion $\\hat{p}$\n",
    "\n",
    "When observations are independent and the sample size is sufficiently large, the sample proportion, $\\hat{p}$, will tend to follow a normal distribution with the following mean and standard error:\n",
    "\n",
    "$$\\mu_\\hat{p} = p \\hspace{1in} SE_\\hat{p} = \\sqrt{\\frac{p(1-p)}{n}}$$\n",
    "\n",
    "This is the result of the Central Limit Theorem. In order for the Central Limit Theorem to hold, the observations must be independent, and the sample size must be sufficiently large. The sample size is typically considered sufficiently\n",
    "large when $np \\ge 10$ and $n(1 -p) \\ge 10$, which is called the success-failure condition.\n",
    "\n",
    "**Independence: <br>In both examples we have simple random samples from a population. The most common way for observations to be considered independent is if they are from a simple random sample**\n",
    "\n",
    "**Success-Failure: <br>In both examples we have $p=0.874$. <br> When $n=100$, $np = (100)(0.874) = 87.4 \\ge 10$ and $n(1-p) = (100)(1-0.874) = 12.6 \\ge 10$. <br>When $n=500$ the success-failure condition would clearly also be met.**"
   ]
  },
  {
   "cell_type": "markdown",
   "metadata": {},
   "source": [
    "### 95% confidence interval for population proportion, $p$"
   ]
  },
  {
   "cell_type": "markdown",
   "metadata": {},
   "source": [
    "For any normal distribution, approximately 95% of all observations are within approximately $\\pm$ 2 standard deviations (standard errors) of the mean. This suggests that approximately 95% of the time the sample proportion, $\\hat{p}$, will be within 2 standard errors of the true proportion, $p$.\n",
    "\n",
    "Hence, an approximate 95% confidence interval for $p$ would be  \n",
    "  \n",
    "$$\\hat{p} \\pm 2 \\cdot SE_\\hat{p}$$\n",
    "\n",
    "Recall that $SE_\\hat{p}=\\sqrt{\\frac{p(1-p)}{n}}$. In this example, $p=0.874$. Therefore, when\n",
    "* $n=100$; $SE_\\hat{p}=\\sqrt{\\frac{0.874(1-0.874)}{100}}=0.033$\n",
    "* $n=500$; $SE_\\hat{p}=\\sqrt{\\frac{0.874(1-0.874)}{500}}=0.015$\n",
    "\n",
    "In general, $p$ is unknown, hence $SE_\\hat{p}$ is unknown and must be estimated. Since we know $\\hat{p}$ once we have selected the sample, we can use $\\hat{p}$ to estimate $SE_\\hat{p}$.\n",
    "$$SE_\\hat{p}=\\sqrt{\\frac{p(1-p)}{n}} \\approx \\sqrt{\\frac{\\hat{p}(1-\\hat{p})}{n}}$$"
   ]
  },
  {
   "cell_type": "markdown",
   "metadata": {},
   "source": [
    "Let's take another sample of size 100 from the population and use this to construct an approximate 95% confidence interval for $p$, the proportion of the population that has health coverage. The `set.seed` function is used to ensure reproducibility, namely that the random sample you generate matches the random sample used to create the sample answers below."
   ]
  },
  {
   "cell_type": "code",
   "execution_count": null,
   "metadata": {},
   "outputs": [],
   "source": [
    "set.seed(7)\n",
    "sample3 = cdc[sample(1:nrow(cdc),100, replace = FALSE),]"
   ]
  },
  {
   "cell_type": "markdown",
   "metadata": {},
   "source": [
    "#### Frequency Table"
   ]
  },
  {
   "cell_type": "code",
   "execution_count": null,
   "metadata": {},
   "outputs": [],
   "source": [
    "sample3_count = table(sample3$hlthplan) \n",
    "# counts the number of subjects in each of the categories of the response variable in the sample\n",
    "# saves the results in the object called sample3_count\n",
    "sample3_count \n",
    "# displays the table of counts"
   ]
  },
  {
   "cell_type": "markdown",
   "metadata": {},
   "source": [
    "#### Relative Frequency Table"
   ]
  },
  {
   "cell_type": "code",
   "execution_count": null,
   "metadata": {},
   "outputs": [],
   "source": [
    "sample3_prop = prop.table(sample3_count)\n",
    "# converts table of counts into a table of proportions, or relative frequencies\n",
    "# saves results in object called sample3_prop\n",
    "sample3_prop \n",
    "# displays the proportions"
   ]
  },
  {
   "cell_type": "markdown",
   "metadata": {},
   "source": [
    "### Question: Use the sample proportion with health coverage, $\\hat{p}$, to estimate $SE_\\hat{p}$."
   ]
  },
  {
   "cell_type": "markdown",
   "metadata": {},
   "source": [
    "### Answer:"
   ]
  },
  {
   "cell_type": "markdown",
   "metadata": {
    "editable": true,
    "slideshow": {
     "slide_type": ""
    },
    "tags": []
   },
   "source": [
    "<details>\n",
    "\n",
    "<summary><b>Sample Answer:</b></summary>\n",
    "\n",
    "<br>*$$SE_{\\hat{p}} \\approx \\sqrt{\\frac{\\hat{p}(1-\\hat{p})}{n}} = \\sqrt{\\frac{(0.84)(1-0.84)}{100}} = 0.037$$*\n",
    "\n",
    "</details>"
   ]
  },
  {
   "cell_type": "markdown",
   "metadata": {},
   "source": [
    "### Question: Use the sample proportion with health coverage, $\\hat{p}$, and the estimate of $SE_\\hat{p}$ to construct an approximate 95% confidence interval for $p$."
   ]
  },
  {
   "cell_type": "markdown",
   "metadata": {},
   "source": [
    "### Answer:"
   ]
  },
  {
   "cell_type": "markdown",
   "metadata": {
    "editable": true,
    "slideshow": {
     "slide_type": ""
    },
    "tags": []
   },
   "source": [
    "<details>\n",
    "\n",
    "<summary><b>Sample Answer:</b></summary>\n",
    "\n",
    "<br>*Approximate 95% confidence interval for p: <br>$$\\hat{p} \\pm 2 \\times SE_{\\hat{p}}$$ <br>$$ 0.84 \\pm 2 \\times 0.037$$ <br>$$ 0.84 \\pm 0.074$$ <br> $$\\text{or } (0.766, 0.914)$$ <br> $$ \\text{or } 76.6\\% \\text{ to } 91.4\\%$$*\n",
    "\n",
    "</details>"
   ]
  },
  {
   "cell_type": "markdown",
   "metadata": {},
   "source": [
    "### Question: Interpret the confidence interval in the context of this study."
   ]
  },
  {
   "cell_type": "markdown",
   "metadata": {},
   "source": [
    "### Answer:"
   ]
  },
  {
   "cell_type": "markdown",
   "metadata": {
    "editable": true,
    "slideshow": {
     "slide_type": ""
    },
    "tags": []
   },
   "source": [
    "<details>\n",
    "\n",
    "<summary><b>Sample Answer:</b></summary>\n",
    "\n",
    "<br>*We are 95% confident that the proportion of all U.S. adults that have a health plan is between 0.766 and 0.914. <br><br> Expressed alternatively, we are 95% confident that between 76.6% and 91.4% of all U.S. adults have a health plan.*\n",
    "\n",
    "</details>"
   ]
  },
  {
   "cell_type": "markdown",
   "metadata": {},
   "source": [
    "### Question: Does the confidence interval you constructed contain the true population proportion, $p$?"
   ]
  },
  {
   "cell_type": "markdown",
   "metadata": {},
   "source": [
    "### Answer:"
   ]
  },
  {
   "cell_type": "markdown",
   "metadata": {
    "editable": true,
    "slideshow": {
     "slide_type": ""
    },
    "tags": []
   },
   "source": [
    "<details>\n",
    "\n",
    "<summary><b>Sample Answer:</b></summary>\n",
    "\n",
    "<br>*In the population, 0.8738 of individuals had health coverage. This represents the true population proportion, $p$. This is contained in the confidence interval that has been constructed.*\n",
    "\n",
    "</details>"
   ]
  },
  {
   "cell_type": "markdown",
   "metadata": {
    "editable": true,
    "slideshow": {
     "slide_type": ""
    },
    "tags": []
   },
   "source": [
    "#### Let’s stop here. \n",
    "\n",
    "#### It is important to save your work, exit the notebook, and logout of syzygy when you are done. Simply closing the window in which you are working will leave the notebook running which can produce some minor problems when you next try to log in.\n",
    "\n",
    "- **Select File > Save Notebook or select the Save icon above to save your work.**\n",
    "- **To exit the notebook, select File > Close and Shutdown Notebook.**\n",
    "- **Select File > Log Out.**"
   ]
  }
 ],
 "metadata": {
  "kernelspec": {
   "display_name": "R",
   "language": "R",
   "name": "ir"
  },
  "language_info": {
   "codemirror_mode": "r",
   "file_extension": ".r",
   "mimetype": "text/x-r-source",
   "name": "R",
   "pygments_lexer": "r",
   "version": "4.3.3"
  }
 },
 "nbformat": 4,
 "nbformat_minor": 4
}
