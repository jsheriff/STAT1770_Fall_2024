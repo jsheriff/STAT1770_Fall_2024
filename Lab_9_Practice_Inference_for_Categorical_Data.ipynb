{
 "cells": [
  {
   "cell_type": "markdown",
   "metadata": {},
   "source": [
    "# Lab 9 Practice: Inference for categorical data"
   ]
  },
  {
   "cell_type": "markdown",
   "metadata": {
    "editable": true,
    "jp-MarkdownHeadingCollapsed": true,
    "slideshow": {
     "slide_type": ""
    },
    "tags": []
   },
   "source": [
    "## Reminder - working with notebooks\n",
    "\n",
    "#### 1) It is important to save your work, exit the notebook, and logout of syzygy whenever you are finished working on the notebook for that session. Simply closing the window in which you are working will leave the notebook running which can produce some minor problems when you next try to log in to resume working on the notebook.\n",
    "\n",
    "- **Select File > Save Notebook or select the Save icon above to save your work.**\n",
    "- **To exit the notebook, select File > Close and Shutdown Notebook.**\n",
    "- **Select File > Log Out.**\n",
    "\n",
    "\n",
    "#### 2) When you resume your work on a notebook, your previous work/output may still be displayed, but none of your previous work is maintained in memory accessible by the notebook. In particular, you will need to load the dataset again in order to continue working with the data. One easy way to refresh your notebook is to go to the notebook cell where you left off and do the following.\n",
    "\n",
    "- **Select Kernel > Restart Kernel and Run up to Selected Cell.**\n",
    "#### This will run all of the code in your notebook up to the selected cell."
   ]
  },
  {
   "cell_type": "markdown",
   "metadata": {
    "slideshow": {
     "slide_type": "slide"
    }
   },
   "source": [
    "## Objectives\n",
    "The objectives of this tutorial/lab are to explore inference procedures such as confidence intervals and hypothesis tests. The R function `inference` will be used to construct the confidence intervals and perform the hypothesis tests. The emphasis in this lab will be on the sample proportion and population proportion.\n",
    "\n",
    "* Numerical summaries of categorical variables\n",
    "* Graphical summaries of categorical variables\n",
    "* Confidence interval for population proportion  \n",
    "* Hypothesis test for population proportion  \n",
    "---"
   ]
  },
  {
   "cell_type": "markdown",
   "metadata": {},
   "source": [
    "## Load Data: "
   ]
  },
  {
   "cell_type": "code",
   "execution_count": null,
   "metadata": {},
   "outputs": [],
   "source": [
    "download.file(\"http://www.openintro.org/data/rda/ebola_survey.rda\", destfile = \"ebola_survey.rda\")\n",
    "load(\"ebola_survey.rda\")"
   ]
  },
  {
   "cell_type": "markdown",
   "metadata": {},
   "source": [
    "The `download.file` and `load` functions are used to import the dataset that will be used in the tutorial. The data that is available to you is called `ebola_survey`."
   ]
  },
  {
   "cell_type": "code",
   "execution_count": null,
   "metadata": {},
   "outputs": [],
   "source": [
    "source(\"inference_1770.R\")"
   ]
  },
  {
   "cell_type": "markdown",
   "metadata": {},
   "source": [
    "In addition to loading the data, you must also load the `inference_1770.R` file. The `source` function is used to load the `inference_1770.R` file. This will allow you to use the `inference` function for confidence intervals and hypothesis tests."
   ]
  },
  {
   "cell_type": "markdown",
   "metadata": {
    "slideshow": {
     "slide_type": "slide"
    }
   },
   "source": [
    "## Data Information:\n",
    "\n",
    "### Data Set:\n",
    "\n",
    "Today we will be using data from a 2014 survey of 1,042 New York city residents regarding their opinion of a mandatory quarantine for those exposed to Ebola.\n",
    "\n",
    "In New York City on October 23rd, 2014, a doctor who had recently been treating Ebola patients in Guinea went to the hospital with a slight fever and was subsequently diagnosed with Ebola. Soon thereafter, an NBC 4 New York/The Wall Street Journal/Marist Poll asked New Yorkers whether they favored a \"mandatory 21-day quarantine for anyone who has come in contact with an Ebola patient\". This poll included responses of a random sample of 1,042 New York adults contacted between October 26th and 28th, 2014.\n",
    "\n",
    " \n",
    "#### Name: #### \n",
    "* `ebola_survey` - opinion data from the survey of 1,042 New Yorkers.\n",
    "\n",
    "#### Variables: ####\n",
    "* `quarantine` - indicates whether the respondent is in `favor` or `against` the mandatory quarantine\n"
   ]
  },
  {
   "cell_type": "markdown",
   "metadata": {
    "slideshow": {
     "slide_type": "slide"
    }
   },
   "source": [
    "## Getting Started\n",
    "\n",
    "R stores data in data frames, which you might think of as a type of spreadsheet. Each row is a different observation (a different subject) and each column is a different variable."
   ]
  },
  {
   "cell_type": "markdown",
   "metadata": {},
   "source": [
    "Use the `head` function and/or `tail` function and/or `str` function and/or `dim` function and/or `summary` function and/or `names` function to begin exploring the `ebola_survey` dataframe."
   ]
  },
  {
   "cell_type": "code",
   "execution_count": null,
   "metadata": {},
   "outputs": [],
   "source": [
    "head(ebola_survey)"
   ]
  },
  {
   "cell_type": "code",
   "execution_count": null,
   "metadata": {},
   "outputs": [],
   "source": [
    "dim(ebola_survey)"
   ]
  },
  {
   "cell_type": "code",
   "execution_count": null,
   "metadata": {},
   "outputs": [],
   "source": [
    "summary(ebola_survey)"
   ]
  },
  {
   "cell_type": "markdown",
   "metadata": {},
   "source": [
    "### Summarizing sample data"
   ]
  },
  {
   "cell_type": "markdown",
   "metadata": {},
   "source": [
    "#### Numerical summaries"
   ]
  },
  {
   "cell_type": "markdown",
   "metadata": {},
   "source": [
    "The variable of interest is the categorical variable `quarantine`, which records how subjects responded to the question regarding the mandatory quarantine for those exposed to Ebola. Categorical variables may be summarized by considering the counts, or proportion, in each of the categories.  \n",
    "  \n",
    "Use the `table` command below to summarize the variable `quarantine` for all of the subjects in the dataframe."
   ]
  },
  {
   "cell_type": "code",
   "execution_count": null,
   "metadata": {},
   "outputs": [],
   "source": [
    "quarantine_count = table(ebola_survey$quarantine) \n",
    "# counts the number of subjects in each of the categories of the quarantine variable\n",
    "# saves the results in the object quarantine_count\n",
    "quarantine_count\n",
    "# displays the results; the table can be customized to improve its appearance"
   ]
  },
  {
   "cell_type": "markdown",
   "metadata": {},
   "source": [
    "Since the interest is in the proportion of New Yorker adults who are in favor of the mandatory quarantine, we need to estimate this proportion by calculating the proportion of New York adults in the sample who are in favor. The `prop.table` function is an easy way to accomplish this. It takes a table of counts and converts those counts into proportions."
   ]
  },
  {
   "cell_type": "code",
   "execution_count": null,
   "metadata": {},
   "outputs": [],
   "source": [
    "quarantine_prop = prop.table(quarantine_count) \n",
    "# converts table of counts into a table of proportions, or relative frequencies\n",
    "# saves results in the object quarantine_prop\n",
    "quarantine_prop \n",
    "# displays the proportions"
   ]
  },
  {
   "cell_type": "markdown",
   "metadata": {},
   "source": [
    "#### Graphical summaries"
   ]
  },
  {
   "cell_type": "markdown",
   "metadata": {},
   "source": [
    "Bar plots, or bar charts, are a common graphical summary for categorical variables.  \n",
    "  \n",
    "The function `barplot` creates plots based upon the counts in each category, or the proportion in each category, where the height of each bar represents the count, or proportion, in each category. The function requires information regarding count, or proportion, in each category, hence it requires information from the `table` or `prop.table` function.  \n",
    "  \n",
    "Use the `barplot` function to produce a bar plot of the sample proportions in each category. The `barplot` function only requires the data to be graphed, but as with the `plot` function, there are some optional arguments that may be used to customize the bar plot. Some of these optional arguments include:\n",
    "* `xlab` - specify the label for the x-axis, eg xlab = \"Manadatory quarantine\"\n",
    "* `ylab` - specify the label for the y-axis, eg ylab = \"Proportion\"\n",
    "* `ylim` - specify the minimum and maximum value for the y-axis, eg ylim=c(minimum, maximum)\n",
    "* `main` - specify a main title for the graph, eg main = \"Opinion of New Yorkers regarding mandatory quarantine\"\n",
    "\n"
   ]
  },
  {
   "cell_type": "code",
   "execution_count": null,
   "metadata": {},
   "outputs": [],
   "source": [
    "barplot(quarantine_prop, ylab=\"Proportion\", xlab = \"Mandatory quarantine\", main = \"Opinion of New Yorkers regarding mandatory quarantine\" ) \n",
    "#produces barplot of proprtions in each category"
   ]
  },
  {
   "cell_type": "markdown",
   "metadata": {},
   "source": [
    "### Inference on proportions\n",
    "\n",
    "We would like insight into the population parameters. We know what proportion of New York adults in the sample reported being in favor of a mandatory quarantine. This represents a **statistic**. We are interested in the proportion of all New York adults who are in favor of a mandatory quarantine. We need to estimate this **parameter**.\n",
    "\n",
    "The inferential tools for estimating population proportion are confidence interval and hypothesis test."
   ]
  },
  {
   "cell_type": "markdown",
   "metadata": {},
   "source": [
    "#### Confidence intervals"
   ]
  },
  {
   "cell_type": "markdown",
   "metadata": {},
   "source": [
    "#### Recall: Confidence intervals for a population proportion typically rely upon the Central Limit Theorem\n",
    "\n",
    "In order for the Central Limit Theorem to hold:\n",
    "* observations must be independent\n",
    "* sample size must be sufficiently large. \n",
    "\n",
    "The sample size is typically considered sufficiently large when there are at least ten expected success, $np \\ge 10$, and at least ten expected failures, $n(1 -p) \\ge 10$. This is called the success-failure condition. If $p$ is unknown, then we use $\\hat{p}$ and consider the observed successes and failures.\n",
    "\n",
    "**Independence: <br>In this study, we have a simple random sample from the population. The most common way for observations to be considered independent is if they are from a simple random sample.** <br> ***Also require sample size to be less than 10% of the population, which is clearly true in this case, 1042 New Yorkers sampled is much less than 10% of all New York adults.***\n",
    "\n",
    "**Success-Failure: <br>Success: There were 854 respondents in favor of the mandatory quarantine. $854 \\ge 10$ <br> Failure: There were 188 respondents against the mandatory quarantine. $188 \\ge 10$.**"
   ]
  },
  {
   "cell_type": "markdown",
   "metadata": {},
   "source": [
    "If the conditions for inference are reasonable, we can either calculate the standard error, $SE_{\\hat{p}}$ and construct the interval by hand, or allow the `inference` function to do it for us.  \n",
    "  \n",
    "The `inference` function relies upon many arguments. For constructing confidence intervals for proportions, the following arguments are important:\n",
    "* `y` - response variable of interest; in this exercise `ebola_survey$quarantine` records responses to the mandatory quarantine question\n",
    "* `est` - parameter we are interested in: \"mean\", \"median\", or \"proportion\"\n",
    "* `type` - type of inference; confidence interval, \"ci\", or hypothesis test, \"ht\"\n",
    "* `conflevel` - confidence level desired\n",
    "* `method` - method of inference; based upon normal distribution, \"theoretical\", or based on simulation, \"simulation\"\n",
    "* `success` - which level of the categorical variable to call \"success\"; in this exercise the response `favor` represents a success"
   ]
  },
  {
   "cell_type": "markdown",
   "metadata": {},
   "source": [
    "Use the `inference` function to construct a 95% confidence interval for the proportion of New York adults who are in favor of a mandatory quarantine for anyone who has come in contact with an Ebola patient."
   ]
  },
  {
   "cell_type": "code",
   "execution_count": null,
   "metadata": {},
   "outputs": [],
   "source": [
    "inference(y = ebola_survey$quarantine, est = \"proportion\", type = \"ci\", conflevel = 0.95, method = \"theoretical\", success = \"favor\")"
   ]
  },
  {
   "cell_type": "markdown",
   "metadata": {},
   "source": [
    "#### Interpretation: We are 95% confident that between 79.6% and 84.3% of all New York adults are in favor of a mandatory 21-day quarantine for anyone who has come into contact with an Ebola patient."
   ]
  },
  {
   "cell_type": "markdown",
   "metadata": {},
   "source": [
    "#### Question: <br><br>What is the margin of error for the estimate of the proportion of New Yorkers in favor of mandatory quarantine?"
   ]
  },
  {
   "cell_type": "markdown",
   "metadata": {},
   "source": [
    "#### Answer:   <br><br>The confidence interval is $(0.7962,0.8429)$.  <br><br> Since the general form of the confidence interval for a population proportion is $\\hat{p} \\pm \\text{ margin of error}$, then 0.7962 represents $\\hat{p} - \\text{ margin of error}$ and 0.8429 represents  $\\hat{p} + \\text{ margin of error}$.  <br><br>Therefore, the distance between 0.7962 and 0.8429 represents twice the margin of error. <br> <br> $0.8429 - 0.7962 = 0.0467 = 2\\times \\text{ M.E.}$  <br><br> $\\text{ M.E.} = 0.0467 / 2 = 0.02335$"
   ]
  },
  {
   "cell_type": "markdown",
   "metadata": {},
   "source": [
    "#### Exercise: <br><br>Construct a 99% confidence interval for the proportion of New York adults who are in favor of a mandatory 21-day quarantine for anyone who has come in contact with an Ebola patient? Report and interpret the confidence interval."
   ]
  },
  {
   "cell_type": "code",
   "execution_count": null,
   "metadata": {},
   "outputs": [],
   "source": []
  },
  {
   "cell_type": "markdown",
   "metadata": {
    "editable": true,
    "slideshow": {
     "slide_type": ""
    },
    "tags": []
   },
   "source": [
    "<details>\n",
    "\n",
    "<summary><b>Click to view sample code:</b></summary>\n",
    "\n",
    "\n",
    "```\n",
    "inference(y = ebola_survey$quarantine, est = \"proportion\", type = \"ci\", conflevel = 0.99, method = \"theoretical\", success = \"favor\") \n",
    "```\n",
    "\n",
    "\n",
    "</details>"
   ]
  },
  {
   "cell_type": "markdown",
   "metadata": {},
   "source": [
    "#### Answer:   "
   ]
  },
  {
   "cell_type": "markdown",
   "metadata": {
    "editable": true,
    "slideshow": {
     "slide_type": ""
    },
    "tags": []
   },
   "source": [
    "<details>\n",
    "\n",
    "<summary><b>Sample Answer:</b></summary>\n",
    "\n",
    "<br>*The confidence interval is (0.7889, 0.8503). We are 99% confident that between 78.9% and 85.0% of all New York adults are in favor of a mandatory 21-day quarantine for anyone who has come into contact with an Ebola patient.*\n",
    "\n",
    "</details>"
   ]
  },
  {
   "cell_type": "markdown",
   "metadata": {},
   "source": [
    "#### Hypothesis tests"
   ]
  },
  {
   "cell_type": "markdown",
   "metadata": {},
   "source": [
    "There was not a stated hypothesis to be tested in this case. Suppose that a previous study suggested that support for a mandatory quarantine was 0.80 or 80%. However, city officials might believe that recent events have meant that support for a mandatory quarantine has increased. Then the null hypothesis would be that support remains the same as it was before, $p = 0.80$. The  null hypothesis represents the status quo, or no change, and we will stick with this unless there is sufficient evidence in the new survey to reject this. The alternative would be that support has increased, $p > 0.80$. This represents the claim that must be \"proven\" based upon the evidence in the new survey. These hypotheses would be established before any data is collected.\n",
    "\n",
    "The `inference` function may be used to test the hypotheses\n",
    "\n",
    "$H_0: p = 0.8$ vs $H_A: p > 0.8$\n",
    "\n",
    "The `inference` function may be used for hypothesis tests with the appropriate arguments:\n",
    "* `y` - response variable of interest; in this exercise `ebola_survey$quarantine` records responses to the mandatory quarantine question\n",
    "* `est` - parameter we are interested in: \"mean\", \"median\", or \"proportion\"\n",
    "* `type` - type of inference; confidence interval, \"ci\", or hypothesis test, \"ht\"\n",
    "* `null` - the value of the parameter stated in the null hypothesis\n",
    "* `alternative` - the alternative hypothesis is either \"greater\", \"less\", or \"twosided\"\n",
    "* `method` - method of inference; based upon normal distribution, \"theoretical\", or based on simulation, \"simulation\"\n",
    "* `success` - which level of the categorical variable to call \"success\"; in this exercise the response `favor` represents a success"
   ]
  },
  {
   "cell_type": "code",
   "execution_count": null,
   "metadata": {},
   "outputs": [],
   "source": [
    "inference(y = ebola_survey$quarantine, est = \"proportion\", type = \"ht\",  null = 0.80, alternative = \"greater\", method = \"theoretical\", success = \"favor\")"
   ]
  },
  {
   "cell_type": "markdown",
   "metadata": {},
   "source": [
    "#### Question: <br><br>Identify the value of the test statistic and the p-value."
   ]
  },
  {
   "cell_type": "markdown",
   "metadata": {},
   "source": [
    "#### Answer:<br><br> The test statistic is $Z = 1.58$ with an associated p-value of 0.0571. "
   ]
  },
  {
   "cell_type": "markdown",
   "metadata": {},
   "source": [
    "#### Question: <br><br>Is there convincing evidence that more than 80% of New York adults are in favor of a mandatory quarantine?"
   ]
  },
  {
   "cell_type": "markdown",
   "metadata": {},
   "source": [
    "#### Answer: <br><br> A p-value of 0.0571 typically represents moderately strong evidence against the null hypothesis and in favour of the alternative hypothesis that more than 80% of New York adults support a mandatory quarantine. Whether this constitutes convincing evidence depends a bit upon what the city officials had established as convincing evidence prior to conducting the study."
   ]
  },
  {
   "cell_type": "markdown",
   "metadata": {},
   "source": [
    "#### Exercise: <br><br>Suppose that a previous study suggested that support for a mandatory quarantine was 0.85 or 85%. However, city officials might believe that recent events have meant that support for a mandatory quarantine has changed, but they are unsure whether support has increased or decreased. Then the null hypothesis would be that support remains the same as it was before, $p = 0.85$. The alternative would be that support has changed,  $p \\ne 0.85$. This represents the claim that must be \"proven\" based upon the evidence in the new survey. These hypotheses would be established before any data is collected. <br><br> $H_0: p=0.85$ vs $H_A:p \\neq 0.85$ <br><br> Conduct a hypothesis test of this null hypothesis vs this alternative hypothesis. Report the test statistic and p-value."
   ]
  },
  {
   "cell_type": "code",
   "execution_count": null,
   "metadata": {},
   "outputs": [],
   "source": []
  },
  {
   "cell_type": "markdown",
   "metadata": {
    "editable": true,
    "slideshow": {
     "slide_type": ""
    },
    "tags": []
   },
   "source": [
    "<details>\n",
    "\n",
    "<summary><b>Click to view sample code:</b></summary>\n",
    "\n",
    "\n",
    "```\n",
    "inference(y = ebola_survey$quarantine, est = \"proportion\", type = \"ht\",  null = 0.85, alternative = \"twosided\", method = \"theoretical\", success = \"favor\")\n",
    "```\n",
    "\n",
    "\n",
    "</details>"
   ]
  },
  {
   "cell_type": "markdown",
   "metadata": {},
   "source": [
    "#### Answer: "
   ]
  },
  {
   "cell_type": "markdown",
   "metadata": {
    "editable": true,
    "slideshow": {
     "slide_type": ""
    },
    "tags": []
   },
   "source": [
    "<details>\n",
    "\n",
    "<summary><b>Sample Answer:</b></summary>\n",
    "\n",
    "<br>*The test statistic is $Z = -2.75$ with an associated p-value of 0.006.*\n",
    "\n",
    "</details>"
   ]
  },
  {
   "cell_type": "markdown",
   "metadata": {
    "editable": true,
    "slideshow": {
     "slide_type": ""
    },
    "tags": []
   },
   "source": [
    "#### Let’s stop here. \n",
    "\n",
    "#### It is important to save your work, exit the notebook, and logout of syzygy when you are done. Simply closing the window in which you are working will leave the notebook running which can produce some minor problems when you next try to log in.\n",
    "\n",
    "- **Select File > Save Notebook or select the Save icon above to save your work.**\n",
    "- **To exit the notebook, select File > Close and Shutdown Notebook.**\n",
    "- **Select File > Log Out.**"
   ]
  }
 ],
 "metadata": {
  "kernelspec": {
   "display_name": "R",
   "language": "R",
   "name": "ir"
  },
  "language_info": {
   "codemirror_mode": "r",
   "file_extension": ".r",
   "mimetype": "text/x-r-source",
   "name": "R",
   "pygments_lexer": "r",
   "version": "4.3.3"
  }
 },
 "nbformat": 4,
 "nbformat_minor": 4
}
